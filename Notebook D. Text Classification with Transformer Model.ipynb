{
  "nbformat": 4,
  "nbformat_minor": 0,
  "metadata": {
    "colab": {
      "name": "Notebook D. Text Classification with Transformer Model.ipynb",
      "provenance": [],
      "gpuType": "A100",
      "machine_shape": "hm"
    },
    "kernelspec": {
      "name": "python3",
      "display_name": "Python 3"
    },
    "language_info": {
      "name": "python"
    },
    "accelerator": "GPU",
    "widgets": {
      "application/vnd.jupyter.widget-state+json": {}
    }
  },
  "cells": [
    {
      "cell_type": "markdown",
      "metadata": {
        "id": "v122wsZWXYyR"
      },
      "source": [
        "# **Notebook D.** Classification Using a Transformer Model\n",
        "----\n",
        "\n",
        "One of the biggest recent developments in Natural Language Processing has come from the introduction of Transformer models (e.g. *BERT, EARNIE, RoBERTa*, etc.). The idea is that a model is trained on a very large corpus and used to create an embedding represention of words. This \"raw\" model can be downloaded and then fine-tuned (retrained) on our own data.\n",
        "\n",
        "There are several ways to implement these models. Researchers who are most comfortable with Python may start with the **Transformers** library by **HuggingFace** (https://huggingface.co/transformers/). This is the most flexible approach, but it also requires effort for researchers to implement.\n",
        "\n",
        "An alterantive is the **SimpleTransformers** library which is a wrapper for this functionality. This library contains an easy-to-use version of this transformer technique (https://simpletransformers.ai) that is similar to the sklearn commands we have used thus far.\n",
        "\n",
        "This package is not pre-installed with colab. To do this, we need perform the following:\n",
        " - 1) run *!pip install simpletransformers* in the notebook below\n",
        " - 2) Comment out the code by putting a # in front of the line (e.g. *#!pip install simpletransformers*)\n",
        " - 3) Rerun all of the code from the top menu (or hit Ctrl+F9)\n",
        "\n",
        "\n"
      ]
    },
    {
      "cell_type": "markdown",
      "metadata": {
        "id": "UYX023bKr0xo"
      },
      "source": [
        "Models: https://simpletransformers.ai/docs/classification-specifics/#supported-model-types\n",
        "\n",
        "Model Options: https://simpletransformers.ai/docs/usage/#configuring-a-simple-transformers-model\n"
      ]
    },
    {
      "cell_type": "code",
      "metadata": {
        "id": "M_nftgKAkFyG",
        "colab": {
          "base_uri": "https://localhost:8080/"
        },
        "outputId": "036817ce-b167-46a8-c939-2a1f9adb6f09"
      },
      "source": [
        "!pip install Transformers --upgrade"
      ],
      "execution_count": 17,
      "outputs": [
        {
          "metadata": {
            "tags": null
          },
          "name": "stdout",
          "output_type": "stream",
          "text": [
            "Requirement already satisfied: Transformers in /usr/local/lib/python3.12/dist-packages (4.55.4)\n",
            "Requirement already satisfied: filelock in /usr/local/lib/python3.12/dist-packages (from Transformers) (3.19.1)\n",
            "Requirement already satisfied: huggingface-hub<1.0,>=0.34.0 in /usr/local/lib/python3.12/dist-packages (from Transformers) (0.34.4)\n",
            "Requirement already satisfied: numpy>=1.17 in /usr/local/lib/python3.12/dist-packages (from Transformers) (2.0.2)\n",
            "Requirement already satisfied: packaging>=20.0 in /usr/local/lib/python3.12/dist-packages (from Transformers) (25.0)\n",
            "Requirement already satisfied: pyyaml>=5.1 in /usr/local/lib/python3.12/dist-packages (from Transformers) (6.0.2)\n",
            "Requirement already satisfied: regex!=2019.12.17 in /usr/local/lib/python3.12/dist-packages (from Transformers) (2024.11.6)\n",
            "Requirement already satisfied: requests in /usr/local/lib/python3.12/dist-packages (from Transformers) (2.32.4)\n",
            "Requirement already satisfied: tokenizers<0.22,>=0.21 in /usr/local/lib/python3.12/dist-packages (from Transformers) (0.21.4)\n",
            "Requirement already satisfied: safetensors>=0.4.3 in /usr/local/lib/python3.12/dist-packages (from Transformers) (0.6.2)\n",
            "Requirement already satisfied: tqdm>=4.27 in /usr/local/lib/python3.12/dist-packages (from Transformers) (4.67.1)\n",
            "Requirement already satisfied: fsspec>=2023.5.0 in /usr/local/lib/python3.12/dist-packages (from huggingface-hub<1.0,>=0.34.0->Transformers) (2025.3.0)\n",
            "Requirement already satisfied: typing-extensions>=3.7.4.3 in /usr/local/lib/python3.12/dist-packages (from huggingface-hub<1.0,>=0.34.0->Transformers) (4.14.1)\n",
            "Requirement already satisfied: hf-xet<2.0.0,>=1.1.3 in /usr/local/lib/python3.12/dist-packages (from huggingface-hub<1.0,>=0.34.0->Transformers) (1.1.7)\n",
            "Requirement already satisfied: charset_normalizer<4,>=2 in /usr/local/lib/python3.12/dist-packages (from requests->Transformers) (3.4.3)\n",
            "Requirement already satisfied: idna<4,>=2.5 in /usr/local/lib/python3.12/dist-packages (from requests->Transformers) (3.10)\n",
            "Requirement already satisfied: urllib3<3,>=1.21.1 in /usr/local/lib/python3.12/dist-packages (from requests->Transformers) (2.5.0)\n",
            "Requirement already satisfied: certifi>=2017.4.17 in /usr/local/lib/python3.12/dist-packages (from requests->Transformers) (2025.8.3)\n"
          ]
        }
      ]
    },
    {
      "cell_type": "code",
      "source": [
        "!pip install simpletransformers"
      ],
      "metadata": {
        "colab": {
          "base_uri": "https://localhost:8080/"
        },
        "id": "C10Acx8QET2D",
        "outputId": "91fb186d-4913-4af6-ff9c-5997c3c310c3"
      },
      "execution_count": 18,
      "outputs": [
        {
          "metadata": {
            "tags": null
          },
          "name": "stdout",
          "output_type": "stream",
          "text": [
            "Requirement already satisfied: simpletransformers in /usr/local/lib/python3.12/dist-packages (0.70.5)\n",
            "Requirement already satisfied: numpy in /usr/local/lib/python3.12/dist-packages (from simpletransformers) (2.0.2)\n",
            "Requirement already satisfied: requests in /usr/local/lib/python3.12/dist-packages (from simpletransformers) (2.32.4)\n",
            "Requirement already satisfied: tqdm>=4.47.0 in /usr/local/lib/python3.12/dist-packages (from simpletransformers) (4.67.1)\n",
            "Requirement already satisfied: regex in /usr/local/lib/python3.12/dist-packages (from simpletransformers) (2024.11.6)\n",
            "Requirement already satisfied: transformers>=4.31.0 in /usr/local/lib/python3.12/dist-packages (from simpletransformers) (4.55.4)\n",
            "Requirement already satisfied: datasets in /usr/local/lib/python3.12/dist-packages (from simpletransformers) (4.0.0)\n",
            "Requirement already satisfied: scipy in /usr/local/lib/python3.12/dist-packages (from simpletransformers) (1.16.1)\n",
            "Requirement already satisfied: scikit-learn in /usr/local/lib/python3.12/dist-packages (from simpletransformers) (1.6.1)\n",
            "Requirement already satisfied: seqeval in /usr/local/lib/python3.12/dist-packages (from simpletransformers) (1.2.2)\n",
            "Requirement already satisfied: tensorboard in /usr/local/lib/python3.12/dist-packages (from simpletransformers) (2.19.0)\n",
            "Requirement already satisfied: tensorboardx in /usr/local/lib/python3.12/dist-packages (from simpletransformers) (2.6.4)\n",
            "Requirement already satisfied: pandas in /usr/local/lib/python3.12/dist-packages (from simpletransformers) (2.2.2)\n",
            "Requirement already satisfied: tokenizers in /usr/local/lib/python3.12/dist-packages (from simpletransformers) (0.21.4)\n",
            "Requirement already satisfied: wandb>=0.10.32 in /usr/local/lib/python3.12/dist-packages (from simpletransformers) (0.21.1)\n",
            "Requirement already satisfied: streamlit in /usr/local/lib/python3.12/dist-packages (from simpletransformers) (1.49.0)\n",
            "Requirement already satisfied: sentencepiece in /usr/local/lib/python3.12/dist-packages (from simpletransformers) (0.2.1)\n",
            "Requirement already satisfied: filelock in /usr/local/lib/python3.12/dist-packages (from transformers>=4.31.0->simpletransformers) (3.19.1)\n",
            "Requirement already satisfied: huggingface-hub<1.0,>=0.34.0 in /usr/local/lib/python3.12/dist-packages (from transformers>=4.31.0->simpletransformers) (0.34.4)\n",
            "Requirement already satisfied: packaging>=20.0 in /usr/local/lib/python3.12/dist-packages (from transformers>=4.31.0->simpletransformers) (25.0)\n",
            "Requirement already satisfied: pyyaml>=5.1 in /usr/local/lib/python3.12/dist-packages (from transformers>=4.31.0->simpletransformers) (6.0.2)\n",
            "Requirement already satisfied: safetensors>=0.4.3 in /usr/local/lib/python3.12/dist-packages (from transformers>=4.31.0->simpletransformers) (0.6.2)\n",
            "Requirement already satisfied: click!=8.0.0,>=7.1 in /usr/local/lib/python3.12/dist-packages (from wandb>=0.10.32->simpletransformers) (8.2.1)\n",
            "Requirement already satisfied: gitpython!=3.1.29,>=1.0.0 in /usr/local/lib/python3.12/dist-packages (from wandb>=0.10.32->simpletransformers) (3.1.45)\n",
            "Requirement already satisfied: platformdirs in /usr/local/lib/python3.12/dist-packages (from wandb>=0.10.32->simpletransformers) (4.3.8)\n",
            "Requirement already satisfied: protobuf!=4.21.0,!=5.28.0,<7,>=3.19.0 in /usr/local/lib/python3.12/dist-packages (from wandb>=0.10.32->simpletransformers) (5.29.5)\n",
            "Requirement already satisfied: pydantic<3 in /usr/local/lib/python3.12/dist-packages (from wandb>=0.10.32->simpletransformers) (2.11.7)\n",
            "Requirement already satisfied: sentry-sdk>=2.0.0 in /usr/local/lib/python3.12/dist-packages (from wandb>=0.10.32->simpletransformers) (2.35.0)\n",
            "Requirement already satisfied: typing-extensions<5,>=4.8 in /usr/local/lib/python3.12/dist-packages (from wandb>=0.10.32->simpletransformers) (4.14.1)\n",
            "Requirement already satisfied: charset_normalizer<4,>=2 in /usr/local/lib/python3.12/dist-packages (from requests->simpletransformers) (3.4.3)\n",
            "Requirement already satisfied: idna<4,>=2.5 in /usr/local/lib/python3.12/dist-packages (from requests->simpletransformers) (3.10)\n",
            "Requirement already satisfied: urllib3<3,>=1.21.1 in /usr/local/lib/python3.12/dist-packages (from requests->simpletransformers) (2.5.0)\n",
            "Requirement already satisfied: certifi>=2017.4.17 in /usr/local/lib/python3.12/dist-packages (from requests->simpletransformers) (2025.8.3)\n",
            "Requirement already satisfied: pyarrow>=15.0.0 in /usr/local/lib/python3.12/dist-packages (from datasets->simpletransformers) (18.1.0)\n",
            "Requirement already satisfied: dill<0.3.9,>=0.3.0 in /usr/local/lib/python3.12/dist-packages (from datasets->simpletransformers) (0.3.8)\n",
            "Requirement already satisfied: xxhash in /usr/local/lib/python3.12/dist-packages (from datasets->simpletransformers) (3.5.0)\n",
            "Requirement already satisfied: multiprocess<0.70.17 in /usr/local/lib/python3.12/dist-packages (from datasets->simpletransformers) (0.70.16)\n",
            "Requirement already satisfied: fsspec<=2025.3.0,>=2023.1.0 in /usr/local/lib/python3.12/dist-packages (from fsspec[http]<=2025.3.0,>=2023.1.0->datasets->simpletransformers) (2025.3.0)\n",
            "Requirement already satisfied: python-dateutil>=2.8.2 in /usr/local/lib/python3.12/dist-packages (from pandas->simpletransformers) (2.9.0.post0)\n",
            "Requirement already satisfied: pytz>=2020.1 in /usr/local/lib/python3.12/dist-packages (from pandas->simpletransformers) (2025.2)\n",
            "Requirement already satisfied: tzdata>=2022.7 in /usr/local/lib/python3.12/dist-packages (from pandas->simpletransformers) (2025.2)\n",
            "Requirement already satisfied: joblib>=1.2.0 in /usr/local/lib/python3.12/dist-packages (from scikit-learn->simpletransformers) (1.5.1)\n",
            "Requirement already satisfied: threadpoolctl>=3.1.0 in /usr/local/lib/python3.12/dist-packages (from scikit-learn->simpletransformers) (3.6.0)\n",
            "Requirement already satisfied: altair!=5.4.0,!=5.4.1,<6,>=4.0 in /usr/local/lib/python3.12/dist-packages (from streamlit->simpletransformers) (5.5.0)\n",
            "Requirement already satisfied: blinker<2,>=1.5.0 in /usr/local/lib/python3.12/dist-packages (from streamlit->simpletransformers) (1.9.0)\n",
            "Requirement already satisfied: cachetools<7,>=4.0 in /usr/local/lib/python3.12/dist-packages (from streamlit->simpletransformers) (5.5.2)\n",
            "Requirement already satisfied: pillow<12,>=7.1.0 in /usr/local/lib/python3.12/dist-packages (from streamlit->simpletransformers) (11.3.0)\n",
            "Requirement already satisfied: tenacity<10,>=8.1.0 in /usr/local/lib/python3.12/dist-packages (from streamlit->simpletransformers) (8.5.0)\n",
            "Requirement already satisfied: toml<2,>=0.10.1 in /usr/local/lib/python3.12/dist-packages (from streamlit->simpletransformers) (0.10.2)\n",
            "Requirement already satisfied: watchdog<7,>=2.1.5 in /usr/local/lib/python3.12/dist-packages (from streamlit->simpletransformers) (6.0.0)\n",
            "Requirement already satisfied: pydeck<1,>=0.8.0b4 in /usr/local/lib/python3.12/dist-packages (from streamlit->simpletransformers) (0.9.1)\n",
            "Requirement already satisfied: tornado!=6.5.0,<7,>=6.0.3 in /usr/local/lib/python3.12/dist-packages (from streamlit->simpletransformers) (6.4.2)\n",
            "Requirement already satisfied: absl-py>=0.4 in /usr/local/lib/python3.12/dist-packages (from tensorboard->simpletransformers) (1.4.0)\n",
            "Requirement already satisfied: grpcio>=1.48.2 in /usr/local/lib/python3.12/dist-packages (from tensorboard->simpletransformers) (1.74.0)\n",
            "Requirement already satisfied: markdown>=2.6.8 in /usr/local/lib/python3.12/dist-packages (from tensorboard->simpletransformers) (3.8.2)\n",
            "Requirement already satisfied: setuptools>=41.0.0 in /usr/local/lib/python3.12/dist-packages (from tensorboard->simpletransformers) (75.2.0)\n",
            "Requirement already satisfied: six>1.9 in /usr/local/lib/python3.12/dist-packages (from tensorboard->simpletransformers) (1.17.0)\n",
            "Requirement already satisfied: tensorboard-data-server<0.8.0,>=0.7.0 in /usr/local/lib/python3.12/dist-packages (from tensorboard->simpletransformers) (0.7.2)\n",
            "Requirement already satisfied: werkzeug>=1.0.1 in /usr/local/lib/python3.12/dist-packages (from tensorboard->simpletransformers) (3.1.3)\n",
            "Requirement already satisfied: jinja2 in /usr/local/lib/python3.12/dist-packages (from altair!=5.4.0,!=5.4.1,<6,>=4.0->streamlit->simpletransformers) (3.1.6)\n",
            "Requirement already satisfied: jsonschema>=3.0 in /usr/local/lib/python3.12/dist-packages (from altair!=5.4.0,!=5.4.1,<6,>=4.0->streamlit->simpletransformers) (4.25.1)\n",
            "Requirement already satisfied: narwhals>=1.14.2 in /usr/local/lib/python3.12/dist-packages (from altair!=5.4.0,!=5.4.1,<6,>=4.0->streamlit->simpletransformers) (2.1.2)\n",
            "Requirement already satisfied: aiohttp!=4.0.0a0,!=4.0.0a1 in /usr/local/lib/python3.12/dist-packages (from fsspec[http]<=2025.3.0,>=2023.1.0->datasets->simpletransformers) (3.12.15)\n",
            "Requirement already satisfied: gitdb<5,>=4.0.1 in /usr/local/lib/python3.12/dist-packages (from gitpython!=3.1.29,>=1.0.0->wandb>=0.10.32->simpletransformers) (4.0.12)\n",
            "Requirement already satisfied: hf-xet<2.0.0,>=1.1.3 in /usr/local/lib/python3.12/dist-packages (from huggingface-hub<1.0,>=0.34.0->transformers>=4.31.0->simpletransformers) (1.1.7)\n",
            "Requirement already satisfied: annotated-types>=0.6.0 in /usr/local/lib/python3.12/dist-packages (from pydantic<3->wandb>=0.10.32->simpletransformers) (0.7.0)\n",
            "Requirement already satisfied: pydantic-core==2.33.2 in /usr/local/lib/python3.12/dist-packages (from pydantic<3->wandb>=0.10.32->simpletransformers) (2.33.2)\n",
            "Requirement already satisfied: typing-inspection>=0.4.0 in /usr/local/lib/python3.12/dist-packages (from pydantic<3->wandb>=0.10.32->simpletransformers) (0.4.1)\n",
            "Requirement already satisfied: MarkupSafe>=2.1.1 in /usr/local/lib/python3.12/dist-packages (from werkzeug>=1.0.1->tensorboard->simpletransformers) (3.0.2)\n",
            "Requirement already satisfied: aiohappyeyeballs>=2.5.0 in /usr/local/lib/python3.12/dist-packages (from aiohttp!=4.0.0a0,!=4.0.0a1->fsspec[http]<=2025.3.0,>=2023.1.0->datasets->simpletransformers) (2.6.1)\n",
            "Requirement already satisfied: aiosignal>=1.4.0 in /usr/local/lib/python3.12/dist-packages (from aiohttp!=4.0.0a0,!=4.0.0a1->fsspec[http]<=2025.3.0,>=2023.1.0->datasets->simpletransformers) (1.4.0)\n",
            "Requirement already satisfied: attrs>=17.3.0 in /usr/local/lib/python3.12/dist-packages (from aiohttp!=4.0.0a0,!=4.0.0a1->fsspec[http]<=2025.3.0,>=2023.1.0->datasets->simpletransformers) (25.3.0)\n",
            "Requirement already satisfied: frozenlist>=1.1.1 in /usr/local/lib/python3.12/dist-packages (from aiohttp!=4.0.0a0,!=4.0.0a1->fsspec[http]<=2025.3.0,>=2023.1.0->datasets->simpletransformers) (1.7.0)\n",
            "Requirement already satisfied: multidict<7.0,>=4.5 in /usr/local/lib/python3.12/dist-packages (from aiohttp!=4.0.0a0,!=4.0.0a1->fsspec[http]<=2025.3.0,>=2023.1.0->datasets->simpletransformers) (6.6.4)\n",
            "Requirement already satisfied: propcache>=0.2.0 in /usr/local/lib/python3.12/dist-packages (from aiohttp!=4.0.0a0,!=4.0.0a1->fsspec[http]<=2025.3.0,>=2023.1.0->datasets->simpletransformers) (0.3.2)\n",
            "Requirement already satisfied: yarl<2.0,>=1.17.0 in /usr/local/lib/python3.12/dist-packages (from aiohttp!=4.0.0a0,!=4.0.0a1->fsspec[http]<=2025.3.0,>=2023.1.0->datasets->simpletransformers) (1.20.1)\n",
            "Requirement already satisfied: smmap<6,>=3.0.1 in /usr/local/lib/python3.12/dist-packages (from gitdb<5,>=4.0.1->gitpython!=3.1.29,>=1.0.0->wandb>=0.10.32->simpletransformers) (5.0.2)\n",
            "Requirement already satisfied: jsonschema-specifications>=2023.03.6 in /usr/local/lib/python3.12/dist-packages (from jsonschema>=3.0->altair!=5.4.0,!=5.4.1,<6,>=4.0->streamlit->simpletransformers) (2025.4.1)\n",
            "Requirement already satisfied: referencing>=0.28.4 in /usr/local/lib/python3.12/dist-packages (from jsonschema>=3.0->altair!=5.4.0,!=5.4.1,<6,>=4.0->streamlit->simpletransformers) (0.36.2)\n",
            "Requirement already satisfied: rpds-py>=0.7.1 in /usr/local/lib/python3.12/dist-packages (from jsonschema>=3.0->altair!=5.4.0,!=5.4.1,<6,>=4.0->streamlit->simpletransformers) (0.27.0)\n"
          ]
        }
      ]
    },
    {
      "cell_type": "code",
      "metadata": {
        "id": "njhTlI1brsW4"
      },
      "source": [
        "# Load the Simple Transformers Package for Text Classification\n",
        "\n",
        "from simpletransformers.classification import ClassificationModel"
      ],
      "execution_count": 19,
      "outputs": []
    },
    {
      "cell_type": "code",
      "metadata": {
        "id": "wYJNIu0MsV_-"
      },
      "source": [
        "# Turn of warnings, just to avoid pesky messages that might cause confusion here\n",
        "# Remove when testing your own code #\n",
        "import warnings\n",
        "warnings.filterwarnings(\"ignore\")"
      ],
      "execution_count": 20,
      "outputs": []
    },
    {
      "cell_type": "code",
      "metadata": {
        "id": "zFK-6y-utsGF"
      },
      "source": [
        "import logging\n",
        "\n",
        "logging.basicConfig(level=logging.ERROR)\n",
        "transformers_logger = logging.getLogger(\"transformers\")\n",
        "transformers_logger.setLevel(logging.ERROR)"
      ],
      "execution_count": 21,
      "outputs": []
    },
    {
      "cell_type": "markdown",
      "metadata": {
        "id": "z7pNU-UvaR-1"
      },
      "source": [
        "# D.1. Preamble: Load Packages\n",
        "---"
      ]
    },
    {
      "cell_type": "code",
      "metadata": {
        "id": "Jcub0qN1SvYt"
      },
      "source": [
        "# General Packages #\n",
        "import os\n",
        "import pandas as pd\n",
        "import numpy as np\n",
        "\n",
        "# TQDM to Show Progress Bars #\n",
        "from tqdm import tqdm\n",
        "from tqdm.notebook import tqdm as tqdm_notebook\n",
        "\n",
        "# SKLearn libraries for splitting sample and validation\n",
        "from sklearn.model_selection import train_test_split, StratifiedShuffleSplit, StratifiedKFold, cross_val_predict\n",
        "from sklearn.metrics import accuracy_score, roc_auc_score, precision_score, recall_score, f1_score, confusion_matrix, classification_report\n",
        "\n",
        "# Additional Libraries that we are using only in this notebook\n",
        "import torch\n",
        "import gc"
      ],
      "execution_count": 22,
      "outputs": []
    },
    {
      "cell_type": "code",
      "metadata": {
        "id": "V1iD6MGr2ZS4"
      },
      "source": [
        "# Turn of warnings, just to avoid pesky messages that might cause confusion here\n",
        "# Remove when testing your own code #\n",
        "import warnings\n",
        "warnings.filterwarnings(\"ignore\")"
      ],
      "execution_count": 23,
      "outputs": []
    },
    {
      "cell_type": "code",
      "metadata": {
        "colab": {
          "base_uri": "https://localhost:8080/"
        },
        "id": "EpKLFW99S1Sz",
        "outputId": "763face4-e004-4d2d-a9c4-f44b7e475c7b"
      },
      "source": [
        "# Mount Personal Google Drive on own Machine -- You have to follow the link to log in #\n",
        "from google.colab import drive\n",
        "drive.mount('/content/drive')"
      ],
      "execution_count": 24,
      "outputs": [
        {
          "metadata": {
            "tags": null
          },
          "name": "stdout",
          "output_type": "stream",
          "text": [
            "Drive already mounted at /content/drive; to attempt to forcibly remount, call drive.mount(\"/content/drive\", force_remount=True).\n"
          ]
        }
      ]
    },
    {
      "cell_type": "markdown",
      "metadata": {
        "id": "Vox5HvcuMA86"
      },
      "source": [
        "# D.2. Load Training Data ##\n",
        "----------------\n",
        "\n",
        "We are going to use the data on the Google drive. This is in a csv file, and so we are going to load the data as a dataframe, and then convert the main data (Patent Ids, Indicator for AI / Non-AI, Patent Abstract) from a Pandas DataFrame to a list (which is more easily used in later sections)."
      ]
    },
    {
      "cell_type": "code",
      "metadata": {
        "id": "fW210OQ2TV29"
      },
      "source": [
        "# Change to Working Directory with Training Data #\n",
        "os.chdir(\"/content/drive/MyDrive/USPTO_data\")\n",
        "\n",
        "# Load Training Data #\n",
        "TrainingData = pd.read_csv(\"./Training_Data/4K Patents - AI 20p.csv\")\n",
        "\n",
        "# Store Data in Lists for Text Classification #\n",
        "IDs = np.array(TrainingData['app number'].values.tolist())\n",
        "Abstract_Text = TrainingData['abstract'].values.tolist()\n",
        "Classes = TrainingData['actual'].values.tolist()"
      ],
      "execution_count": 25,
      "outputs": []
    },
    {
      "cell_type": "markdown",
      "metadata": {
        "id": "PLD0K-KIztQV"
      },
      "source": [
        "# D.3. Perform Classification with Transformer Model\n",
        "---\n",
        "\n",
        "As before, we are going to go through different models and compare their performance. Recall that transformer models are pre-trained by an external entity and we are simply downloading them (pre-trained) from the web and fine tuning them our particular application.\n",
        "\n",
        "We download these models from hugging face. We are using the simpletransformers library which allows us to automatically download and train these models, using the same basic command for different models. We simply need to specify the model architecture (e.g. BERT) and then specific model, which usually refers to the type of data it was trained on (e.g. bert-base-uncased).\n",
        "\n",
        "In the following link you can see the possible models that can be used by simple-transformers.\n",
        "\n",
        "* https://simpletransformers.ai/docs/classification-specifics/#supported-model-types\n",
        "\n",
        "This refers to the model type or architecture. There might be various types of models trained for different purposes that use the same architecture (e.g. SciBERT). You can downlaod the most common models directly from huggingface:\n",
        "\n",
        "* https://huggingface.co/transformers/pretrained_models.html\n",
        "\n",
        "You can also download community models here:\n",
        "\n",
        "* https://huggingface.co/models\n",
        "\n",
        "Below we define a list of the different transformer models we are going to use. These are listed in the following order: Name (e.g. BERT), Architecture (e.g. bert), Specific Model (e.g. bert-base-uncased)\n"
      ]
    },
    {
      "cell_type": "code",
      "source": [
        "# ===== Stable, no-freeze rewrite =====\n",
        "import os, gc, torch, numpy as np, pandas as pd\n",
        "from tqdm.auto import tqdm\n",
        "os.environ[\"TOKENIZERS_PARALLELISM\"] = \"false\"   # 避免分词并行卡住\n",
        "\n",
        "from simpletransformers.classification import ClassificationModel\n",
        "from sklearn.model_selection import StratifiedKFold\n",
        "from sklearn.metrics import accuracy_score, precision_score, recall_score, f1_score, roc_auc_score, confusion_matrix\n",
        "from sklearn.utils.class_weight import compute_class_weight"
      ],
      "metadata": {
        "id": "j-A0LSmImRJ7"
      },
      "execution_count": 26,
      "outputs": []
    },
    {
      "cell_type": "code",
      "metadata": {
        "id": "6n23xeZr80Ug"
      },
      "source": [
        "# ✅ 严格按 simpletransformers 支持的 model_type（classification-specifics）\n",
        "CLASSIFIERS = [\n",
        "    [\"BERT\",        \"bert\",        \"bert-base-uncased\"],\n",
        "    [\"RoBERTa\",     \"roberta\",     \"roberta-base\"],\n",
        "    [\"DeBERTa\",     \"deberta\",     \"microsoft/deberta-base\"],          # v1 架构，对应 model_type='deberta'\n",
        "    # [\"Longformer\",  \"longformer\",  \"allenai/longformer-base-4096\"],    # 长序列\n",
        "    [\"BigBird\",     \"bigbird\",     \"google/bigbird-roberta-base\"],     # 长序列\n",
        "    [\"DistilBERT\",  \"distilbert\",  \"distilbert-base-uncased\"],\n",
        "    [\"ALBERT\",      \"albert\",      \"albert-base-v2\"],\n",
        "    [\"SciBERT\",     \"bert\",        \"allenai/scibert_scivocab_uncased\"],# 属于 BERT 架构\n",
        "    [\"PatentBERT\",  \"bert\",        \"anferico/bert-for-patents\"],       # 属于 BERT 架构\n",
        "    [\"BioBERT\",     \"bert\",        \"dmis-lab/biobert-v1.1\"],           # 属于 BERT 架构\n",
        "    [\"XLNet\",       \"xlnet\",       \"xlnet-base-cased\"],\n",
        "    [\"ELECTRA\",     \"electra\",     \"google/electra-base-discriminator\"],\n",
        "]\n"
      ],
      "execution_count": 27,
      "outputs": []
    },
    {
      "cell_type": "code",
      "metadata": {
        "id": "QJgOSVsRzjE1",
        "colab": {
          "base_uri": "https://localhost:8080/",
          "height": 1000,
          "referenced_widgets": [
            "3e58f225d8dd47e095623d3fb4364e8f",
            "9f7e7435924d4554ade24f727ff7f497",
            "fb55bad043fa41059ca73107d700201f",
            "8e8d401a423a4a078ed3a737b63ebaac",
            "3bc1da9fba4142e793241e423e59fb10",
            "df8cbe61aee946b8a4c10532c06a3190",
            "91e6b98a09564bc9bbe1ebb81e621d70",
            "e22de5e792034d7b8c5d674d8ea6678e",
            "4aa57058f98a4f3aa75a73c00eeda938",
            "20ff799022ea4b3cb956a9061415e78d",
            "460700deeebd4e7892ca1bcaf00671b7",
            "066dad9670884f2fac7fafa804be256e",
            "217d2b921298452bb38f0e5b17c81ffe",
            "61f6b4c0f8b94eb48a467d95b60f1038",
            "609009e9a49644178fe722a6ceb75198",
            "764c5e1a42c74e50b6892877d30bbc26",
            "c6b5296ff7944f84bcfe8f36a3a24836",
            "17f9e2aed0e64542a95c7c2ede7c197f",
            "033205cef1d942b5a50076db20dbaf33",
            "866b8401b3b34784856a2b8d3297858e",
            "54715e505778486696e002ed767408e5",
            "f3343db3466642b6bf3baab1101788f1",
            "2d65ea574ab84320973a06155613410a",
            "67b73a0bb64246d2af10dcb63974954b",
            "b3e3bc0977004fe28504c71a0bc46b86",
            "f40f3c6d9e504f2dabdd1c79733da5a0",
            "b539c31d599b4e66bbfe997afcd82075",
            "21d549ee0ede4bb0bcd0e774d90abe1f",
            "a75831c75ce845e883962c4d3101ae85",
            "11dc18937b384d618c3cfc366902d1e0",
            "c038854572ed4ffd9a2e1edab697e965",
            "939a0743b4b64738876dff9bd3f9d02e",
            "ba13c9c2aec84afcbd02c32aad36eace",
            "cb14c2792efd4511a5dce703fdeaff51",
            "df027e58deb94e33bf01b49c35eaa498",
            "2bc825dc67584d78b9272d1398814acd",
            "2df157e4e23546cba1d9cb640aeafe55",
            "68829aa47b7f4f0a9891cc211ad3ecfc",
            "b2a9e264249342e1adb451d755fb654a",
            "9d2ed39961464f40a52381c1477f163f",
            "88291d324f034a1eb56df6654e0b7a6a",
            "d61088e5667544fb8ce786bf84490d05",
            "dbdbf40d1693427189afe340f9d4c8a1",
            "e182ffe13ac448f9bae962ccd9c0025a",
            "8dfcb855dabe4725a61567c1f64ba496",
            "5f5af45de47d4397866dfc6aefd5e67d",
            "203e2b500b2143d2b51539070a4562e7",
            "e160ce71f521466b830edf66b78c659d",
            "440fd819071c45339d9e540a43de5cd9",
            "9415495048cd4467824bd8033e05b7ae",
            "fded62dbca3b4b7a84c30de8ad4e2137",
            "052e9de73c2d4ebd86de7eb75ad80c21",
            "6732ec3a573c487782bb00ff61809b6c",
            "b0d7ae41b7be4b5e98361cdd34a7163d",
            "e5b049df2cc14a5daac8ca9a28303435",
            "eb9a76d728494c33b75eb4017db53710",
            "e03ec3d0654f4bfa81078a7c15b2bb62",
            "32d5ea579f554414b0ce31b937b05ee0",
            "da73ade277fb469397a867baf341342a",
            "f4f1e0132c414b16a747163c13549fa0",
            "54fd2cf809ff417c93109e763fffc5c1",
            "6472dedaa7af423eb2212eca15a04ab1",
            "d99b7b86055749a4bd7cb4237db674c6",
            "b49b5ecb463742fd8132b0cd6e9ad2f3",
            "8b43cb664fec44edb0fb824c02ce850d",
            "e0c687dc031c4b16970a18527edd9eb3",
            "998e8e4dc4a3468ab508394a1ba92430",
            "405dbbf590144db7aafda497cb230f96",
            "267ebc64839d43768e782414bca929ba",
            "b18e823262b1467bacc0c1cd39ffa854",
            "ac664458d8f64abeadaa167f31d4a48e",
            "726c418662104ef1924d30d72db77ee4",
            "4f4f03ae72e648aaafa7d63878db4913",
            "75fba05d37d84f8e85528b86fb8c964b",
            "864523e7f4124bf3925ed4933282e94b",
            "b4af49fc31354d538a78fe1a32f1b837",
            "f311eacbf233464b85780b8b329e9c15",
            "f64d369c0eca4ca1a3a9235f689d11a0",
            "8c4566e7b31e4ece876c2f4b2d201ca0",
            "1f073b2995a841f4ba829f6a7a2d7cca",
            "69db9fb5c72a45e9b834cae8b364aea0",
            "77d9c7baf9c04113a6452184cb9c4759",
            "431a8bac28c443e5845b121fbaf3de37",
            "8a20ecef23794888bbb374440c3f1e5d",
            "598aeac3d13446019bc387fea1618eec",
            "249a8847039240ea86290c7495a13454",
            "387f956dde964fd684a0c0e48338cc77",
            "77a38acdb8d047309006b44969872cb3",
            "e7a2bc4b771b4c6d958c439d8abfc39c",
            "52475dee9fa1462bb11df81e436a0cb8",
            "93a7be3f3ea4488eb55781e9f2521842",
            "44e45cc21c43411ab16df4c600655ccf",
            "f67d15e30590428caa641e271f4f032f",
            "a05c747132e1487a84c2f5c2d2bc9784",
            "40876bec44754ed3be89618d42ee943a",
            "201d84ac6b7d41bc949d21bedc8ebd32",
            "b0a0a84048b44f4a865ed829ed4a9005",
            "f1dce8611d704e3086054f6ce494701b",
            "a633cfc83bbe44c49b9e26ab8318159f",
            "fa5f5f30a1204459a071d797376288e4",
            "f1b6c742f61d485885bd14230d771161",
            "9803a4272e3447a2b751bb6a6c7ad58d",
            "77f61d4d2af44ae4b19a407ecadd5599",
            "f5468c9e1c16400c8231cb7c40d423ce",
            "83ac8011c26842d1a143f9aa96b46926",
            "ebdbab169c254c8286aa01f28696778d",
            "87d69423271c44d4b47365e906e163d4",
            "d8d7ac362eed4a0983cc1e7f5a7c5d63",
            "78f1152b4eb94667b4e3095cb25f866e",
            "381210cc04234808981da7c2a0d33632",
            "85fbd514b8764c81a529cdec4c4ab159",
            "6af7e5aebed44641a894667a74b56714",
            "d4a13c21dfdb44be8d1871796bbc501f",
            "4227015d49794a9a903b47e2984b56a9",
            "bbb643ef281b4f50ba4a1672efd4ef2a",
            "34c9c7ac6d994101bd9c9ae310617c7b",
            "09e4601d1e794cd7a50ea3f982559f8c",
            "02f72c5af73a4f2584e6ab1c19c96811",
            "176d96a0f20a465aa8c80f806f3c7bfd",
            "a9631798b6b04ae592da9e5ba458aa5b",
            "e2b9b1d0a832457bac1fa5839b386bf3",
            "0be397e3069b4ac8bd4e1dce54d7b0d2",
            "03c03c9f10654ec5b660822f7481a5de",
            "6cdd2ae8f4344f70a7e51b2622319ed6",
            "3b563b6a085e45468ac83c50dfc2181e",
            "6599df2e001242b696a2981c9adb5dc4",
            "39fecca8ad5f45499744ab80b61fa21b",
            "c46d7b30cc924824b9ada771ac090bca",
            "49044286250747b880b3d286d272f502",
            "426d0165506044e484ef3f34ffd1a412",
            "b569e3a4038246f0b3ab223c1c5d514b",
            "8d70f58484a34d1d863439e4c31d21e7",
            "24684159d521481383b4ffd25ee59a62",
            "c681e096cc4c4415ad97a9960647284f",
            "8ce726f0df424fc9be705f9d2c07e36a",
            "90e708d4664649ca8c0da48549ffa403",
            "c118ea158da945c0a273866b940ec985",
            "f4999277a9bd40f8a28b905778612a4b",
            "7af44f7b45be4b6fb1d37e9e64ce15d2",
            "41117346baca4cb6b9f70fc7b903ab96",
            "c2a8f1ce4ac7409185ae7213a0b75b30",
            "0d3e9c965cac4f168eba14b2127d2659",
            "c9aa03293b384951b12b92cf2df1c552",
            "c5c2dcb000ec4464acd7380ded4c9d01",
            "36cb6faae95e4a05ad2620141cdcd304",
            "52f6cc797f574fcf9b36e8d443ccb4d6",
            "311dc3097a4c4273accffa00753da2df",
            "e343cacda72b4f44ba5396258066bdeb",
            "af2e4466d71640ab8527decd604d0cfd",
            "7bcec441a0b14e19a43ac8e8f91ae377",
            "85886d83b0554be7a409be3ddf0e3aa6",
            "208e0dfc562144c19050b814d06d2aba",
            "fd2793d6da9f4bba94e308b673d6e311",
            "b69089c447904350832cd8178d121ce4",
            "097931e44d004ae59f31e1603455c932",
            "0ac9854f307e4460a308dba0ddfb73ff",
            "5afa1f56cdea4d65a05ef23b35c3388f",
            "b04d778adcde4890a03a572f6a972817",
            "8ea3ceb907fc4d48988b3c5ecf73c581",
            "962076d955a94e88b80db9aa3db9c662",
            "50992a638ead4758bbc973cecb5b04b4",
            "6c9649f6fd134ad7a6359889e82982eb",
            "3359cd97225d4b9eb3e138ee115d8631",
            "aaf3fca2cdce450aa06e5d72f8223cb5",
            "dc1d2ebd229f43539f11def8fd593a9d",
            "1501d09e83b942f1b83fdc238a315cd9",
            "ef11e467fc964cab98460e506bf6a164",
            "0800bf9ad1be46c3b173d189aaaa9e3f",
            "638d8400f0cb471bb58f1eb28902ff88",
            "f002b1a842084f489465c0c88866bd42",
            "585c0010d1ea4fa9a5fb4aca942e80bf",
            "19c5fa0b1e284cdc94d73c3cbbd02464",
            "c96bdc4ef8204d14a4652c0e71d28c78",
            "b4d315a7e9854fa3a033ba145063f7cd",
            "ad9ab6e7b97843dcb5f600ae2d89c865",
            "3ebb1eeec356449a9754f438d53a4f16",
            "bd6518a100484b13be1f9a4f832928d9",
            "3ad667b0d9464313a256cac8c6176ca6",
            "56bbce5f3f054616ba7e63eb3f080969",
            "72320e73cf1e4ad3b3c901ea21034e00",
            "2e1983949d93443380e4af4e3a2c92e9",
            "9235271026d9478ba78e2db79b225836",
            "e94fe3c0f70848e99e09dd1d7ade24f7",
            "ca64407e749d49149b69d7a64496e737",
            "a641e148fefc4a038b83a3b16c27547f",
            "bad9f8ff308b444c984c719cf2d62769",
            "ccd45c84baec439aadc8b7f037ab8bbf",
            "c254a464db7e4d48a51399647884e3b3",
            "685741d688064ccf813e86d1a518bcd2",
            "f0e8206a4f024107bde832ee605abd8e",
            "7deea7c066914b0ebd939f7ec072b016",
            "179c5b2a5f4f45be9e805b354908caf9",
            "488862dd6ad646cfa60d4f738db705ce",
            "f4ea0839fa484f629740f1766d1dd104",
            "0512f4a77a3c4d6f95456d30b4920670",
            "4be1ea7e5adc4a75a818cd8289e363f5",
            "9d0245d67acb437cabc60008f7b01f0e",
            "acd2538ee6124d848cf58224ababb8e1",
            "636e6972ca8b4232b0f3afeb8aba9832",
            "fca41e9faeef4e7fa801564421e227bb",
            "37cd5995ce5e4ddb84deb773794a7c45",
            "9554126ab4d1416c84b28e282f6526e0",
            "27d766dee9e3484599805c52050e1456",
            "dd80520308254211b5f10c34687d82eb",
            "ecb03cf1bc01417fb7c3af1080ffc330",
            "9e341560fdbf4b04979075c461c48d4b",
            "74b23bcd025d4014a766da30aa1f159b",
            "f3d790d544304b628898d59326b66d5f",
            "82164cd08bb24d09b602aaea76753305",
            "7bbd043c69834a859444c4ba1fd469c1",
            "807d8aa12037455ab5fe7406f9f7f32b",
            "fcdf7ebae2314ca5914243cb4f4ab5c1",
            "b18e0e210f3f433c89bfe5eefb4f84c7",
            "4a6bb7543e7f4897bfd9dacdba9ed44a",
            "d3c6dcdb2bed4a918653f28fcf176059",
            "6e60783bdf5748dea8658f503f276b9c",
            "2bd80fe5f8d7410bb0e71f88d1167989",
            "2c52554e517148e98c8de72da7d40e7a",
            "9b190cafa18544018ffe824b5894135b",
            "2a8cce1a8fb141789e1d0d3f11b25a87",
            "bbb997d6157f4730b8fddc08e8b2ffa8",
            "cc5e310a797248959786a22910d51ffa",
            "02960b7eb3dd453b915cf6bb3cd46f42",
            "d2b43b2619a94b04baeb5671e1542e66",
            "6a2648d61add45dea09c0956b898faa9",
            "30f453dc7dee44c78945f72a59e54d73",
            "a69f6b0ed417491ca1ab09ab9768aded",
            "4be3a12a5dba4135b2b45b619a1a77ac",
            "7c551701376d4f0483fb57150dc22efe",
            "ad58567f6fb044baa5e165303e3d1bf1",
            "98f5a9e1f79e450fba8f12f5bdb14bf8",
            "a950f59cb73f403592ef59cc482c51cb",
            "928ef6deeaa04f47bad29c07387e8d56",
            "935b0613fd1b4f5590e2d7905ad65001",
            "9ebee72dafea498b8920add520888f8c",
            "0076a472c08546a38cc45c7df65623b2",
            "86ad2b82ccdd450abec45c315345bfc8",
            "fc50e71c868141ef82b1dfc9a85544bd",
            "6c804e105fb049ff990f4c35f8814c2e",
            "e0ea4b66fe9140edb6191f2f073de8de",
            "fca0c668d5544b30ba523adbfbb29a18",
            "74e74eb634d5477888808295d8decb65",
            "034163831e654ef691888e999b1b0b18",
            "59c40b6a33d447579753c0a6fb56899a",
            "f00e59e9bbbf4cf380253ee2cc716ab0",
            "f7c0f0139c984d9eaf65a7274312c522",
            "4a9330fb20cc42ba8e626711d42942da",
            "6f89c780c75d459c82ac4f1da8d30a6b",
            "617ac2df1228409d9d156a189d9fbb42",
            "a0f922cf69654300a2d0d4754913ecf4",
            "eb3b0e9aa1914cd683938831929e211a",
            "85aa900e511c49fa8f7a7ce7c3eaf909",
            "18bf2f00f36f40108f97159620392412",
            "c3cb3132f59e476e9d71f4192794fa7d",
            "ab39ff32fd7147a0aa4470224256af3b",
            "79b4e49077dc42d7bca3bae71c96421c",
            "41f0c1507293464cabf891c245b53d2a",
            "c0c34ce1ec0e4888901aec183b6e3dfa",
            "cbc8cfa500a141838f4f861ecfe80843",
            "48153eb8caf44f61951382cb29f2b2e1",
            "ade66cfefdac4b69b45b2e4cd01c5d04",
            "6211c3bd20f740ab98c8f226dd29234b",
            "daea9d685a50446e9cd56ab83c68739c",
            "40e9148afc14485c9d163be03e45a884",
            "199f4f384ba5484dae62d5fcb385132b",
            "5543c1cefa984db8901d702550b29b07",
            "31b99a41471348189ac1cb68412e31e4",
            "41aa4759483f48cdabd80ed3815c9ab0",
            "45679265e54b4d98a8abf818acf6499c",
            "51a95c4eadb94c8a99ea5b1be8f5e892",
            "cc72ab49c6fe423995092ac135533a91",
            "f47ef6d1ce1c4801a7c4526ed5944e04",
            "029ddc4da89e46f8b10a3950cbf104ae",
            "c12bf65cf4624523b46c0ded41e11622",
            "8fc7db5c47d7480cb77af446e0b87d03",
            "5681e57f6cdd48ad99fbf74a466d4eca",
            "cf8c107798e54e3eb6cdff7a0adaa024",
            "f807175fc8cc48388eedf837b0ab1b52",
            "a0bad87cb48a4154b2884b49f67dfa3b",
            "86d65a5f6f9c45c4bf6553c9ed4f50bf",
            "c1031e792f714efaa25b7dc9a695c438",
            "4db0ccfda18d4bccba7f94320d4ea414",
            "c58572966bfb4cb5b77a5495409fbb60",
            "15a79dda5c204a4db9ea730755da77c3",
            "749367d003544098b78e19ab97e330df",
            "1823358a0cac4512b424473aa7e2c142",
            "f083b32b6ea543f0a0213aaa9d0b7ffa",
            "261ad7520d5540c2b99635042a148259",
            "fa521e13380d415ba6a42b44c5d1b60e",
            "38eee19340334763a8f452f4fad52fb1",
            "977503f1d43147438ca752e4529e2ab8",
            "0b51f051cfa84490a4ee1f26efa9351f",
            "afce4d3638d14ade925f1285efaf6912",
            "a40f036e3a1c462ea390318fb98d57d9",
            "b3910342accd405184c9891a56e7c9cf",
            "13e6468cc5424709ab05530b7c438e95",
            "f0420c5c460049f4bc56e6a984c2f31e",
            "a2d20673577b4767a98918c9a0f36e5b",
            "098a44be3e32471bb9435bda25e86f99",
            "0e2586b5463d4c33b8c34f5da4a3e268",
            "9f7b918e5f91452ca6b1e7865c8e955e",
            "57fc2315ed2844ceaecb96cb87cae7de",
            "3b15136925b246869bfcbf8233b46101",
            "41673daea1e342afacc907f581665acc",
            "6cd42de939134a9d987e992b54783563",
            "dc7af9b6b163484ca777f71ea4ec150c",
            "2913e633b2d14df9bb74cb9976fd5dc1",
            "4a5789f33a3f4b169a235693b98239b7",
            "3426f4feb61641369a59e67e440b3b9d",
            "18536646189f41909cd693813c6eb18d",
            "85eb77271bdd4e7d9f9bb2de3f6e19bc",
            "48811f4bdb664548894e0d5d944ac7ab",
            "a0ec4461ce6042d7ad8d4c549fc6e49a",
            "ca21aaa7cad445308cf2f34d7299f812",
            "2b690a31f6464c31a991f2702a1d15de",
            "3d52d637df4749a0b6333528283a7efe",
            "844158706f654453bf86b65505a818ef",
            "0fc782f264f248b59b7ae2ec26e3bf5a",
            "5b42da47daa0475d98709ab9b5df7e2e",
            "8f6ee1c859384e31b32cf90834d7c305",
            "6ccc8012dfdd415aacab5ce5b3b38813",
            "c5c135be07ac4a05b25a67b2151b63c9",
            "77ff7ff93c7949c587d59484650e8b47",
            "4643fa8643564f8e99ee1b5626b7a003",
            "e71bca968afc4e52b4bcc20be8b712af",
            "47bf322f175b4139ac11f1020e3fe270",
            "a035ed1db0654ad79d7211518d80e8ce",
            "20147e1c65ea411f985b215b43d88c99",
            "f1bd8e9c44154857b8e3cbe650bd7fac",
            "ae2abc7eda3a4e9ea8bd415a14f8ee9a",
            "fb81bfde11c84245a3fcea8dba7a7915",
            "27c686d674d14954aa82d98577f8c133",
            "2d7cbb8e2d7a41b6bd306907da2f256d",
            "f5b7b351029645bfa993a9e4582e352f",
            "f6ddadd2795843d78ce3c61f4f45a370",
            "22fd9a3242504e189355fa1fbedfa988",
            "809aa91b791c427ea6fb75e91e7eaad3",
            "b88174a69a1c4f2f9891e76582a54d44",
            "eb71614aa7dd48a4aadb17981f060f73",
            "87bfbf2b0ab84910b5f5cee72c7d5672",
            "9f6d89e82a0d4b1daf7d63b5d268b4ca",
            "7d830f8bc27142dc9e519dab03dcdcc1",
            "f743593dd2ff42ceb9602d71f6d6bb11",
            "05f4050c613e4ec3a748e6ba8ef5652c",
            "b977d5616b6b4bef8fcdeae6aa103b78",
            "6d0f8ce927174e65a5fabc23011e8025",
            "5620f970e77e451cadb911715cbeb720",
            "7d21572d10d24867ae3f08ab4e34f590",
            "bc992f474eed469285d36f12ab8b3d95",
            "c7fa88583f194ad39f30d23733339dfc",
            "fb8f39fa1ed74e47ad57df8828dd6fa4",
            "00dceb461a214cebbe6b3ae8662232be",
            "9891b44aa23a4b9194e902448a4a640f",
            "5c030926f7334698818dfda18fcdbdc7",
            "ece6b4ab256d41409f9e33daff56a637",
            "49cebed866b94bd39c3f4d71547018bc",
            "b32238c0a6ee459392b5086a9f81ba2a",
            "3199d90580d2442a83c1b5701566245e",
            "002eb965e1914319a594452849cf8314",
            "60b84d9f4bcf4b0a89a255673a4b6a8d",
            "6157a1ae23d04b7da79e82aa5ba318fa",
            "a78da4ce232242e7bf5e3bed03038c19",
            "0fe2cad69226406a81e710010082a039",
            "1c1b6a6cc9874d9cad64fae8960aaf14",
            "fa20a2196bdd458f9677cf733ae1ab69",
            "0172dc049478418b8a55a859b3a8caa0",
            "1f91f5bf45764b56a90047c1fbb7d48f",
            "ecd99ff68e2841bf89eaeb6dcd4d9fbe",
            "0f09f3f9bbeb4ba297c913a24c991e02",
            "79d0be4631424e4ab93b87319b21e6c9",
            "a689230acd5e416fb0d8affa4a654b5e",
            "49470d84a2b5455a9d1a035e2f166aa1",
            "8f698a519b4b4048b416f44cae0b3bbb",
            "61eca8e2c0704e939a9ab2b3e2242af0",
            "796c0b89fecb493b8719906594b7aee2",
            "6388934e040b4261a13cfd205bff3a58",
            "20c2da4f62204ac3a4cfbbb5aff0a367",
            "516e6ef7024c4e9e80722165039e6d41",
            "237a1ae649a14a38bfda8a362f5520c7",
            "191819bf988a43f4bafc556e9b9e0de9",
            "debad4d2ef1a4db997c58c5c90ffecf8",
            "1dfa2a58971e47cbb6482acc7c26af9d",
            "4fb0d7d1f7de4783a09f1a3131acb919",
            "a4499137f3d04682ac7cd975127e284d",
            "d982a9e8f6e24a1ab137442b18f0d34b",
            "181173a01de046649902189ed801c500",
            "7b6d17beddef4bd8a05c608bdcaa8bcc",
            "b103b9d32cab4f06b83363bc74792b6e",
            "53767e3e739544d691eb33f53c4dacd0",
            "dc0e2a71b4b146c8ac930f87857fe182",
            "70dd56cc21984a85a269d7cd9a989f4b",
            "a8c5d3a1d3d54012a6e50e7798c1f958",
            "b4f01d2a2452499fbcc8623b40528584",
            "0594675981024046bb60de3e90c1736c",
            "65d1c8fd30d94f2cb5e9ab15d6a89bfc",
            "9ba20baeda624f2598dfda40ea368537",
            "dac4e3aec9424ee9b1dff5bc798e8212",
            "5b51533b886e4e978b3cd5dde210c246",
            "e93b46ebd6ab4840abfdebff4e2cb2df",
            "7f5d38ae524f4364a882ef54a7375aef",
            "4c9c536ee9364fe581994b27a35ad678",
            "41a84658e4f44f52882df91d4aa2f030",
            "ac3e05d9e8c641eeaeb8dba5a50b1f2b",
            "77d4c5eb487f4f449e31216e921f0aa4",
            "e0c7c876765d4994b99064573749c065",
            "68bf0d8e26eb4f8ba60d38e8bfe69c42",
            "3508894489aa4494996e5fdebb300f57",
            "3be1fec1114f4ac09e6c5cb3bbb4a028",
            "ee36bbc2108d4bffba976ef7110c0877",
            "eb120a4f37f54ad88ca27156386061f7",
            "d243a3ae58604a0d9c552656742ec9a1",
            "8833e2ca0e404e40944314c993070de4",
            "2745ed7f7ddb4bc6a4d7968a0ae39b08",
            "670bfafe4231453fb70993b1fc1ae527",
            "d35f56c3c8e84263b7e44b267953e34e",
            "c3b74c8306b84419997eb81d652ff0d9",
            "8da86a92ef144e728edaec28326d9c5e",
            "7d103b03cfa1495292526ecaf7318e86",
            "d13a5f3dee9043f79e819cb4cb5841b6",
            "c873dc91f8ae41f9b62c6eb57520386b",
            "f6781086576f4bd78eace889c93f15a5",
            "6fad8d8bd6b74952960da3bedf481f5d",
            "d63348038df04d69be28660effb6047d",
            "3e70a29853984ee8b6a3ff64ad91206c",
            "29f7aa2ed2b8499fb0dd982aac41d711",
            "bd233e499486419ea14b71210031948f",
            "fb75207d16ec4096a95b6b12ffb4f3db",
            "dffc745d98944bcf96755d33c0574159",
            "7d4db3b01b834429a6d483e756478766",
            "d932c4b55b934d4a97fcf800b1fd65eb",
            "bc70b2f59d844d5bae3a2d33d3952163",
            "e6384e5d934742739077498d874f46e1",
            "01bb303762804c80ac376591bdd27fa9",
            "b48160a6da8f4b82b457c0b475e24ba3",
            "9b96cce9599c4f06a2e9b25366f5f5ac",
            "fa3510b05ad64619950af050c1c25e12",
            "450aceb80dfc4b9c97575796e28d7608",
            "7b659bcf24fc4b978798282658903b48",
            "3d21727f78a44854ba8ccbff8e67e046",
            "9ab0fba857f3464fa510b5c5e9457feb",
            "270bbdb2791c4d79b650d01dccd70e4b",
            "e279fd46df154192b1e8e8a4e6e841c6",
            "fb547484bd2c40dd80112861b4d1889b",
            "198de3d4d807487fb39bdb6064eee08f",
            "9bc8009888a54919ba5b6a812a7d83f8",
            "e34c52b2fc254f3ab48070f302f8404f",
            "937050f311604c6ca151d5dac13574ae",
            "016ddfd90d6f47e493d5b31a6200e7ae",
            "2a3ef1cdb4584345afd8cfa84c0d133a",
            "2d10122f855e48c7bafe067ac298abc0",
            "7548518d4df24bb9a60365ea6c2586dd",
            "6cd4ec592cc740469e7bb1c8416cc051",
            "feb3e5495a5a435da6a94abc8dc66d06",
            "898c38bbf717426c969009a69276336f",
            "af98885e0e84446b91ea914f54277128",
            "60992d1d778f42d8ad63e0b761297d1b",
            "cf9e0385c932456c806bd9855b8dac09",
            "aebf3eda58af41bf8dc40a40cadf9e08",
            "49e116c037c74c558fe0a29f19269460",
            "f5536da5c59549f29602a82952c9b05f",
            "4164efff9fe34088afbf01aa53d24fa8",
            "817001285ac34b5794201a2395644510",
            "eb56c95e32984d7a967cc81f130d4bc5",
            "71e751109b4d40a7a45738dd0b8c0bab",
            "5c34c27c9a57494481348c795851acb9",
            "aa54d32c3dcb46b181be30921ae5cfd6",
            "fa16951ae94244f2a9461945e7031b35",
            "9b8424e541524432aab46fa57e469bc6",
            "5beba05c2a6a47989ddaf3e589e692db",
            "3285095b67534cd3a3d1885803e49958",
            "584b31efd9214e5283f549f59d60f03d",
            "d4f62830c1e4473ca23625a3d5d8449a",
            "beeedfd6c3b24558a667e2f2bc62ec02",
            "06a20e14182e471bba9d4729152cd359",
            "6e013929127b4cd3b78dd0a6ac15ae4a",
            "bdd021a80aea4dddb9939e10cf1ff314",
            "075a91de58a240efa25fa0adaab418b4",
            "e96498e1fd6c448c96e7fa28f3535b6f",
            "2ad57b01bfde4449bb0e492d18bf53b1",
            "eb71186b928343c28fa4dc303af3e0a7",
            "3919349429de42d686b3c5c8377d6f3b",
            "7853f0a2f25946c487ecdd6f89497da7",
            "585e0e078234440fb518265badf2ec14",
            "b0211ef0f54b45588d5aa7679f0a3c12",
            "9e488781a3ea42b1a14ad4cba11f3709",
            "555f2688a2db4bdbb03307185b73e3bb",
            "b83afd1ed32543e59ed80761e5af4350",
            "6dfd214611d24c23b56deffeaee75ef4",
            "14558f2ae49c41929f10abf2dbd0289e",
            "c0b428bf145b4e5faab8405ae65fd0d8",
            "bc0f1e33d1fd4ddd81a432f871fd262a",
            "3adcecb3f0b94e3ca05772bd229549a8",
            "db1f079946c1446a94f9742bbd8315b5",
            "1c6a6ec3ec9c4d0ea3f1c6782e1549d0",
            "06542c2a66564d93a6e97beb00b5d51f",
            "e99e9f117da24879920ac531d6261116",
            "6231897d96d84d28b4bac0d5302e5164",
            "75bca4da003843d4a9f3fd18019ee7ff",
            "b8e5b3417d22413886fdaac84579c846",
            "3b2891cdc6a646ca88fb3f423a084bb7",
            "beff0bf0e0eb442f83449f00b8fa77eb",
            "78bffc3e5c504591a7d01126240a9a9a",
            "db30ce74cc854aac92005b6531a74cf2",
            "6a82cdb345a14cb5a92606b73b22d424",
            "18e3968ce3ce4b70a29aa21bf9509803",
            "2e8ed66a28194213958b1c5311d13656",
            "faf9af55f6354a08993cf9265b740bdd",
            "e963e20baf8b4721a18c9d380b8865a5",
            "c55f7b3d69f447c68ffabf7deaf277fa",
            "69da07a3400841aeb9f5b7eceb7872eb",
            "8a4bbf982f124666a035b15f26dff3ad",
            "0be7bac22d724c4781147ea1ff6a2c9d",
            "96b9de2a3b0f4983a5f3cb98732e74ca",
            "b3e7d8fc9ebc40a09b5fa2758881aeef",
            "771089abf443410198c9c8512dc27c7a",
            "0ac118bb7a094c3bb9caa76f78f9c09f",
            "383fee2eb636489e8f3b235dbbd0cd7f",
            "dca83dccbeb74e9bbb93a9031147bf54",
            "2a4fbb38469f4275b7a8c0e24f74d3a5",
            "a9c3983ce3c5480cb37bda4d70436ecf",
            "6abc0013f5954b09a084bbf74875d707",
            "7c5ca9b4e5154a30bb5becdd2f0f0ea5",
            "368e1a42652744339bf96f5cc8961c94",
            "8b0cf3d858b445aaaedee4b56af2f175",
            "57f1014681ca47b2881dd11d2a215094",
            "5e7d726a395b4f45a294856ab2dee63c",
            "a24e7a67766847188641909984b6d4de",
            "f7f7ed5a0cc34d1cbd2c2500443f8f6d",
            "a849cbdbab46405d8f03613a9f11b54f",
            "17e2a9ab869742d398381654ab3f43a6",
            "884de67b67de46c8a882116e1e7ab28a",
            "0e767745522644f08034045bd31a52f1",
            "fe6cb217abec4b9c80a31bdc8ecd28bb",
            "9807531356b648779fe5b9ca7f0252c0",
            "9aba949cabb54af7beb6b5dcc017d2b0",
            "e17a143aa6d5438884e7cd38957f2856",
            "b1d7ec751f6a440eb5dcfb9d786d973c",
            "4e206f150cb6429db04adcbba190bbf6",
            "9a0589ef1f2d44b98e8ec67cb278fa7b",
            "25b005880f07459d96d16fb50d97a332",
            "899fa44aa582421c91b93fa37862d55d",
            "c1dc69bdb5634bdf87602ff38f5c8845",
            "9ae7502a203b4c1abb55a59d9bf8b7ae",
            "bbb94559553541a692bcc9b7e70ccf4b",
            "77557733c0f74806924d720f2b8372ce",
            "de330ea866bb42878579295a4fbc2a2e",
            "c354f24ec4074f549f5f45b115c9aabe",
            "ef1f88eb1dea49319f72a35607a066f0",
            "c069ee3c33c145e68ea58950fc6d7233",
            "dc69353a624f45578a79f0dc049741a3",
            "d08d0a3a711d49fe9e27deee071a0d1b",
            "192de53a26b24d28acb0dc59aec414bb",
            "aaeb76e3292c4e8a84147453d11c4cd0",
            "8b50b1a47e0a4fb6b953921ba2f04786",
            "e4efbfdbae2741a8852e3c7d912c577b",
            "ad7d57bb46bf4578b52a7fa2ed3ef661",
            "b12d3eaf20bf44f392476353a2508f76",
            "2318492ef57b4b76a916907cbce1de16",
            "69e90f06cec741ceac4efcdc52b9e288",
            "8045120f69474ce4923f987d8c223d3f",
            "56cb35359ea249faaae4e7bd1dad0af9",
            "1a3188ec92cf47fc8bfdc8ab744fd4f7",
            "ce2d9540dfac4746a9be84784f353b9b",
            "28276931ec6c458e9e382155689a3536",
            "5fb1d146abdd48c086544775ecbaba16",
            "9ad3c18492a74294b9c50029cf37e10f",
            "57f348b4dffc4c20a8fe3094a67710a7",
            "d434a06d60ca4997a859f8b208571441",
            "19fda1836f2a4d4b85ed167ef62630f0",
            "2b848789b0ae48bd85b471ce1d21dcbf",
            "f7d2c83c77844347b7cc30095ee1820b",
            "6812e4785834411397f7cd77c873ea0d",
            "eee20d25b98b47cb89240fea45f97220",
            "bbe417d692ad4385b22d1a3a95a3acc0",
            "c2a52fa646174ba08f0606a323fce992",
            "9fe54c3321bf46d4886b23e232ce45a6",
            "f6a59de27565482886a74f5971a6bc43",
            "fedc8a42a826413fb9c1f5c12faf5e51",
            "42abb135492b4961a4e21666bc679f16",
            "b0cd6b432bf14abf839358cbf8b4a4e3",
            "8d352dfe1d584cccbfd948c146a2c26a",
            "ca1dcb9ac66845e1bbff08489197a6bd",
            "574aad1736a847b29790d7abc0c7a7f0",
            "f59390323ba14b74a0a3a4c30f7e6919",
            "deafb629e3bd4e158030d174b80ec8de",
            "0b5dda9ba61443d694f71c7a259cdb60",
            "5cf89112a3ea4594937a33619b1565a6",
            "2f7d35f934444154b4ef59294d087fea"
          ]
        },
        "outputId": "336ce094-c892-44a3-aad0-95f45403e8b5"
      },
      "source": [
        "# ========= 配置 =========\n",
        "NUM_OF_SPLITS = 5\n",
        "Reweight = True\n",
        "\n",
        "RESULTS, Classified_Values = [], []\n",
        "\n",
        "BASE_ARGS = {\n",
        "    \"num_train_epochs\": 10,          # 开多一点，让早停有“可停”空间\n",
        "    \"train_batch_size\": 32,\n",
        "    \"eval_batch_size\": 64,\n",
        "    \"max_seq_length\": 512,           # 统一 512\n",
        "    \"fp16\": False, # Changed from True to False to address the RuntimeError\n",
        "    \"overwrite_output_dir\": True,\n",
        "\n",
        "    # ——早停相关——\n",
        "    \"use_early_stopping\": True,\n",
        "    \"early_stopping_patience\": 1,\n",
        "    \"early_stopping_metric\": \"eval_loss\",\n",
        "    \"evaluate_during_training\": True,        # 训练期间做验证（需要 eval_df）\n",
        "    \"early_stopping_consider_epochs\": True,  # 每个 epoch 末评估\n",
        "    \"early_stopping_verbose\": True,\n",
        "    \"save_eval_checkpoints\": False,\n",
        "    \"save_model_every_epoch\": False,\n",
        "\n",
        "    # ——稳定、不卡顿——\n",
        "    \"reprocess_input_data\": True,\n",
        "    \"no_save\": True,                 # 只看指标，不落盘模型\n",
        "    \"no_cache\": True,\n",
        "    \"silent\": False,\n",
        "    \"logging_steps\": 20,\n",
        "    \"process_count\": 1,\n",
        "    \"use_multiprocessing\": False,\n",
        "    \"use_multiprocessing_for_evaluation\": False,\n",
        "    \"dataloader_num_workers\": 0,\n",
        "}\n",
        "\n",
        "def build_args_for(model_type, model_name):\n",
        "    args = BASE_ARGS.copy()\n",
        "    # 仅对 *uncased* 的检查点启用小写化\n",
        "    args[\"do_lower_case\"] = (\"uncased\" in model_name.lower())\n",
        "    return args\n",
        "\n",
        "def logits_to_prob(raw_outputs):\n",
        "    \"\"\"\n",
        "    将模型 raw logits 转为正类概率（用于 AUC）。\n",
        "    兼容 (N,2) 双logits 与 (N,) 单logit 的情形。\n",
        "    \"\"\"\n",
        "    raw = np.array(raw_outputs)\n",
        "    raw = np.squeeze(raw)  # 兼容 (N,1,2) 之类\n",
        "    if raw.ndim == 2 and raw.shape[1] == 2:\n",
        "        raw = raw - raw.max(axis=1, keepdims=True)  # 数值稳定 softmax\n",
        "        exp = np.exp(raw)\n",
        "        probs = exp / exp.sum(axis=1, keepdims=True)\n",
        "        return probs[:, 1]\n",
        "    elif raw.ndim == 1:\n",
        "        z = raw.squeeze()\n",
        "        return 1.0 / (1.0 + np.exp(-z))            # sigmoid\n",
        "    else:\n",
        "        raise ValueError(f\"Unexpected raw_outputs shape: {raw.shape}\")\n",
        "\n",
        "# ——确保标签为一维 0/1（如果你本来就用 df['actualb'] 一维 0/1，这里只做断言）——\n",
        "Y0 = np.asarray(Classes)\n",
        "assert Y0.ndim == 1, f\"Labels must be 1D; got shape {Y0.shape}\"\n",
        "u = np.unique(Y0)\n",
        "assert set(u).issubset({0, 1}), f\"Labels must be 0/1; got values {u}\"\n",
        "LABELS_1D = Y0.astype(int)\n",
        "\n",
        "# ========= 主循环：每个模型 × K 折 =========\n",
        "use_cuda = torch.cuda.is_available()\n",
        "\n",
        "for name, model_type, model_name in tqdm(CLASSIFIERS, desc=\"Evaluating Classifiers\", leave=True):\n",
        "    y_actual, y_predicted, id_s = [], [], []\n",
        "    prob_pos_all = []\n",
        "\n",
        "    kf = StratifiedKFold(n_splits=NUM_OF_SPLITS, shuffle=True, random_state=1)\n",
        "    for train_i, test_i in tqdm(kf.split(Abstract_Text, LABELS_1D),\n",
        "                                desc=f\"{name} | Cross-Validating\",\n",
        "                                leave=False, total=NUM_OF_SPLITS):\n",
        "\n",
        "        # ——切分这一折数据——\n",
        "        X = np.array(Abstract_Text); Y = LABELS_1D\n",
        "        train_X, test_X = X[train_i], X[test_i]\n",
        "        train_y, test_y = Y[train_i], Y[test_i]\n",
        "        Train_IDs, Test_IDs = IDs[train_i], IDs[test_i]\n",
        "\n",
        "        # ——Simple Transformers 需要的 DataFrame——\n",
        "        train_df = pd.DataFrame({\"text\": list(train_X), \"labels\": list(train_y)})\n",
        "\n",
        "        # ——为早停切出 10% 训练折做内部验证（不会污染外部测试折）——\n",
        "        es_train_df, es_val_df = train_test_split(\n",
        "            train_df, test_size=0.10, stratify=train_df[\"labels\"], random_state=42\n",
        "        )\n",
        "\n",
        "        # ——类别不平衡：计算 class weights（支持的模型将使用）——\n",
        "        weight_vec = None\n",
        "        if Reweight:\n",
        "            cls_w = compute_class_weight(class_weight=\"balanced\",\n",
        "                                         classes=np.array([0,1]),\n",
        "                                         y=es_train_df[\"labels\"])\n",
        "            weight_vec = cls_w.tolist()\n",
        "\n",
        "        # ——创建模型（若报“不支持 class weights”，自动去掉 weight 重试）——\n",
        "        args = build_args_for(model_type, model_name)\n",
        "        try:\n",
        "            model = ClassificationModel(\n",
        "                model_type, model_name,\n",
        "                weight=weight_vec,\n",
        "                args=args,\n",
        "                use_cuda=use_cuda\n",
        "            )\n",
        "        except ValueError as e:\n",
        "            if \"does not currently support class weights\" in str(e).lower():\n",
        "                model = ClassificationModel(\n",
        "                    model_type, model_name,\n",
        "                    weight=None,\n",
        "                    args=args,\n",
        "                    use_cuda=use_cuda\n",
        "                )\n",
        "            else:\n",
        "                raise\n",
        "\n",
        "        # ——训练（传 eval_df 以启用早停）——\n",
        "        model.train_model(es_train_df, eval_df=es_val_df)\n",
        "\n",
        "        # ——预测：拿 logits→概率，用于 AUC；preds 仍为 0/1 用于混淆矩阵等——\n",
        "        preds, raw_outputs = model.predict(list(test_X))\n",
        "        prob_pos = logits_to_prob(raw_outputs)\n",
        "\n",
        "        # ——累积这一折结果——\n",
        "        id_s.extend(list(Test_IDs))\n",
        "        y_actual.extend(list(test_y))\n",
        "        y_predicted.extend(list(preds))\n",
        "        prob_pos_all.extend(list(prob_pos))\n",
        "\n",
        "        gc.collect(); torch.cuda.empty_cache()\n",
        "\n",
        "    # ========= 五折汇总指标（与你原脚本的输出格式一致） =========\n",
        "    y_arr = np.asarray(y_actual); p_arr = np.asarray(prob_pos_all)\n",
        "\n",
        "    Share = np.round(np.mean(y_predicted), 3)\n",
        "    Accuracy = accuracy_score(y_arr, y_predicted)\n",
        "    ROC = roc_auc_score(y_arr, p_arr)                   # ★ 用“概率”算 AUC（正确做法）\n",
        "    Precision = precision_score(y_arr, y_predicted, zero_division=0)\n",
        "    Recall = recall_score(y_arr, y_predicted, zero_division=0)\n",
        "    F1 = f1_score(y_arr, y_predicted, zero_division=0)\n",
        "\n",
        "    tn, fp, fn, tp = confusion_matrix(y_arr, y_predicted).ravel()\n",
        "    # 你原脚本里的四个比率（按你后来的定义）\n",
        "    FN = np.round(tn/(tn+fn), 3)   # 注意：你原来把名称与含义有点错位；下面保持与你原表头对应的输出顺序\n",
        "    FP = np.round(fp/(fp+tp), 3)\n",
        "    TN = np.round(fn/(tn+fn), 3)\n",
        "    TP = np.round(tp/(tp+fp), 3)\n",
        "\n",
        "    # 若你更想要标准含义（TPR/FNR/FPR/TNR），可以改成：\n",
        "    # TPR = round(tp/(tp+fn), 3)\n",
        "    # FNR = round(fn/(tp+fn), 3)\n",
        "    # FPR = round(fp/(tn+fp), 3)\n",
        "    # TNR = round(tn/(tp+fp), 3)\n",
        "    # 并把下面 RESULTS 的四列替换为 [TPR, FNR, FPR, TNR]\n",
        "\n",
        "\n",
        "    RESULTS.append([name, Share, TP, FN, FP, TN,\n",
        "                    np.round(Accuracy, 3),\n",
        "                    np.round(ROC, 3),\n",
        "                    np.round(Precision, 3),\n",
        "                    np.round(Recall, 3),\n",
        "                    np.round(F1, 3)])\n",
        "\n",
        "    Classified_Values.append(list(zip(len(id_s)*[name], id_s, y_actual, y_predicted)))"
      ],
      "execution_count": 28,
      "outputs": [
        {
          "data": {
            "application/vnd.jupyter.widget-view+json": {
              "model_id": "3e58f225d8dd47e095623d3fb4364e8f",
              "version_major": 2,
              "version_minor": 0
            },
            "text/plain": [
              "Evaluating Classifiers:   0%|          | 0/11 [00:00<?, ?it/s]"
            ]
          },
          "metadata": {},
          "output_type": "display_data"
        },
        {
          "data": {
            "application/vnd.jupyter.widget-view+json": {
              "model_id": "9f7e7435924d4554ade24f727ff7f497",
              "version_major": 2,
              "version_minor": 0
            },
            "text/plain": [
              "BERT | Cross-Validating:   0%|          | 0/5 [00:00<?, ?it/s]"
            ]
          },
          "metadata": {},
          "output_type": "display_data"
        },
        {
          "data": {
            "application/vnd.jupyter.widget-view+json": {
              "model_id": "fb55bad043fa41059ca73107d700201f",
              "version_major": 2,
              "version_minor": 0
            },
            "text/plain": [
              "Map:   0%|          | 0/2880 [00:00<?, ? examples/s]"
            ]
          },
          "metadata": {},
          "output_type": "display_data"
        },
        {
          "data": {
            "application/vnd.jupyter.widget-view+json": {
              "model_id": "8e8d401a423a4a078ed3a737b63ebaac",
              "version_major": 2,
              "version_minor": 0
            },
            "text/plain": [
              "Epoch:   0%|          | 0/10 [00:00<?, ?it/s]"
            ]
          },
          "metadata": {},
          "output_type": "display_data"
        },
        {
          "data": {
            "application/vnd.jupyter.widget-view+json": {
              "model_id": "3bc1da9fba4142e793241e423e59fb10",
              "version_major": 2,
              "version_minor": 0
            },
            "text/plain": [
              "Running Epoch 1 of 10:   0%|          | 0/180 [00:00<?, ?it/s]"
            ]
          },
          "metadata": {},
          "output_type": "display_data"
        },
        {
          "data": {
            "application/vnd.jupyter.widget-view+json": {
              "model_id": "df8cbe61aee946b8a4c10532c06a3190",
              "version_major": 2,
              "version_minor": 0
            },
            "text/plain": [
              "Map:   0%|          | 0/320 [00:00<?, ? examples/s]"
            ]
          },
          "metadata": {},
          "output_type": "display_data"
        },
        {
          "data": {
            "application/vnd.jupyter.widget-view+json": {
              "model_id": "91e6b98a09564bc9bbe1ebb81e621d70",
              "version_major": 2,
              "version_minor": 0
            },
            "text/plain": [
              "Running Epoch 2 of 10:   0%|          | 0/180 [00:00<?, ?it/s]"
            ]
          },
          "metadata": {},
          "output_type": "display_data"
        },
        {
          "data": {
            "application/vnd.jupyter.widget-view+json": {
              "model_id": "e22de5e792034d7b8c5d674d8ea6678e",
              "version_major": 2,
              "version_minor": 0
            },
            "text/plain": [
              "Map:   0%|          | 0/320 [00:00<?, ? examples/s]"
            ]
          },
          "metadata": {},
          "output_type": "display_data"
        },
        {
          "data": {
            "application/vnd.jupyter.widget-view+json": {
              "model_id": "4aa57058f98a4f3aa75a73c00eeda938",
              "version_major": 2,
              "version_minor": 0
            },
            "text/plain": [
              "Map:   0%|          | 0/800 [00:00<?, ? examples/s]"
            ]
          },
          "metadata": {},
          "output_type": "display_data"
        },
        {
          "data": {
            "application/vnd.jupyter.widget-view+json": {
              "model_id": "20ff799022ea4b3cb956a9061415e78d",
              "version_major": 2,
              "version_minor": 0
            },
            "text/plain": [
              "Predicting:   0%|          | 0/25 [00:00<?, ?it/s]"
            ]
          },
          "metadata": {},
          "output_type": "display_data"
        },
        {
          "data": {
            "application/vnd.jupyter.widget-view+json": {
              "model_id": "460700deeebd4e7892ca1bcaf00671b7",
              "version_major": 2,
              "version_minor": 0
            },
            "text/plain": [
              "Map:   0%|          | 0/2880 [00:00<?, ? examples/s]"
            ]
          },
          "metadata": {},
          "output_type": "display_data"
        },
        {
          "data": {
            "application/vnd.jupyter.widget-view+json": {
              "model_id": "066dad9670884f2fac7fafa804be256e",
              "version_major": 2,
              "version_minor": 0
            },
            "text/plain": [
              "Epoch:   0%|          | 0/10 [00:00<?, ?it/s]"
            ]
          },
          "metadata": {},
          "output_type": "display_data"
        },
        {
          "data": {
            "application/vnd.jupyter.widget-view+json": {
              "model_id": "217d2b921298452bb38f0e5b17c81ffe",
              "version_major": 2,
              "version_minor": 0
            },
            "text/plain": [
              "Running Epoch 1 of 10:   0%|          | 0/180 [00:00<?, ?it/s]"
            ]
          },
          "metadata": {},
          "output_type": "display_data"
        },
        {
          "data": {
            "application/vnd.jupyter.widget-view+json": {
              "model_id": "61f6b4c0f8b94eb48a467d95b60f1038",
              "version_major": 2,
              "version_minor": 0
            },
            "text/plain": [
              "Map:   0%|          | 0/320 [00:00<?, ? examples/s]"
            ]
          },
          "metadata": {},
          "output_type": "display_data"
        },
        {
          "data": {
            "application/vnd.jupyter.widget-view+json": {
              "model_id": "609009e9a49644178fe722a6ceb75198",
              "version_major": 2,
              "version_minor": 0
            },
            "text/plain": [
              "Running Epoch 2 of 10:   0%|          | 0/180 [00:00<?, ?it/s]"
            ]
          },
          "metadata": {},
          "output_type": "display_data"
        },
        {
          "data": {
            "application/vnd.jupyter.widget-view+json": {
              "model_id": "764c5e1a42c74e50b6892877d30bbc26",
              "version_major": 2,
              "version_minor": 0
            },
            "text/plain": [
              "Map:   0%|          | 0/320 [00:00<?, ? examples/s]"
            ]
          },
          "metadata": {},
          "output_type": "display_data"
        },
        {
          "data": {
            "application/vnd.jupyter.widget-view+json": {
              "model_id": "c6b5296ff7944f84bcfe8f36a3a24836",
              "version_major": 2,
              "version_minor": 0
            },
            "text/plain": [
              "Running Epoch 3 of 10:   0%|          | 0/180 [00:00<?, ?it/s]"
            ]
          },
          "metadata": {},
          "output_type": "display_data"
        },
        {
          "data": {
            "application/vnd.jupyter.widget-view+json": {
              "model_id": "17f9e2aed0e64542a95c7c2ede7c197f",
              "version_major": 2,
              "version_minor": 0
            },
            "text/plain": [
              "Map:   0%|          | 0/320 [00:00<?, ? examples/s]"
            ]
          },
          "metadata": {},
          "output_type": "display_data"
        },
        {
          "data": {
            "application/vnd.jupyter.widget-view+json": {
              "model_id": "033205cef1d942b5a50076db20dbaf33",
              "version_major": 2,
              "version_minor": 0
            },
            "text/plain": [
              "Running Epoch 4 of 10:   0%|          | 0/180 [00:00<?, ?it/s]"
            ]
          },
          "metadata": {},
          "output_type": "display_data"
        },
        {
          "data": {
            "application/vnd.jupyter.widget-view+json": {
              "model_id": "866b8401b3b34784856a2b8d3297858e",
              "version_major": 2,
              "version_minor": 0
            },
            "text/plain": [
              "Map:   0%|          | 0/320 [00:00<?, ? examples/s]"
            ]
          },
          "metadata": {},
          "output_type": "display_data"
        },
        {
          "data": {
            "application/vnd.jupyter.widget-view+json": {
              "model_id": "54715e505778486696e002ed767408e5",
              "version_major": 2,
              "version_minor": 0
            },
            "text/plain": [
              "Map:   0%|          | 0/800 [00:00<?, ? examples/s]"
            ]
          },
          "metadata": {},
          "output_type": "display_data"
        },
        {
          "data": {
            "application/vnd.jupyter.widget-view+json": {
              "model_id": "f3343db3466642b6bf3baab1101788f1",
              "version_major": 2,
              "version_minor": 0
            },
            "text/plain": [
              "Predicting:   0%|          | 0/25 [00:00<?, ?it/s]"
            ]
          },
          "metadata": {},
          "output_type": "display_data"
        },
        {
          "data": {
            "application/vnd.jupyter.widget-view+json": {
              "model_id": "2d65ea574ab84320973a06155613410a",
              "version_major": 2,
              "version_minor": 0
            },
            "text/plain": [
              "Map:   0%|          | 0/2880 [00:00<?, ? examples/s]"
            ]
          },
          "metadata": {},
          "output_type": "display_data"
        },
        {
          "data": {
            "application/vnd.jupyter.widget-view+json": {
              "model_id": "67b73a0bb64246d2af10dcb63974954b",
              "version_major": 2,
              "version_minor": 0
            },
            "text/plain": [
              "Epoch:   0%|          | 0/10 [00:00<?, ?it/s]"
            ]
          },
          "metadata": {},
          "output_type": "display_data"
        },
        {
          "data": {
            "application/vnd.jupyter.widget-view+json": {
              "model_id": "b3e3bc0977004fe28504c71a0bc46b86",
              "version_major": 2,
              "version_minor": 0
            },
            "text/plain": [
              "Running Epoch 1 of 10:   0%|          | 0/180 [00:00<?, ?it/s]"
            ]
          },
          "metadata": {},
          "output_type": "display_data"
        },
        {
          "data": {
            "application/vnd.jupyter.widget-view+json": {
              "model_id": "f40f3c6d9e504f2dabdd1c79733da5a0",
              "version_major": 2,
              "version_minor": 0
            },
            "text/plain": [
              "Map:   0%|          | 0/320 [00:00<?, ? examples/s]"
            ]
          },
          "metadata": {},
          "output_type": "display_data"
        },
        {
          "data": {
            "application/vnd.jupyter.widget-view+json": {
              "model_id": "b539c31d599b4e66bbfe997afcd82075",
              "version_major": 2,
              "version_minor": 0
            },
            "text/plain": [
              "Running Epoch 2 of 10:   0%|          | 0/180 [00:00<?, ?it/s]"
            ]
          },
          "metadata": {},
          "output_type": "display_data"
        },
        {
          "data": {
            "application/vnd.jupyter.widget-view+json": {
              "model_id": "21d549ee0ede4bb0bcd0e774d90abe1f",
              "version_major": 2,
              "version_minor": 0
            },
            "text/plain": [
              "Map:   0%|          | 0/320 [00:00<?, ? examples/s]"
            ]
          },
          "metadata": {},
          "output_type": "display_data"
        },
        {
          "data": {
            "application/vnd.jupyter.widget-view+json": {
              "model_id": "a75831c75ce845e883962c4d3101ae85",
              "version_major": 2,
              "version_minor": 0
            },
            "text/plain": [
              "Running Epoch 3 of 10:   0%|          | 0/180 [00:00<?, ?it/s]"
            ]
          },
          "metadata": {},
          "output_type": "display_data"
        },
        {
          "data": {
            "application/vnd.jupyter.widget-view+json": {
              "model_id": "11dc18937b384d618c3cfc366902d1e0",
              "version_major": 2,
              "version_minor": 0
            },
            "text/plain": [
              "Map:   0%|          | 0/320 [00:00<?, ? examples/s]"
            ]
          },
          "metadata": {},
          "output_type": "display_data"
        },
        {
          "data": {
            "application/vnd.jupyter.widget-view+json": {
              "model_id": "c038854572ed4ffd9a2e1edab697e965",
              "version_major": 2,
              "version_minor": 0
            },
            "text/plain": [
              "Running Epoch 4 of 10:   0%|          | 0/180 [00:00<?, ?it/s]"
            ]
          },
          "metadata": {},
          "output_type": "display_data"
        },
        {
          "data": {
            "application/vnd.jupyter.widget-view+json": {
              "model_id": "939a0743b4b64738876dff9bd3f9d02e",
              "version_major": 2,
              "version_minor": 0
            },
            "text/plain": [
              "Map:   0%|          | 0/320 [00:00<?, ? examples/s]"
            ]
          },
          "metadata": {},
          "output_type": "display_data"
        },
        {
          "data": {
            "application/vnd.jupyter.widget-view+json": {
              "model_id": "ba13c9c2aec84afcbd02c32aad36eace",
              "version_major": 2,
              "version_minor": 0
            },
            "text/plain": [
              "Map:   0%|          | 0/800 [00:00<?, ? examples/s]"
            ]
          },
          "metadata": {},
          "output_type": "display_data"
        },
        {
          "data": {
            "application/vnd.jupyter.widget-view+json": {
              "model_id": "cb14c2792efd4511a5dce703fdeaff51",
              "version_major": 2,
              "version_minor": 0
            },
            "text/plain": [
              "Predicting:   0%|          | 0/25 [00:00<?, ?it/s]"
            ]
          },
          "metadata": {},
          "output_type": "display_data"
        },
        {
          "data": {
            "application/vnd.jupyter.widget-view+json": {
              "model_id": "df027e58deb94e33bf01b49c35eaa498",
              "version_major": 2,
              "version_minor": 0
            },
            "text/plain": [
              "Map:   0%|          | 0/2880 [00:00<?, ? examples/s]"
            ]
          },
          "metadata": {},
          "output_type": "display_data"
        },
        {
          "data": {
            "application/vnd.jupyter.widget-view+json": {
              "model_id": "2bc825dc67584d78b9272d1398814acd",
              "version_major": 2,
              "version_minor": 0
            },
            "text/plain": [
              "Epoch:   0%|          | 0/10 [00:00<?, ?it/s]"
            ]
          },
          "metadata": {},
          "output_type": "display_data"
        },
        {
          "data": {
            "application/vnd.jupyter.widget-view+json": {
              "model_id": "2df157e4e23546cba1d9cb640aeafe55",
              "version_major": 2,
              "version_minor": 0
            },
            "text/plain": [
              "Running Epoch 1 of 10:   0%|          | 0/180 [00:00<?, ?it/s]"
            ]
          },
          "metadata": {},
          "output_type": "display_data"
        },
        {
          "data": {
            "application/vnd.jupyter.widget-view+json": {
              "model_id": "68829aa47b7f4f0a9891cc211ad3ecfc",
              "version_major": 2,
              "version_minor": 0
            },
            "text/plain": [
              "Map:   0%|          | 0/320 [00:00<?, ? examples/s]"
            ]
          },
          "metadata": {},
          "output_type": "display_data"
        },
        {
          "data": {
            "application/vnd.jupyter.widget-view+json": {
              "model_id": "b2a9e264249342e1adb451d755fb654a",
              "version_major": 2,
              "version_minor": 0
            },
            "text/plain": [
              "Running Epoch 2 of 10:   0%|          | 0/180 [00:00<?, ?it/s]"
            ]
          },
          "metadata": {},
          "output_type": "display_data"
        },
        {
          "data": {
            "application/vnd.jupyter.widget-view+json": {
              "model_id": "9d2ed39961464f40a52381c1477f163f",
              "version_major": 2,
              "version_minor": 0
            },
            "text/plain": [
              "Map:   0%|          | 0/320 [00:00<?, ? examples/s]"
            ]
          },
          "metadata": {},
          "output_type": "display_data"
        },
        {
          "data": {
            "application/vnd.jupyter.widget-view+json": {
              "model_id": "88291d324f034a1eb56df6654e0b7a6a",
              "version_major": 2,
              "version_minor": 0
            },
            "text/plain": [
              "Running Epoch 3 of 10:   0%|          | 0/180 [00:00<?, ?it/s]"
            ]
          },
          "metadata": {},
          "output_type": "display_data"
        },
        {
          "data": {
            "application/vnd.jupyter.widget-view+json": {
              "model_id": "d61088e5667544fb8ce786bf84490d05",
              "version_major": 2,
              "version_minor": 0
            },
            "text/plain": [
              "Map:   0%|          | 0/320 [00:00<?, ? examples/s]"
            ]
          },
          "metadata": {},
          "output_type": "display_data"
        },
        {
          "data": {
            "application/vnd.jupyter.widget-view+json": {
              "model_id": "dbdbf40d1693427189afe340f9d4c8a1",
              "version_major": 2,
              "version_minor": 0
            },
            "text/plain": [
              "Running Epoch 4 of 10:   0%|          | 0/180 [00:00<?, ?it/s]"
            ]
          },
          "metadata": {},
          "output_type": "display_data"
        },
        {
          "data": {
            "application/vnd.jupyter.widget-view+json": {
              "model_id": "e182ffe13ac448f9bae962ccd9c0025a",
              "version_major": 2,
              "version_minor": 0
            },
            "text/plain": [
              "Map:   0%|          | 0/320 [00:00<?, ? examples/s]"
            ]
          },
          "metadata": {},
          "output_type": "display_data"
        },
        {
          "data": {
            "application/vnd.jupyter.widget-view+json": {
              "model_id": "8dfcb855dabe4725a61567c1f64ba496",
              "version_major": 2,
              "version_minor": 0
            },
            "text/plain": [
              "Map:   0%|          | 0/800 [00:00<?, ? examples/s]"
            ]
          },
          "metadata": {},
          "output_type": "display_data"
        },
        {
          "data": {
            "application/vnd.jupyter.widget-view+json": {
              "model_id": "5f5af45de47d4397866dfc6aefd5e67d",
              "version_major": 2,
              "version_minor": 0
            },
            "text/plain": [
              "Predicting:   0%|          | 0/25 [00:00<?, ?it/s]"
            ]
          },
          "metadata": {},
          "output_type": "display_data"
        },
        {
          "data": {
            "application/vnd.jupyter.widget-view+json": {
              "model_id": "203e2b500b2143d2b51539070a4562e7",
              "version_major": 2,
              "version_minor": 0
            },
            "text/plain": [
              "Map:   0%|          | 0/2880 [00:00<?, ? examples/s]"
            ]
          },
          "metadata": {},
          "output_type": "display_data"
        },
        {
          "data": {
            "application/vnd.jupyter.widget-view+json": {
              "model_id": "e160ce71f521466b830edf66b78c659d",
              "version_major": 2,
              "version_minor": 0
            },
            "text/plain": [
              "Epoch:   0%|          | 0/10 [00:00<?, ?it/s]"
            ]
          },
          "metadata": {},
          "output_type": "display_data"
        },
        {
          "data": {
            "application/vnd.jupyter.widget-view+json": {
              "model_id": "440fd819071c45339d9e540a43de5cd9",
              "version_major": 2,
              "version_minor": 0
            },
            "text/plain": [
              "Running Epoch 1 of 10:   0%|          | 0/180 [00:00<?, ?it/s]"
            ]
          },
          "metadata": {},
          "output_type": "display_data"
        },
        {
          "data": {
            "application/vnd.jupyter.widget-view+json": {
              "model_id": "9415495048cd4467824bd8033e05b7ae",
              "version_major": 2,
              "version_minor": 0
            },
            "text/plain": [
              "Map:   0%|          | 0/320 [00:00<?, ? examples/s]"
            ]
          },
          "metadata": {},
          "output_type": "display_data"
        },
        {
          "data": {
            "application/vnd.jupyter.widget-view+json": {
              "model_id": "fded62dbca3b4b7a84c30de8ad4e2137",
              "version_major": 2,
              "version_minor": 0
            },
            "text/plain": [
              "Running Epoch 2 of 10:   0%|          | 0/180 [00:00<?, ?it/s]"
            ]
          },
          "metadata": {},
          "output_type": "display_data"
        },
        {
          "data": {
            "application/vnd.jupyter.widget-view+json": {
              "model_id": "052e9de73c2d4ebd86de7eb75ad80c21",
              "version_major": 2,
              "version_minor": 0
            },
            "text/plain": [
              "Map:   0%|          | 0/320 [00:00<?, ? examples/s]"
            ]
          },
          "metadata": {},
          "output_type": "display_data"
        },
        {
          "data": {
            "application/vnd.jupyter.widget-view+json": {
              "model_id": "6732ec3a573c487782bb00ff61809b6c",
              "version_major": 2,
              "version_minor": 0
            },
            "text/plain": [
              "Running Epoch 3 of 10:   0%|          | 0/180 [00:00<?, ?it/s]"
            ]
          },
          "metadata": {},
          "output_type": "display_data"
        },
        {
          "data": {
            "application/vnd.jupyter.widget-view+json": {
              "model_id": "b0d7ae41b7be4b5e98361cdd34a7163d",
              "version_major": 2,
              "version_minor": 0
            },
            "text/plain": [
              "Map:   0%|          | 0/320 [00:00<?, ? examples/s]"
            ]
          },
          "metadata": {},
          "output_type": "display_data"
        },
        {
          "data": {
            "application/vnd.jupyter.widget-view+json": {
              "model_id": "e5b049df2cc14a5daac8ca9a28303435",
              "version_major": 2,
              "version_minor": 0
            },
            "text/plain": [
              "Running Epoch 4 of 10:   0%|          | 0/180 [00:00<?, ?it/s]"
            ]
          },
          "metadata": {},
          "output_type": "display_data"
        },
        {
          "data": {
            "application/vnd.jupyter.widget-view+json": {
              "model_id": "eb9a76d728494c33b75eb4017db53710",
              "version_major": 2,
              "version_minor": 0
            },
            "text/plain": [
              "Map:   0%|          | 0/320 [00:00<?, ? examples/s]"
            ]
          },
          "metadata": {},
          "output_type": "display_data"
        },
        {
          "data": {
            "application/vnd.jupyter.widget-view+json": {
              "model_id": "e03ec3d0654f4bfa81078a7c15b2bb62",
              "version_major": 2,
              "version_minor": 0
            },
            "text/plain": [
              "Map:   0%|          | 0/800 [00:00<?, ? examples/s]"
            ]
          },
          "metadata": {},
          "output_type": "display_data"
        },
        {
          "data": {
            "application/vnd.jupyter.widget-view+json": {
              "model_id": "32d5ea579f554414b0ce31b937b05ee0",
              "version_major": 2,
              "version_minor": 0
            },
            "text/plain": [
              "Predicting:   0%|          | 0/25 [00:00<?, ?it/s]"
            ]
          },
          "metadata": {},
          "output_type": "display_data"
        },
        {
          "data": {
            "application/vnd.jupyter.widget-view+json": {
              "model_id": "da73ade277fb469397a867baf341342a",
              "version_major": 2,
              "version_minor": 0
            },
            "text/plain": [
              "RoBERTa | Cross-Validating:   0%|          | 0/5 [00:00<?, ?it/s]"
            ]
          },
          "metadata": {},
          "output_type": "display_data"
        },
        {
          "data": {
            "application/vnd.jupyter.widget-view+json": {
              "model_id": "f4f1e0132c414b16a747163c13549fa0",
              "version_major": 2,
              "version_minor": 0
            },
            "text/plain": [
              "Map:   0%|          | 0/2880 [00:00<?, ? examples/s]"
            ]
          },
          "metadata": {},
          "output_type": "display_data"
        },
        {
          "data": {
            "application/vnd.jupyter.widget-view+json": {
              "model_id": "54fd2cf809ff417c93109e763fffc5c1",
              "version_major": 2,
              "version_minor": 0
            },
            "text/plain": [
              "Epoch:   0%|          | 0/10 [00:00<?, ?it/s]"
            ]
          },
          "metadata": {},
          "output_type": "display_data"
        },
        {
          "data": {
            "application/vnd.jupyter.widget-view+json": {
              "model_id": "6472dedaa7af423eb2212eca15a04ab1",
              "version_major": 2,
              "version_minor": 0
            },
            "text/plain": [
              "Running Epoch 1 of 10:   0%|          | 0/180 [00:00<?, ?it/s]"
            ]
          },
          "metadata": {},
          "output_type": "display_data"
        },
        {
          "data": {
            "application/vnd.jupyter.widget-view+json": {
              "model_id": "d99b7b86055749a4bd7cb4237db674c6",
              "version_major": 2,
              "version_minor": 0
            },
            "text/plain": [
              "Map:   0%|          | 0/320 [00:00<?, ? examples/s]"
            ]
          },
          "metadata": {},
          "output_type": "display_data"
        },
        {
          "data": {
            "application/vnd.jupyter.widget-view+json": {
              "model_id": "b49b5ecb463742fd8132b0cd6e9ad2f3",
              "version_major": 2,
              "version_minor": 0
            },
            "text/plain": [
              "Running Epoch 2 of 10:   0%|          | 0/180 [00:00<?, ?it/s]"
            ]
          },
          "metadata": {},
          "output_type": "display_data"
        },
        {
          "data": {
            "application/vnd.jupyter.widget-view+json": {
              "model_id": "8b43cb664fec44edb0fb824c02ce850d",
              "version_major": 2,
              "version_minor": 0
            },
            "text/plain": [
              "Map:   0%|          | 0/320 [00:00<?, ? examples/s]"
            ]
          },
          "metadata": {},
          "output_type": "display_data"
        },
        {
          "data": {
            "application/vnd.jupyter.widget-view+json": {
              "model_id": "e0c687dc031c4b16970a18527edd9eb3",
              "version_major": 2,
              "version_minor": 0
            },
            "text/plain": [
              "Map:   0%|          | 0/800 [00:00<?, ? examples/s]"
            ]
          },
          "metadata": {},
          "output_type": "display_data"
        },
        {
          "data": {
            "application/vnd.jupyter.widget-view+json": {
              "model_id": "998e8e4dc4a3468ab508394a1ba92430",
              "version_major": 2,
              "version_minor": 0
            },
            "text/plain": [
              "Predicting:   0%|          | 0/25 [00:00<?, ?it/s]"
            ]
          },
          "metadata": {},
          "output_type": "display_data"
        },
        {
          "data": {
            "application/vnd.jupyter.widget-view+json": {
              "model_id": "405dbbf590144db7aafda497cb230f96",
              "version_major": 2,
              "version_minor": 0
            },
            "text/plain": [
              "Map:   0%|          | 0/2880 [00:00<?, ? examples/s]"
            ]
          },
          "metadata": {},
          "output_type": "display_data"
        },
        {
          "data": {
            "application/vnd.jupyter.widget-view+json": {
              "model_id": "267ebc64839d43768e782414bca929ba",
              "version_major": 2,
              "version_minor": 0
            },
            "text/plain": [
              "Epoch:   0%|          | 0/10 [00:00<?, ?it/s]"
            ]
          },
          "metadata": {},
          "output_type": "display_data"
        },
        {
          "data": {
            "application/vnd.jupyter.widget-view+json": {
              "model_id": "b18e823262b1467bacc0c1cd39ffa854",
              "version_major": 2,
              "version_minor": 0
            },
            "text/plain": [
              "Running Epoch 1 of 10:   0%|          | 0/180 [00:00<?, ?it/s]"
            ]
          },
          "metadata": {},
          "output_type": "display_data"
        },
        {
          "data": {
            "application/vnd.jupyter.widget-view+json": {
              "model_id": "ac664458d8f64abeadaa167f31d4a48e",
              "version_major": 2,
              "version_minor": 0
            },
            "text/plain": [
              "Map:   0%|          | 0/320 [00:00<?, ? examples/s]"
            ]
          },
          "metadata": {},
          "output_type": "display_data"
        },
        {
          "data": {
            "application/vnd.jupyter.widget-view+json": {
              "model_id": "726c418662104ef1924d30d72db77ee4",
              "version_major": 2,
              "version_minor": 0
            },
            "text/plain": [
              "Running Epoch 2 of 10:   0%|          | 0/180 [00:00<?, ?it/s]"
            ]
          },
          "metadata": {},
          "output_type": "display_data"
        },
        {
          "data": {
            "application/vnd.jupyter.widget-view+json": {
              "model_id": "4f4f03ae72e648aaafa7d63878db4913",
              "version_major": 2,
              "version_minor": 0
            },
            "text/plain": [
              "Map:   0%|          | 0/320 [00:00<?, ? examples/s]"
            ]
          },
          "metadata": {},
          "output_type": "display_data"
        },
        {
          "data": {
            "application/vnd.jupyter.widget-view+json": {
              "model_id": "75fba05d37d84f8e85528b86fb8c964b",
              "version_major": 2,
              "version_minor": 0
            },
            "text/plain": [
              "Map:   0%|          | 0/800 [00:00<?, ? examples/s]"
            ]
          },
          "metadata": {},
          "output_type": "display_data"
        },
        {
          "data": {
            "application/vnd.jupyter.widget-view+json": {
              "model_id": "864523e7f4124bf3925ed4933282e94b",
              "version_major": 2,
              "version_minor": 0
            },
            "text/plain": [
              "Predicting:   0%|          | 0/25 [00:00<?, ?it/s]"
            ]
          },
          "metadata": {},
          "output_type": "display_data"
        },
        {
          "data": {
            "application/vnd.jupyter.widget-view+json": {
              "model_id": "b4af49fc31354d538a78fe1a32f1b837",
              "version_major": 2,
              "version_minor": 0
            },
            "text/plain": [
              "Map:   0%|          | 0/2880 [00:00<?, ? examples/s]"
            ]
          },
          "metadata": {},
          "output_type": "display_data"
        },
        {
          "data": {
            "application/vnd.jupyter.widget-view+json": {
              "model_id": "f311eacbf233464b85780b8b329e9c15",
              "version_major": 2,
              "version_minor": 0
            },
            "text/plain": [
              "Epoch:   0%|          | 0/10 [00:00<?, ?it/s]"
            ]
          },
          "metadata": {},
          "output_type": "display_data"
        },
        {
          "data": {
            "application/vnd.jupyter.widget-view+json": {
              "model_id": "f64d369c0eca4ca1a3a9235f689d11a0",
              "version_major": 2,
              "version_minor": 0
            },
            "text/plain": [
              "Running Epoch 1 of 10:   0%|          | 0/180 [00:00<?, ?it/s]"
            ]
          },
          "metadata": {},
          "output_type": "display_data"
        },
        {
          "data": {
            "application/vnd.jupyter.widget-view+json": {
              "model_id": "8c4566e7b31e4ece876c2f4b2d201ca0",
              "version_major": 2,
              "version_minor": 0
            },
            "text/plain": [
              "Map:   0%|          | 0/320 [00:00<?, ? examples/s]"
            ]
          },
          "metadata": {},
          "output_type": "display_data"
        },
        {
          "data": {
            "application/vnd.jupyter.widget-view+json": {
              "model_id": "1f073b2995a841f4ba829f6a7a2d7cca",
              "version_major": 2,
              "version_minor": 0
            },
            "text/plain": [
              "Running Epoch 2 of 10:   0%|          | 0/180 [00:00<?, ?it/s]"
            ]
          },
          "metadata": {},
          "output_type": "display_data"
        },
        {
          "data": {
            "application/vnd.jupyter.widget-view+json": {
              "model_id": "69db9fb5c72a45e9b834cae8b364aea0",
              "version_major": 2,
              "version_minor": 0
            },
            "text/plain": [
              "Map:   0%|          | 0/320 [00:00<?, ? examples/s]"
            ]
          },
          "metadata": {},
          "output_type": "display_data"
        },
        {
          "data": {
            "application/vnd.jupyter.widget-view+json": {
              "model_id": "77d9c7baf9c04113a6452184cb9c4759",
              "version_major": 2,
              "version_minor": 0
            },
            "text/plain": [
              "Map:   0%|          | 0/800 [00:00<?, ? examples/s]"
            ]
          },
          "metadata": {},
          "output_type": "display_data"
        },
        {
          "data": {
            "application/vnd.jupyter.widget-view+json": {
              "model_id": "431a8bac28c443e5845b121fbaf3de37",
              "version_major": 2,
              "version_minor": 0
            },
            "text/plain": [
              "Predicting:   0%|          | 0/25 [00:00<?, ?it/s]"
            ]
          },
          "metadata": {},
          "output_type": "display_data"
        },
        {
          "data": {
            "application/vnd.jupyter.widget-view+json": {
              "model_id": "8a20ecef23794888bbb374440c3f1e5d",
              "version_major": 2,
              "version_minor": 0
            },
            "text/plain": [
              "Map:   0%|          | 0/2880 [00:00<?, ? examples/s]"
            ]
          },
          "metadata": {},
          "output_type": "display_data"
        },
        {
          "data": {
            "application/vnd.jupyter.widget-view+json": {
              "model_id": "598aeac3d13446019bc387fea1618eec",
              "version_major": 2,
              "version_minor": 0
            },
            "text/plain": [
              "Epoch:   0%|          | 0/10 [00:00<?, ?it/s]"
            ]
          },
          "metadata": {},
          "output_type": "display_data"
        },
        {
          "data": {
            "application/vnd.jupyter.widget-view+json": {
              "model_id": "249a8847039240ea86290c7495a13454",
              "version_major": 2,
              "version_minor": 0
            },
            "text/plain": [
              "Running Epoch 1 of 10:   0%|          | 0/180 [00:00<?, ?it/s]"
            ]
          },
          "metadata": {},
          "output_type": "display_data"
        },
        {
          "data": {
            "application/vnd.jupyter.widget-view+json": {
              "model_id": "387f956dde964fd684a0c0e48338cc77",
              "version_major": 2,
              "version_minor": 0
            },
            "text/plain": [
              "Map:   0%|          | 0/320 [00:00<?, ? examples/s]"
            ]
          },
          "metadata": {},
          "output_type": "display_data"
        },
        {
          "data": {
            "application/vnd.jupyter.widget-view+json": {
              "model_id": "77a38acdb8d047309006b44969872cb3",
              "version_major": 2,
              "version_minor": 0
            },
            "text/plain": [
              "Running Epoch 2 of 10:   0%|          | 0/180 [00:00<?, ?it/s]"
            ]
          },
          "metadata": {},
          "output_type": "display_data"
        },
        {
          "data": {
            "application/vnd.jupyter.widget-view+json": {
              "model_id": "e7a2bc4b771b4c6d958c439d8abfc39c",
              "version_major": 2,
              "version_minor": 0
            },
            "text/plain": [
              "Map:   0%|          | 0/320 [00:00<?, ? examples/s]"
            ]
          },
          "metadata": {},
          "output_type": "display_data"
        },
        {
          "data": {
            "application/vnd.jupyter.widget-view+json": {
              "model_id": "52475dee9fa1462bb11df81e436a0cb8",
              "version_major": 2,
              "version_minor": 0
            },
            "text/plain": [
              "Running Epoch 3 of 10:   0%|          | 0/180 [00:00<?, ?it/s]"
            ]
          },
          "metadata": {},
          "output_type": "display_data"
        },
        {
          "data": {
            "application/vnd.jupyter.widget-view+json": {
              "model_id": "93a7be3f3ea4488eb55781e9f2521842",
              "version_major": 2,
              "version_minor": 0
            },
            "text/plain": [
              "Map:   0%|          | 0/320 [00:00<?, ? examples/s]"
            ]
          },
          "metadata": {},
          "output_type": "display_data"
        },
        {
          "data": {
            "application/vnd.jupyter.widget-view+json": {
              "model_id": "44e45cc21c43411ab16df4c600655ccf",
              "version_major": 2,
              "version_minor": 0
            },
            "text/plain": [
              "Running Epoch 4 of 10:   0%|          | 0/180 [00:00<?, ?it/s]"
            ]
          },
          "metadata": {},
          "output_type": "display_data"
        },
        {
          "data": {
            "application/vnd.jupyter.widget-view+json": {
              "model_id": "f67d15e30590428caa641e271f4f032f",
              "version_major": 2,
              "version_minor": 0
            },
            "text/plain": [
              "Map:   0%|          | 0/320 [00:00<?, ? examples/s]"
            ]
          },
          "metadata": {},
          "output_type": "display_data"
        },
        {
          "data": {
            "application/vnd.jupyter.widget-view+json": {
              "model_id": "a05c747132e1487a84c2f5c2d2bc9784",
              "version_major": 2,
              "version_minor": 0
            },
            "text/plain": [
              "Running Epoch 5 of 10:   0%|          | 0/180 [00:00<?, ?it/s]"
            ]
          },
          "metadata": {},
          "output_type": "display_data"
        },
        {
          "data": {
            "application/vnd.jupyter.widget-view+json": {
              "model_id": "40876bec44754ed3be89618d42ee943a",
              "version_major": 2,
              "version_minor": 0
            },
            "text/plain": [
              "Map:   0%|          | 0/320 [00:00<?, ? examples/s]"
            ]
          },
          "metadata": {},
          "output_type": "display_data"
        },
        {
          "data": {
            "application/vnd.jupyter.widget-view+json": {
              "model_id": "201d84ac6b7d41bc949d21bedc8ebd32",
              "version_major": 2,
              "version_minor": 0
            },
            "text/plain": [
              "Map:   0%|          | 0/800 [00:00<?, ? examples/s]"
            ]
          },
          "metadata": {},
          "output_type": "display_data"
        },
        {
          "data": {
            "application/vnd.jupyter.widget-view+json": {
              "model_id": "b0a0a84048b44f4a865ed829ed4a9005",
              "version_major": 2,
              "version_minor": 0
            },
            "text/plain": [
              "Predicting:   0%|          | 0/25 [00:00<?, ?it/s]"
            ]
          },
          "metadata": {},
          "output_type": "display_data"
        },
        {
          "data": {
            "application/vnd.jupyter.widget-view+json": {
              "model_id": "f1dce8611d704e3086054f6ce494701b",
              "version_major": 2,
              "version_minor": 0
            },
            "text/plain": [
              "Map:   0%|          | 0/2880 [00:00<?, ? examples/s]"
            ]
          },
          "metadata": {},
          "output_type": "display_data"
        },
        {
          "data": {
            "application/vnd.jupyter.widget-view+json": {
              "model_id": "a633cfc83bbe44c49b9e26ab8318159f",
              "version_major": 2,
              "version_minor": 0
            },
            "text/plain": [
              "Epoch:   0%|          | 0/10 [00:00<?, ?it/s]"
            ]
          },
          "metadata": {},
          "output_type": "display_data"
        },
        {
          "data": {
            "application/vnd.jupyter.widget-view+json": {
              "model_id": "fa5f5f30a1204459a071d797376288e4",
              "version_major": 2,
              "version_minor": 0
            },
            "text/plain": [
              "Running Epoch 1 of 10:   0%|          | 0/180 [00:00<?, ?it/s]"
            ]
          },
          "metadata": {},
          "output_type": "display_data"
        },
        {
          "data": {
            "application/vnd.jupyter.widget-view+json": {
              "model_id": "f1b6c742f61d485885bd14230d771161",
              "version_major": 2,
              "version_minor": 0
            },
            "text/plain": [
              "Map:   0%|          | 0/320 [00:00<?, ? examples/s]"
            ]
          },
          "metadata": {},
          "output_type": "display_data"
        },
        {
          "data": {
            "application/vnd.jupyter.widget-view+json": {
              "model_id": "9803a4272e3447a2b751bb6a6c7ad58d",
              "version_major": 2,
              "version_minor": 0
            },
            "text/plain": [
              "Running Epoch 2 of 10:   0%|          | 0/180 [00:00<?, ?it/s]"
            ]
          },
          "metadata": {},
          "output_type": "display_data"
        },
        {
          "data": {
            "application/vnd.jupyter.widget-view+json": {
              "model_id": "77f61d4d2af44ae4b19a407ecadd5599",
              "version_major": 2,
              "version_minor": 0
            },
            "text/plain": [
              "Map:   0%|          | 0/320 [00:00<?, ? examples/s]"
            ]
          },
          "metadata": {},
          "output_type": "display_data"
        },
        {
          "data": {
            "application/vnd.jupyter.widget-view+json": {
              "model_id": "f5468c9e1c16400c8231cb7c40d423ce",
              "version_major": 2,
              "version_minor": 0
            },
            "text/plain": [
              "Map:   0%|          | 0/800 [00:00<?, ? examples/s]"
            ]
          },
          "metadata": {},
          "output_type": "display_data"
        },
        {
          "data": {
            "application/vnd.jupyter.widget-view+json": {
              "model_id": "83ac8011c26842d1a143f9aa96b46926",
              "version_major": 2,
              "version_minor": 0
            },
            "text/plain": [
              "Predicting:   0%|          | 0/25 [00:00<?, ?it/s]"
            ]
          },
          "metadata": {},
          "output_type": "display_data"
        },
        {
          "data": {
            "application/vnd.jupyter.widget-view+json": {
              "model_id": "ebdbab169c254c8286aa01f28696778d",
              "version_major": 2,
              "version_minor": 0
            },
            "text/plain": [
              "DeBERTa | Cross-Validating:   0%|          | 0/5 [00:00<?, ?it/s]"
            ]
          },
          "metadata": {},
          "output_type": "display_data"
        },
        {
          "data": {
            "application/vnd.jupyter.widget-view+json": {
              "model_id": "87d69423271c44d4b47365e906e163d4",
              "version_major": 2,
              "version_minor": 0
            },
            "text/plain": [
              "Map:   0%|          | 0/2880 [00:00<?, ? examples/s]"
            ]
          },
          "metadata": {},
          "output_type": "display_data"
        },
        {
          "data": {
            "application/vnd.jupyter.widget-view+json": {
              "model_id": "d8d7ac362eed4a0983cc1e7f5a7c5d63",
              "version_major": 2,
              "version_minor": 0
            },
            "text/plain": [
              "Epoch:   0%|          | 0/10 [00:00<?, ?it/s]"
            ]
          },
          "metadata": {},
          "output_type": "display_data"
        },
        {
          "data": {
            "application/vnd.jupyter.widget-view+json": {
              "model_id": "78f1152b4eb94667b4e3095cb25f866e",
              "version_major": 2,
              "version_minor": 0
            },
            "text/plain": [
              "Running Epoch 1 of 10:   0%|          | 0/180 [00:00<?, ?it/s]"
            ]
          },
          "metadata": {},
          "output_type": "display_data"
        },
        {
          "data": {
            "application/vnd.jupyter.widget-view+json": {
              "model_id": "381210cc04234808981da7c2a0d33632",
              "version_major": 2,
              "version_minor": 0
            },
            "text/plain": [
              "Map:   0%|          | 0/320 [00:00<?, ? examples/s]"
            ]
          },
          "metadata": {},
          "output_type": "display_data"
        },
        {
          "data": {
            "application/vnd.jupyter.widget-view+json": {
              "model_id": "85fbd514b8764c81a529cdec4c4ab159",
              "version_major": 2,
              "version_minor": 0
            },
            "text/plain": [
              "Running Epoch 2 of 10:   0%|          | 0/180 [00:00<?, ?it/s]"
            ]
          },
          "metadata": {},
          "output_type": "display_data"
        },
        {
          "data": {
            "application/vnd.jupyter.widget-view+json": {
              "model_id": "6af7e5aebed44641a894667a74b56714",
              "version_major": 2,
              "version_minor": 0
            },
            "text/plain": [
              "Map:   0%|          | 0/320 [00:00<?, ? examples/s]"
            ]
          },
          "metadata": {},
          "output_type": "display_data"
        },
        {
          "data": {
            "application/vnd.jupyter.widget-view+json": {
              "model_id": "d4a13c21dfdb44be8d1871796bbc501f",
              "version_major": 2,
              "version_minor": 0
            },
            "text/plain": [
              "Map:   0%|          | 0/800 [00:00<?, ? examples/s]"
            ]
          },
          "metadata": {},
          "output_type": "display_data"
        },
        {
          "data": {
            "application/vnd.jupyter.widget-view+json": {
              "model_id": "4227015d49794a9a903b47e2984b56a9",
              "version_major": 2,
              "version_minor": 0
            },
            "text/plain": [
              "Predicting:   0%|          | 0/25 [00:00<?, ?it/s]"
            ]
          },
          "metadata": {},
          "output_type": "display_data"
        },
        {
          "data": {
            "application/vnd.jupyter.widget-view+json": {
              "model_id": "bbb643ef281b4f50ba4a1672efd4ef2a",
              "version_major": 2,
              "version_minor": 0
            },
            "text/plain": [
              "Map:   0%|          | 0/2880 [00:00<?, ? examples/s]"
            ]
          },
          "metadata": {},
          "output_type": "display_data"
        },
        {
          "data": {
            "application/vnd.jupyter.widget-view+json": {
              "model_id": "34c9c7ac6d994101bd9c9ae310617c7b",
              "version_major": 2,
              "version_minor": 0
            },
            "text/plain": [
              "Epoch:   0%|          | 0/10 [00:00<?, ?it/s]"
            ]
          },
          "metadata": {},
          "output_type": "display_data"
        },
        {
          "data": {
            "application/vnd.jupyter.widget-view+json": {
              "model_id": "09e4601d1e794cd7a50ea3f982559f8c",
              "version_major": 2,
              "version_minor": 0
            },
            "text/plain": [
              "Running Epoch 1 of 10:   0%|          | 0/180 [00:00<?, ?it/s]"
            ]
          },
          "metadata": {},
          "output_type": "display_data"
        },
        {
          "data": {
            "application/vnd.jupyter.widget-view+json": {
              "model_id": "02f72c5af73a4f2584e6ab1c19c96811",
              "version_major": 2,
              "version_minor": 0
            },
            "text/plain": [
              "Map:   0%|          | 0/320 [00:00<?, ? examples/s]"
            ]
          },
          "metadata": {},
          "output_type": "display_data"
        },
        {
          "data": {
            "application/vnd.jupyter.widget-view+json": {
              "model_id": "176d96a0f20a465aa8c80f806f3c7bfd",
              "version_major": 2,
              "version_minor": 0
            },
            "text/plain": [
              "Running Epoch 2 of 10:   0%|          | 0/180 [00:00<?, ?it/s]"
            ]
          },
          "metadata": {},
          "output_type": "display_data"
        },
        {
          "data": {
            "application/vnd.jupyter.widget-view+json": {
              "model_id": "a9631798b6b04ae592da9e5ba458aa5b",
              "version_major": 2,
              "version_minor": 0
            },
            "text/plain": [
              "Map:   0%|          | 0/320 [00:00<?, ? examples/s]"
            ]
          },
          "metadata": {},
          "output_type": "display_data"
        },
        {
          "data": {
            "application/vnd.jupyter.widget-view+json": {
              "model_id": "e2b9b1d0a832457bac1fa5839b386bf3",
              "version_major": 2,
              "version_minor": 0
            },
            "text/plain": [
              "Running Epoch 3 of 10:   0%|          | 0/180 [00:00<?, ?it/s]"
            ]
          },
          "metadata": {},
          "output_type": "display_data"
        },
        {
          "data": {
            "application/vnd.jupyter.widget-view+json": {
              "model_id": "0be397e3069b4ac8bd4e1dce54d7b0d2",
              "version_major": 2,
              "version_minor": 0
            },
            "text/plain": [
              "Map:   0%|          | 0/320 [00:00<?, ? examples/s]"
            ]
          },
          "metadata": {},
          "output_type": "display_data"
        },
        {
          "data": {
            "application/vnd.jupyter.widget-view+json": {
              "model_id": "03c03c9f10654ec5b660822f7481a5de",
              "version_major": 2,
              "version_minor": 0
            },
            "text/plain": [
              "Running Epoch 4 of 10:   0%|          | 0/180 [00:00<?, ?it/s]"
            ]
          },
          "metadata": {},
          "output_type": "display_data"
        },
        {
          "data": {
            "application/vnd.jupyter.widget-view+json": {
              "model_id": "6cdd2ae8f4344f70a7e51b2622319ed6",
              "version_major": 2,
              "version_minor": 0
            },
            "text/plain": [
              "Map:   0%|          | 0/320 [00:00<?, ? examples/s]"
            ]
          },
          "metadata": {},
          "output_type": "display_data"
        },
        {
          "data": {
            "application/vnd.jupyter.widget-view+json": {
              "model_id": "3b563b6a085e45468ac83c50dfc2181e",
              "version_major": 2,
              "version_minor": 0
            },
            "text/plain": [
              "Map:   0%|          | 0/800 [00:00<?, ? examples/s]"
            ]
          },
          "metadata": {},
          "output_type": "display_data"
        },
        {
          "data": {
            "application/vnd.jupyter.widget-view+json": {
              "model_id": "6599df2e001242b696a2981c9adb5dc4",
              "version_major": 2,
              "version_minor": 0
            },
            "text/plain": [
              "Predicting:   0%|          | 0/25 [00:00<?, ?it/s]"
            ]
          },
          "metadata": {},
          "output_type": "display_data"
        },
        {
          "data": {
            "application/vnd.jupyter.widget-view+json": {
              "model_id": "39fecca8ad5f45499744ab80b61fa21b",
              "version_major": 2,
              "version_minor": 0
            },
            "text/plain": [
              "Map:   0%|          | 0/2880 [00:00<?, ? examples/s]"
            ]
          },
          "metadata": {},
          "output_type": "display_data"
        },
        {
          "data": {
            "application/vnd.jupyter.widget-view+json": {
              "model_id": "c46d7b30cc924824b9ada771ac090bca",
              "version_major": 2,
              "version_minor": 0
            },
            "text/plain": [
              "Epoch:   0%|          | 0/10 [00:00<?, ?it/s]"
            ]
          },
          "metadata": {},
          "output_type": "display_data"
        },
        {
          "data": {
            "application/vnd.jupyter.widget-view+json": {
              "model_id": "49044286250747b880b3d286d272f502",
              "version_major": 2,
              "version_minor": 0
            },
            "text/plain": [
              "Running Epoch 1 of 10:   0%|          | 0/180 [00:00<?, ?it/s]"
            ]
          },
          "metadata": {},
          "output_type": "display_data"
        },
        {
          "data": {
            "application/vnd.jupyter.widget-view+json": {
              "model_id": "426d0165506044e484ef3f34ffd1a412",
              "version_major": 2,
              "version_minor": 0
            },
            "text/plain": [
              "Map:   0%|          | 0/320 [00:00<?, ? examples/s]"
            ]
          },
          "metadata": {},
          "output_type": "display_data"
        },
        {
          "data": {
            "application/vnd.jupyter.widget-view+json": {
              "model_id": "b569e3a4038246f0b3ab223c1c5d514b",
              "version_major": 2,
              "version_minor": 0
            },
            "text/plain": [
              "Running Epoch 2 of 10:   0%|          | 0/180 [00:00<?, ?it/s]"
            ]
          },
          "metadata": {},
          "output_type": "display_data"
        },
        {
          "data": {
            "application/vnd.jupyter.widget-view+json": {
              "model_id": "8d70f58484a34d1d863439e4c31d21e7",
              "version_major": 2,
              "version_minor": 0
            },
            "text/plain": [
              "Map:   0%|          | 0/320 [00:00<?, ? examples/s]"
            ]
          },
          "metadata": {},
          "output_type": "display_data"
        },
        {
          "data": {
            "application/vnd.jupyter.widget-view+json": {
              "model_id": "24684159d521481383b4ffd25ee59a62",
              "version_major": 2,
              "version_minor": 0
            },
            "text/plain": [
              "Running Epoch 3 of 10:   0%|          | 0/180 [00:00<?, ?it/s]"
            ]
          },
          "metadata": {},
          "output_type": "display_data"
        },
        {
          "data": {
            "application/vnd.jupyter.widget-view+json": {
              "model_id": "c681e096cc4c4415ad97a9960647284f",
              "version_major": 2,
              "version_minor": 0
            },
            "text/plain": [
              "Map:   0%|          | 0/320 [00:00<?, ? examples/s]"
            ]
          },
          "metadata": {},
          "output_type": "display_data"
        },
        {
          "data": {
            "application/vnd.jupyter.widget-view+json": {
              "model_id": "8ce726f0df424fc9be705f9d2c07e36a",
              "version_major": 2,
              "version_minor": 0
            },
            "text/plain": [
              "Running Epoch 4 of 10:   0%|          | 0/180 [00:00<?, ?it/s]"
            ]
          },
          "metadata": {},
          "output_type": "display_data"
        },
        {
          "data": {
            "application/vnd.jupyter.widget-view+json": {
              "model_id": "90e708d4664649ca8c0da48549ffa403",
              "version_major": 2,
              "version_minor": 0
            },
            "text/plain": [
              "Map:   0%|          | 0/320 [00:00<?, ? examples/s]"
            ]
          },
          "metadata": {},
          "output_type": "display_data"
        },
        {
          "data": {
            "application/vnd.jupyter.widget-view+json": {
              "model_id": "c118ea158da945c0a273866b940ec985",
              "version_major": 2,
              "version_minor": 0
            },
            "text/plain": [
              "Map:   0%|          | 0/800 [00:00<?, ? examples/s]"
            ]
          },
          "metadata": {},
          "output_type": "display_data"
        },
        {
          "data": {
            "application/vnd.jupyter.widget-view+json": {
              "model_id": "f4999277a9bd40f8a28b905778612a4b",
              "version_major": 2,
              "version_minor": 0
            },
            "text/plain": [
              "Predicting:   0%|          | 0/25 [00:00<?, ?it/s]"
            ]
          },
          "metadata": {},
          "output_type": "display_data"
        },
        {
          "data": {
            "application/vnd.jupyter.widget-view+json": {
              "model_id": "7af44f7b45be4b6fb1d37e9e64ce15d2",
              "version_major": 2,
              "version_minor": 0
            },
            "text/plain": [
              "Map:   0%|          | 0/2880 [00:00<?, ? examples/s]"
            ]
          },
          "metadata": {},
          "output_type": "display_data"
        },
        {
          "data": {
            "application/vnd.jupyter.widget-view+json": {
              "model_id": "41117346baca4cb6b9f70fc7b903ab96",
              "version_major": 2,
              "version_minor": 0
            },
            "text/plain": [
              "Epoch:   0%|          | 0/10 [00:00<?, ?it/s]"
            ]
          },
          "metadata": {},
          "output_type": "display_data"
        },
        {
          "data": {
            "application/vnd.jupyter.widget-view+json": {
              "model_id": "c2a8f1ce4ac7409185ae7213a0b75b30",
              "version_major": 2,
              "version_minor": 0
            },
            "text/plain": [
              "Running Epoch 1 of 10:   0%|          | 0/180 [00:00<?, ?it/s]"
            ]
          },
          "metadata": {},
          "output_type": "display_data"
        },
        {
          "data": {
            "application/vnd.jupyter.widget-view+json": {
              "model_id": "0d3e9c965cac4f168eba14b2127d2659",
              "version_major": 2,
              "version_minor": 0
            },
            "text/plain": [
              "Map:   0%|          | 0/320 [00:00<?, ? examples/s]"
            ]
          },
          "metadata": {},
          "output_type": "display_data"
        },
        {
          "data": {
            "application/vnd.jupyter.widget-view+json": {
              "model_id": "c9aa03293b384951b12b92cf2df1c552",
              "version_major": 2,
              "version_minor": 0
            },
            "text/plain": [
              "Running Epoch 2 of 10:   0%|          | 0/180 [00:00<?, ?it/s]"
            ]
          },
          "metadata": {},
          "output_type": "display_data"
        },
        {
          "data": {
            "application/vnd.jupyter.widget-view+json": {
              "model_id": "c5c2dcb000ec4464acd7380ded4c9d01",
              "version_major": 2,
              "version_minor": 0
            },
            "text/plain": [
              "Map:   0%|          | 0/320 [00:00<?, ? examples/s]"
            ]
          },
          "metadata": {},
          "output_type": "display_data"
        },
        {
          "data": {
            "application/vnd.jupyter.widget-view+json": {
              "model_id": "36cb6faae95e4a05ad2620141cdcd304",
              "version_major": 2,
              "version_minor": 0
            },
            "text/plain": [
              "Map:   0%|          | 0/800 [00:00<?, ? examples/s]"
            ]
          },
          "metadata": {},
          "output_type": "display_data"
        },
        {
          "data": {
            "application/vnd.jupyter.widget-view+json": {
              "model_id": "52f6cc797f574fcf9b36e8d443ccb4d6",
              "version_major": 2,
              "version_minor": 0
            },
            "text/plain": [
              "Predicting:   0%|          | 0/25 [00:00<?, ?it/s]"
            ]
          },
          "metadata": {},
          "output_type": "display_data"
        },
        {
          "data": {
            "application/vnd.jupyter.widget-view+json": {
              "model_id": "311dc3097a4c4273accffa00753da2df",
              "version_major": 2,
              "version_minor": 0
            },
            "text/plain": [
              "Map:   0%|          | 0/2880 [00:00<?, ? examples/s]"
            ]
          },
          "metadata": {},
          "output_type": "display_data"
        },
        {
          "data": {
            "application/vnd.jupyter.widget-view+json": {
              "model_id": "e343cacda72b4f44ba5396258066bdeb",
              "version_major": 2,
              "version_minor": 0
            },
            "text/plain": [
              "Epoch:   0%|          | 0/10 [00:00<?, ?it/s]"
            ]
          },
          "metadata": {},
          "output_type": "display_data"
        },
        {
          "data": {
            "application/vnd.jupyter.widget-view+json": {
              "model_id": "af2e4466d71640ab8527decd604d0cfd",
              "version_major": 2,
              "version_minor": 0
            },
            "text/plain": [
              "Running Epoch 1 of 10:   0%|          | 0/180 [00:00<?, ?it/s]"
            ]
          },
          "metadata": {},
          "output_type": "display_data"
        },
        {
          "data": {
            "application/vnd.jupyter.widget-view+json": {
              "model_id": "7bcec441a0b14e19a43ac8e8f91ae377",
              "version_major": 2,
              "version_minor": 0
            },
            "text/plain": [
              "Map:   0%|          | 0/320 [00:00<?, ? examples/s]"
            ]
          },
          "metadata": {},
          "output_type": "display_data"
        },
        {
          "data": {
            "application/vnd.jupyter.widget-view+json": {
              "model_id": "85886d83b0554be7a409be3ddf0e3aa6",
              "version_major": 2,
              "version_minor": 0
            },
            "text/plain": [
              "Running Epoch 2 of 10:   0%|          | 0/180 [00:00<?, ?it/s]"
            ]
          },
          "metadata": {},
          "output_type": "display_data"
        },
        {
          "data": {
            "application/vnd.jupyter.widget-view+json": {
              "model_id": "208e0dfc562144c19050b814d06d2aba",
              "version_major": 2,
              "version_minor": 0
            },
            "text/plain": [
              "Map:   0%|          | 0/320 [00:00<?, ? examples/s]"
            ]
          },
          "metadata": {},
          "output_type": "display_data"
        },
        {
          "data": {
            "application/vnd.jupyter.widget-view+json": {
              "model_id": "fd2793d6da9f4bba94e308b673d6e311",
              "version_major": 2,
              "version_minor": 0
            },
            "text/plain": [
              "Map:   0%|          | 0/800 [00:00<?, ? examples/s]"
            ]
          },
          "metadata": {},
          "output_type": "display_data"
        },
        {
          "data": {
            "application/vnd.jupyter.widget-view+json": {
              "model_id": "b69089c447904350832cd8178d121ce4",
              "version_major": 2,
              "version_minor": 0
            },
            "text/plain": [
              "Predicting:   0%|          | 0/25 [00:00<?, ?it/s]"
            ]
          },
          "metadata": {},
          "output_type": "display_data"
        },
        {
          "data": {
            "application/vnd.jupyter.widget-view+json": {
              "model_id": "097931e44d004ae59f31e1603455c932",
              "version_major": 2,
              "version_minor": 0
            },
            "text/plain": [
              "BigBird | Cross-Validating:   0%|          | 0/5 [00:00<?, ?it/s]"
            ]
          },
          "metadata": {},
          "output_type": "display_data"
        },
        {
          "data": {
            "application/vnd.jupyter.widget-view+json": {
              "model_id": "0ac9854f307e4460a308dba0ddfb73ff",
              "version_major": 2,
              "version_minor": 0
            },
            "text/plain": [
              "Map:   0%|          | 0/2880 [00:00<?, ? examples/s]"
            ]
          },
          "metadata": {},
          "output_type": "display_data"
        },
        {
          "data": {
            "application/vnd.jupyter.widget-view+json": {
              "model_id": "5afa1f56cdea4d65a05ef23b35c3388f",
              "version_major": 2,
              "version_minor": 0
            },
            "text/plain": [
              "Epoch:   0%|          | 0/10 [00:00<?, ?it/s]"
            ]
          },
          "metadata": {},
          "output_type": "display_data"
        },
        {
          "data": {
            "application/vnd.jupyter.widget-view+json": {
              "model_id": "b04d778adcde4890a03a572f6a972817",
              "version_major": 2,
              "version_minor": 0
            },
            "text/plain": [
              "Running Epoch 1 of 10:   0%|          | 0/180 [00:00<?, ?it/s]"
            ]
          },
          "metadata": {},
          "output_type": "display_data"
        },
        {
          "data": {
            "application/vnd.jupyter.widget-view+json": {
              "model_id": "8ea3ceb907fc4d48988b3c5ecf73c581",
              "version_major": 2,
              "version_minor": 0
            },
            "text/plain": [
              "Map:   0%|          | 0/320 [00:00<?, ? examples/s]"
            ]
          },
          "metadata": {},
          "output_type": "display_data"
        },
        {
          "data": {
            "application/vnd.jupyter.widget-view+json": {
              "model_id": "962076d955a94e88b80db9aa3db9c662",
              "version_major": 2,
              "version_minor": 0
            },
            "text/plain": [
              "Running Epoch 2 of 10:   0%|          | 0/180 [00:00<?, ?it/s]"
            ]
          },
          "metadata": {},
          "output_type": "display_data"
        },
        {
          "data": {
            "application/vnd.jupyter.widget-view+json": {
              "model_id": "50992a638ead4758bbc973cecb5b04b4",
              "version_major": 2,
              "version_minor": 0
            },
            "text/plain": [
              "Map:   0%|          | 0/320 [00:00<?, ? examples/s]"
            ]
          },
          "metadata": {},
          "output_type": "display_data"
        },
        {
          "data": {
            "application/vnd.jupyter.widget-view+json": {
              "model_id": "6c9649f6fd134ad7a6359889e82982eb",
              "version_major": 2,
              "version_minor": 0
            },
            "text/plain": [
              "Running Epoch 3 of 10:   0%|          | 0/180 [00:00<?, ?it/s]"
            ]
          },
          "metadata": {},
          "output_type": "display_data"
        },
        {
          "data": {
            "application/vnd.jupyter.widget-view+json": {
              "model_id": "3359cd97225d4b9eb3e138ee115d8631",
              "version_major": 2,
              "version_minor": 0
            },
            "text/plain": [
              "Map:   0%|          | 0/320 [00:00<?, ? examples/s]"
            ]
          },
          "metadata": {},
          "output_type": "display_data"
        },
        {
          "data": {
            "application/vnd.jupyter.widget-view+json": {
              "model_id": "aaf3fca2cdce450aa06e5d72f8223cb5",
              "version_major": 2,
              "version_minor": 0
            },
            "text/plain": [
              "Running Epoch 4 of 10:   0%|          | 0/180 [00:00<?, ?it/s]"
            ]
          },
          "metadata": {},
          "output_type": "display_data"
        },
        {
          "data": {
            "application/vnd.jupyter.widget-view+json": {
              "model_id": "dc1d2ebd229f43539f11def8fd593a9d",
              "version_major": 2,
              "version_minor": 0
            },
            "text/plain": [
              "Map:   0%|          | 0/320 [00:00<?, ? examples/s]"
            ]
          },
          "metadata": {},
          "output_type": "display_data"
        },
        {
          "data": {
            "application/vnd.jupyter.widget-view+json": {
              "model_id": "1501d09e83b942f1b83fdc238a315cd9",
              "version_major": 2,
              "version_minor": 0
            },
            "text/plain": [
              "Running Epoch 5 of 10:   0%|          | 0/180 [00:00<?, ?it/s]"
            ]
          },
          "metadata": {},
          "output_type": "display_data"
        },
        {
          "data": {
            "application/vnd.jupyter.widget-view+json": {
              "model_id": "ef11e467fc964cab98460e506bf6a164",
              "version_major": 2,
              "version_minor": 0
            },
            "text/plain": [
              "Map:   0%|          | 0/320 [00:00<?, ? examples/s]"
            ]
          },
          "metadata": {},
          "output_type": "display_data"
        },
        {
          "data": {
            "application/vnd.jupyter.widget-view+json": {
              "model_id": "0800bf9ad1be46c3b173d189aaaa9e3f",
              "version_major": 2,
              "version_minor": 0
            },
            "text/plain": [
              "Map:   0%|          | 0/800 [00:00<?, ? examples/s]"
            ]
          },
          "metadata": {},
          "output_type": "display_data"
        },
        {
          "data": {
            "application/vnd.jupyter.widget-view+json": {
              "model_id": "638d8400f0cb471bb58f1eb28902ff88",
              "version_major": 2,
              "version_minor": 0
            },
            "text/plain": [
              "Predicting:   0%|          | 0/25 [00:00<?, ?it/s]"
            ]
          },
          "metadata": {},
          "output_type": "display_data"
        },
        {
          "data": {
            "application/vnd.jupyter.widget-view+json": {
              "model_id": "f002b1a842084f489465c0c88866bd42",
              "version_major": 2,
              "version_minor": 0
            },
            "text/plain": [
              "Map:   0%|          | 0/2880 [00:00<?, ? examples/s]"
            ]
          },
          "metadata": {},
          "output_type": "display_data"
        },
        {
          "data": {
            "application/vnd.jupyter.widget-view+json": {
              "model_id": "585c0010d1ea4fa9a5fb4aca942e80bf",
              "version_major": 2,
              "version_minor": 0
            },
            "text/plain": [
              "Epoch:   0%|          | 0/10 [00:00<?, ?it/s]"
            ]
          },
          "metadata": {},
          "output_type": "display_data"
        },
        {
          "data": {
            "application/vnd.jupyter.widget-view+json": {
              "model_id": "19c5fa0b1e284cdc94d73c3cbbd02464",
              "version_major": 2,
              "version_minor": 0
            },
            "text/plain": [
              "Running Epoch 1 of 10:   0%|          | 0/180 [00:00<?, ?it/s]"
            ]
          },
          "metadata": {},
          "output_type": "display_data"
        },
        {
          "data": {
            "application/vnd.jupyter.widget-view+json": {
              "model_id": "c96bdc4ef8204d14a4652c0e71d28c78",
              "version_major": 2,
              "version_minor": 0
            },
            "text/plain": [
              "Map:   0%|          | 0/320 [00:00<?, ? examples/s]"
            ]
          },
          "metadata": {},
          "output_type": "display_data"
        },
        {
          "data": {
            "application/vnd.jupyter.widget-view+json": {
              "model_id": "b4d315a7e9854fa3a033ba145063f7cd",
              "version_major": 2,
              "version_minor": 0
            },
            "text/plain": [
              "Running Epoch 2 of 10:   0%|          | 0/180 [00:00<?, ?it/s]"
            ]
          },
          "metadata": {},
          "output_type": "display_data"
        },
        {
          "data": {
            "application/vnd.jupyter.widget-view+json": {
              "model_id": "ad9ab6e7b97843dcb5f600ae2d89c865",
              "version_major": 2,
              "version_minor": 0
            },
            "text/plain": [
              "Map:   0%|          | 0/320 [00:00<?, ? examples/s]"
            ]
          },
          "metadata": {},
          "output_type": "display_data"
        },
        {
          "data": {
            "application/vnd.jupyter.widget-view+json": {
              "model_id": "3ebb1eeec356449a9754f438d53a4f16",
              "version_major": 2,
              "version_minor": 0
            },
            "text/plain": [
              "Running Epoch 3 of 10:   0%|          | 0/180 [00:00<?, ?it/s]"
            ]
          },
          "metadata": {},
          "output_type": "display_data"
        },
        {
          "data": {
            "application/vnd.jupyter.widget-view+json": {
              "model_id": "bd6518a100484b13be1f9a4f832928d9",
              "version_major": 2,
              "version_minor": 0
            },
            "text/plain": [
              "Map:   0%|          | 0/320 [00:00<?, ? examples/s]"
            ]
          },
          "metadata": {},
          "output_type": "display_data"
        },
        {
          "data": {
            "application/vnd.jupyter.widget-view+json": {
              "model_id": "3ad667b0d9464313a256cac8c6176ca6",
              "version_major": 2,
              "version_minor": 0
            },
            "text/plain": [
              "Running Epoch 4 of 10:   0%|          | 0/180 [00:00<?, ?it/s]"
            ]
          },
          "metadata": {},
          "output_type": "display_data"
        },
        {
          "data": {
            "application/vnd.jupyter.widget-view+json": {
              "model_id": "56bbce5f3f054616ba7e63eb3f080969",
              "version_major": 2,
              "version_minor": 0
            },
            "text/plain": [
              "Map:   0%|          | 0/320 [00:00<?, ? examples/s]"
            ]
          },
          "metadata": {},
          "output_type": "display_data"
        },
        {
          "data": {
            "application/vnd.jupyter.widget-view+json": {
              "model_id": "72320e73cf1e4ad3b3c901ea21034e00",
              "version_major": 2,
              "version_minor": 0
            },
            "text/plain": [
              "Running Epoch 5 of 10:   0%|          | 0/180 [00:00<?, ?it/s]"
            ]
          },
          "metadata": {},
          "output_type": "display_data"
        },
        {
          "data": {
            "application/vnd.jupyter.widget-view+json": {
              "model_id": "2e1983949d93443380e4af4e3a2c92e9",
              "version_major": 2,
              "version_minor": 0
            },
            "text/plain": [
              "Map:   0%|          | 0/320 [00:00<?, ? examples/s]"
            ]
          },
          "metadata": {},
          "output_type": "display_data"
        },
        {
          "data": {
            "application/vnd.jupyter.widget-view+json": {
              "model_id": "9235271026d9478ba78e2db79b225836",
              "version_major": 2,
              "version_minor": 0
            },
            "text/plain": [
              "Map:   0%|          | 0/800 [00:00<?, ? examples/s]"
            ]
          },
          "metadata": {},
          "output_type": "display_data"
        },
        {
          "data": {
            "application/vnd.jupyter.widget-view+json": {
              "model_id": "e94fe3c0f70848e99e09dd1d7ade24f7",
              "version_major": 2,
              "version_minor": 0
            },
            "text/plain": [
              "Predicting:   0%|          | 0/25 [00:00<?, ?it/s]"
            ]
          },
          "metadata": {},
          "output_type": "display_data"
        },
        {
          "data": {
            "application/vnd.jupyter.widget-view+json": {
              "model_id": "ca64407e749d49149b69d7a64496e737",
              "version_major": 2,
              "version_minor": 0
            },
            "text/plain": [
              "Map:   0%|          | 0/2880 [00:00<?, ? examples/s]"
            ]
          },
          "metadata": {},
          "output_type": "display_data"
        },
        {
          "data": {
            "application/vnd.jupyter.widget-view+json": {
              "model_id": "a641e148fefc4a038b83a3b16c27547f",
              "version_major": 2,
              "version_minor": 0
            },
            "text/plain": [
              "Epoch:   0%|          | 0/10 [00:00<?, ?it/s]"
            ]
          },
          "metadata": {},
          "output_type": "display_data"
        },
        {
          "data": {
            "application/vnd.jupyter.widget-view+json": {
              "model_id": "bad9f8ff308b444c984c719cf2d62769",
              "version_major": 2,
              "version_minor": 0
            },
            "text/plain": [
              "Running Epoch 1 of 10:   0%|          | 0/180 [00:00<?, ?it/s]"
            ]
          },
          "metadata": {},
          "output_type": "display_data"
        },
        {
          "data": {
            "application/vnd.jupyter.widget-view+json": {
              "model_id": "ccd45c84baec439aadc8b7f037ab8bbf",
              "version_major": 2,
              "version_minor": 0
            },
            "text/plain": [
              "Map:   0%|          | 0/320 [00:00<?, ? examples/s]"
            ]
          },
          "metadata": {},
          "output_type": "display_data"
        },
        {
          "data": {
            "application/vnd.jupyter.widget-view+json": {
              "model_id": "c254a464db7e4d48a51399647884e3b3",
              "version_major": 2,
              "version_minor": 0
            },
            "text/plain": [
              "Running Epoch 2 of 10:   0%|          | 0/180 [00:00<?, ?it/s]"
            ]
          },
          "metadata": {},
          "output_type": "display_data"
        },
        {
          "data": {
            "application/vnd.jupyter.widget-view+json": {
              "model_id": "685741d688064ccf813e86d1a518bcd2",
              "version_major": 2,
              "version_minor": 0
            },
            "text/plain": [
              "Map:   0%|          | 0/320 [00:00<?, ? examples/s]"
            ]
          },
          "metadata": {},
          "output_type": "display_data"
        },
        {
          "data": {
            "application/vnd.jupyter.widget-view+json": {
              "model_id": "f0e8206a4f024107bde832ee605abd8e",
              "version_major": 2,
              "version_minor": 0
            },
            "text/plain": [
              "Map:   0%|          | 0/800 [00:00<?, ? examples/s]"
            ]
          },
          "metadata": {},
          "output_type": "display_data"
        },
        {
          "data": {
            "application/vnd.jupyter.widget-view+json": {
              "model_id": "7deea7c066914b0ebd939f7ec072b016",
              "version_major": 2,
              "version_minor": 0
            },
            "text/plain": [
              "Predicting:   0%|          | 0/25 [00:00<?, ?it/s]"
            ]
          },
          "metadata": {},
          "output_type": "display_data"
        },
        {
          "data": {
            "application/vnd.jupyter.widget-view+json": {
              "model_id": "179c5b2a5f4f45be9e805b354908caf9",
              "version_major": 2,
              "version_minor": 0
            },
            "text/plain": [
              "Map:   0%|          | 0/2880 [00:00<?, ? examples/s]"
            ]
          },
          "metadata": {},
          "output_type": "display_data"
        },
        {
          "data": {
            "application/vnd.jupyter.widget-view+json": {
              "model_id": "488862dd6ad646cfa60d4f738db705ce",
              "version_major": 2,
              "version_minor": 0
            },
            "text/plain": [
              "Epoch:   0%|          | 0/10 [00:00<?, ?it/s]"
            ]
          },
          "metadata": {},
          "output_type": "display_data"
        },
        {
          "data": {
            "application/vnd.jupyter.widget-view+json": {
              "model_id": "f4ea0839fa484f629740f1766d1dd104",
              "version_major": 2,
              "version_minor": 0
            },
            "text/plain": [
              "Running Epoch 1 of 10:   0%|          | 0/180 [00:00<?, ?it/s]"
            ]
          },
          "metadata": {},
          "output_type": "display_data"
        },
        {
          "data": {
            "application/vnd.jupyter.widget-view+json": {
              "model_id": "0512f4a77a3c4d6f95456d30b4920670",
              "version_major": 2,
              "version_minor": 0
            },
            "text/plain": [
              "Map:   0%|          | 0/320 [00:00<?, ? examples/s]"
            ]
          },
          "metadata": {},
          "output_type": "display_data"
        },
        {
          "data": {
            "application/vnd.jupyter.widget-view+json": {
              "model_id": "4be1ea7e5adc4a75a818cd8289e363f5",
              "version_major": 2,
              "version_minor": 0
            },
            "text/plain": [
              "Running Epoch 2 of 10:   0%|          | 0/180 [00:00<?, ?it/s]"
            ]
          },
          "metadata": {},
          "output_type": "display_data"
        },
        {
          "data": {
            "application/vnd.jupyter.widget-view+json": {
              "model_id": "9d0245d67acb437cabc60008f7b01f0e",
              "version_major": 2,
              "version_minor": 0
            },
            "text/plain": [
              "Map:   0%|          | 0/320 [00:00<?, ? examples/s]"
            ]
          },
          "metadata": {},
          "output_type": "display_data"
        },
        {
          "data": {
            "application/vnd.jupyter.widget-view+json": {
              "model_id": "acd2538ee6124d848cf58224ababb8e1",
              "version_major": 2,
              "version_minor": 0
            },
            "text/plain": [
              "Running Epoch 3 of 10:   0%|          | 0/180 [00:00<?, ?it/s]"
            ]
          },
          "metadata": {},
          "output_type": "display_data"
        },
        {
          "data": {
            "application/vnd.jupyter.widget-view+json": {
              "model_id": "636e6972ca8b4232b0f3afeb8aba9832",
              "version_major": 2,
              "version_minor": 0
            },
            "text/plain": [
              "Map:   0%|          | 0/320 [00:00<?, ? examples/s]"
            ]
          },
          "metadata": {},
          "output_type": "display_data"
        },
        {
          "data": {
            "application/vnd.jupyter.widget-view+json": {
              "model_id": "fca41e9faeef4e7fa801564421e227bb",
              "version_major": 2,
              "version_minor": 0
            },
            "text/plain": [
              "Running Epoch 4 of 10:   0%|          | 0/180 [00:00<?, ?it/s]"
            ]
          },
          "metadata": {},
          "output_type": "display_data"
        },
        {
          "data": {
            "application/vnd.jupyter.widget-view+json": {
              "model_id": "37cd5995ce5e4ddb84deb773794a7c45",
              "version_major": 2,
              "version_minor": 0
            },
            "text/plain": [
              "Map:   0%|          | 0/320 [00:00<?, ? examples/s]"
            ]
          },
          "metadata": {},
          "output_type": "display_data"
        },
        {
          "data": {
            "application/vnd.jupyter.widget-view+json": {
              "model_id": "9554126ab4d1416c84b28e282f6526e0",
              "version_major": 2,
              "version_minor": 0
            },
            "text/plain": [
              "Running Epoch 5 of 10:   0%|          | 0/180 [00:00<?, ?it/s]"
            ]
          },
          "metadata": {},
          "output_type": "display_data"
        },
        {
          "data": {
            "application/vnd.jupyter.widget-view+json": {
              "model_id": "27d766dee9e3484599805c52050e1456",
              "version_major": 2,
              "version_minor": 0
            },
            "text/plain": [
              "Map:   0%|          | 0/320 [00:00<?, ? examples/s]"
            ]
          },
          "metadata": {},
          "output_type": "display_data"
        },
        {
          "data": {
            "application/vnd.jupyter.widget-view+json": {
              "model_id": "dd80520308254211b5f10c34687d82eb",
              "version_major": 2,
              "version_minor": 0
            },
            "text/plain": [
              "Map:   0%|          | 0/800 [00:00<?, ? examples/s]"
            ]
          },
          "metadata": {},
          "output_type": "display_data"
        },
        {
          "data": {
            "application/vnd.jupyter.widget-view+json": {
              "model_id": "ecb03cf1bc01417fb7c3af1080ffc330",
              "version_major": 2,
              "version_minor": 0
            },
            "text/plain": [
              "Predicting:   0%|          | 0/25 [00:00<?, ?it/s]"
            ]
          },
          "metadata": {},
          "output_type": "display_data"
        },
        {
          "data": {
            "application/vnd.jupyter.widget-view+json": {
              "model_id": "9e341560fdbf4b04979075c461c48d4b",
              "version_major": 2,
              "version_minor": 0
            },
            "text/plain": [
              "Map:   0%|          | 0/2880 [00:00<?, ? examples/s]"
            ]
          },
          "metadata": {},
          "output_type": "display_data"
        },
        {
          "data": {
            "application/vnd.jupyter.widget-view+json": {
              "model_id": "74b23bcd025d4014a766da30aa1f159b",
              "version_major": 2,
              "version_minor": 0
            },
            "text/plain": [
              "Epoch:   0%|          | 0/10 [00:00<?, ?it/s]"
            ]
          },
          "metadata": {},
          "output_type": "display_data"
        },
        {
          "data": {
            "application/vnd.jupyter.widget-view+json": {
              "model_id": "f3d790d544304b628898d59326b66d5f",
              "version_major": 2,
              "version_minor": 0
            },
            "text/plain": [
              "Running Epoch 1 of 10:   0%|          | 0/180 [00:00<?, ?it/s]"
            ]
          },
          "metadata": {},
          "output_type": "display_data"
        },
        {
          "data": {
            "application/vnd.jupyter.widget-view+json": {
              "model_id": "82164cd08bb24d09b602aaea76753305",
              "version_major": 2,
              "version_minor": 0
            },
            "text/plain": [
              "Map:   0%|          | 0/320 [00:00<?, ? examples/s]"
            ]
          },
          "metadata": {},
          "output_type": "display_data"
        },
        {
          "data": {
            "application/vnd.jupyter.widget-view+json": {
              "model_id": "7bbd043c69834a859444c4ba1fd469c1",
              "version_major": 2,
              "version_minor": 0
            },
            "text/plain": [
              "Running Epoch 2 of 10:   0%|          | 0/180 [00:00<?, ?it/s]"
            ]
          },
          "metadata": {},
          "output_type": "display_data"
        },
        {
          "data": {
            "application/vnd.jupyter.widget-view+json": {
              "model_id": "807d8aa12037455ab5fe7406f9f7f32b",
              "version_major": 2,
              "version_minor": 0
            },
            "text/plain": [
              "Map:   0%|          | 0/320 [00:00<?, ? examples/s]"
            ]
          },
          "metadata": {},
          "output_type": "display_data"
        },
        {
          "data": {
            "application/vnd.jupyter.widget-view+json": {
              "model_id": "fcdf7ebae2314ca5914243cb4f4ab5c1",
              "version_major": 2,
              "version_minor": 0
            },
            "text/plain": [
              "Running Epoch 3 of 10:   0%|          | 0/180 [00:00<?, ?it/s]"
            ]
          },
          "metadata": {},
          "output_type": "display_data"
        },
        {
          "data": {
            "application/vnd.jupyter.widget-view+json": {
              "model_id": "b18e0e210f3f433c89bfe5eefb4f84c7",
              "version_major": 2,
              "version_minor": 0
            },
            "text/plain": [
              "Map:   0%|          | 0/320 [00:00<?, ? examples/s]"
            ]
          },
          "metadata": {},
          "output_type": "display_data"
        },
        {
          "data": {
            "application/vnd.jupyter.widget-view+json": {
              "model_id": "4a6bb7543e7f4897bfd9dacdba9ed44a",
              "version_major": 2,
              "version_minor": 0
            },
            "text/plain": [
              "Running Epoch 4 of 10:   0%|          | 0/180 [00:00<?, ?it/s]"
            ]
          },
          "metadata": {},
          "output_type": "display_data"
        },
        {
          "data": {
            "application/vnd.jupyter.widget-view+json": {
              "model_id": "d3c6dcdb2bed4a918653f28fcf176059",
              "version_major": 2,
              "version_minor": 0
            },
            "text/plain": [
              "Map:   0%|          | 0/320 [00:00<?, ? examples/s]"
            ]
          },
          "metadata": {},
          "output_type": "display_data"
        },
        {
          "data": {
            "application/vnd.jupyter.widget-view+json": {
              "model_id": "6e60783bdf5748dea8658f503f276b9c",
              "version_major": 2,
              "version_minor": 0
            },
            "text/plain": [
              "Map:   0%|          | 0/800 [00:00<?, ? examples/s]"
            ]
          },
          "metadata": {},
          "output_type": "display_data"
        },
        {
          "data": {
            "application/vnd.jupyter.widget-view+json": {
              "model_id": "2bd80fe5f8d7410bb0e71f88d1167989",
              "version_major": 2,
              "version_minor": 0
            },
            "text/plain": [
              "Predicting:   0%|          | 0/25 [00:00<?, ?it/s]"
            ]
          },
          "metadata": {},
          "output_type": "display_data"
        },
        {
          "data": {
            "application/vnd.jupyter.widget-view+json": {
              "model_id": "2c52554e517148e98c8de72da7d40e7a",
              "version_major": 2,
              "version_minor": 0
            },
            "text/plain": [
              "DistilBERT | Cross-Validating:   0%|          | 0/5 [00:00<?, ?it/s]"
            ]
          },
          "metadata": {},
          "output_type": "display_data"
        },
        {
          "data": {
            "application/vnd.jupyter.widget-view+json": {
              "model_id": "9b190cafa18544018ffe824b5894135b",
              "version_major": 2,
              "version_minor": 0
            },
            "text/plain": [
              "Map:   0%|          | 0/2880 [00:00<?, ? examples/s]"
            ]
          },
          "metadata": {},
          "output_type": "display_data"
        },
        {
          "data": {
            "application/vnd.jupyter.widget-view+json": {
              "model_id": "2a8cce1a8fb141789e1d0d3f11b25a87",
              "version_major": 2,
              "version_minor": 0
            },
            "text/plain": [
              "Epoch:   0%|          | 0/10 [00:00<?, ?it/s]"
            ]
          },
          "metadata": {},
          "output_type": "display_data"
        },
        {
          "data": {
            "application/vnd.jupyter.widget-view+json": {
              "model_id": "bbb997d6157f4730b8fddc08e8b2ffa8",
              "version_major": 2,
              "version_minor": 0
            },
            "text/plain": [
              "Running Epoch 1 of 10:   0%|          | 0/180 [00:00<?, ?it/s]"
            ]
          },
          "metadata": {},
          "output_type": "display_data"
        },
        {
          "data": {
            "application/vnd.jupyter.widget-view+json": {
              "model_id": "cc5e310a797248959786a22910d51ffa",
              "version_major": 2,
              "version_minor": 0
            },
            "text/plain": [
              "Map:   0%|          | 0/320 [00:00<?, ? examples/s]"
            ]
          },
          "metadata": {},
          "output_type": "display_data"
        },
        {
          "data": {
            "application/vnd.jupyter.widget-view+json": {
              "model_id": "02960b7eb3dd453b915cf6bb3cd46f42",
              "version_major": 2,
              "version_minor": 0
            },
            "text/plain": [
              "Running Epoch 2 of 10:   0%|          | 0/180 [00:00<?, ?it/s]"
            ]
          },
          "metadata": {},
          "output_type": "display_data"
        },
        {
          "data": {
            "application/vnd.jupyter.widget-view+json": {
              "model_id": "d2b43b2619a94b04baeb5671e1542e66",
              "version_major": 2,
              "version_minor": 0
            },
            "text/plain": [
              "Map:   0%|          | 0/320 [00:00<?, ? examples/s]"
            ]
          },
          "metadata": {},
          "output_type": "display_data"
        },
        {
          "data": {
            "application/vnd.jupyter.widget-view+json": {
              "model_id": "6a2648d61add45dea09c0956b898faa9",
              "version_major": 2,
              "version_minor": 0
            },
            "text/plain": [
              "Map:   0%|          | 0/800 [00:00<?, ? examples/s]"
            ]
          },
          "metadata": {},
          "output_type": "display_data"
        },
        {
          "data": {
            "application/vnd.jupyter.widget-view+json": {
              "model_id": "30f453dc7dee44c78945f72a59e54d73",
              "version_major": 2,
              "version_minor": 0
            },
            "text/plain": [
              "Predicting:   0%|          | 0/25 [00:00<?, ?it/s]"
            ]
          },
          "metadata": {},
          "output_type": "display_data"
        },
        {
          "data": {
            "application/vnd.jupyter.widget-view+json": {
              "model_id": "a69f6b0ed417491ca1ab09ab9768aded",
              "version_major": 2,
              "version_minor": 0
            },
            "text/plain": [
              "Map:   0%|          | 0/2880 [00:00<?, ? examples/s]"
            ]
          },
          "metadata": {},
          "output_type": "display_data"
        },
        {
          "data": {
            "application/vnd.jupyter.widget-view+json": {
              "model_id": "4be3a12a5dba4135b2b45b619a1a77ac",
              "version_major": 2,
              "version_minor": 0
            },
            "text/plain": [
              "Epoch:   0%|          | 0/10 [00:00<?, ?it/s]"
            ]
          },
          "metadata": {},
          "output_type": "display_data"
        },
        {
          "data": {
            "application/vnd.jupyter.widget-view+json": {
              "model_id": "7c551701376d4f0483fb57150dc22efe",
              "version_major": 2,
              "version_minor": 0
            },
            "text/plain": [
              "Running Epoch 1 of 10:   0%|          | 0/180 [00:00<?, ?it/s]"
            ]
          },
          "metadata": {},
          "output_type": "display_data"
        },
        {
          "data": {
            "application/vnd.jupyter.widget-view+json": {
              "model_id": "ad58567f6fb044baa5e165303e3d1bf1",
              "version_major": 2,
              "version_minor": 0
            },
            "text/plain": [
              "Map:   0%|          | 0/320 [00:00<?, ? examples/s]"
            ]
          },
          "metadata": {},
          "output_type": "display_data"
        },
        {
          "data": {
            "application/vnd.jupyter.widget-view+json": {
              "model_id": "98f5a9e1f79e450fba8f12f5bdb14bf8",
              "version_major": 2,
              "version_minor": 0
            },
            "text/plain": [
              "Running Epoch 2 of 10:   0%|          | 0/180 [00:00<?, ?it/s]"
            ]
          },
          "metadata": {},
          "output_type": "display_data"
        },
        {
          "data": {
            "application/vnd.jupyter.widget-view+json": {
              "model_id": "a950f59cb73f403592ef59cc482c51cb",
              "version_major": 2,
              "version_minor": 0
            },
            "text/plain": [
              "Map:   0%|          | 0/320 [00:00<?, ? examples/s]"
            ]
          },
          "metadata": {},
          "output_type": "display_data"
        },
        {
          "data": {
            "application/vnd.jupyter.widget-view+json": {
              "model_id": "928ef6deeaa04f47bad29c07387e8d56",
              "version_major": 2,
              "version_minor": 0
            },
            "text/plain": [
              "Map:   0%|          | 0/800 [00:00<?, ? examples/s]"
            ]
          },
          "metadata": {},
          "output_type": "display_data"
        },
        {
          "data": {
            "application/vnd.jupyter.widget-view+json": {
              "model_id": "935b0613fd1b4f5590e2d7905ad65001",
              "version_major": 2,
              "version_minor": 0
            },
            "text/plain": [
              "Predicting:   0%|          | 0/25 [00:00<?, ?it/s]"
            ]
          },
          "metadata": {},
          "output_type": "display_data"
        },
        {
          "data": {
            "application/vnd.jupyter.widget-view+json": {
              "model_id": "9ebee72dafea498b8920add520888f8c",
              "version_major": 2,
              "version_minor": 0
            },
            "text/plain": [
              "Map:   0%|          | 0/2880 [00:00<?, ? examples/s]"
            ]
          },
          "metadata": {},
          "output_type": "display_data"
        },
        {
          "data": {
            "application/vnd.jupyter.widget-view+json": {
              "model_id": "0076a472c08546a38cc45c7df65623b2",
              "version_major": 2,
              "version_minor": 0
            },
            "text/plain": [
              "Epoch:   0%|          | 0/10 [00:00<?, ?it/s]"
            ]
          },
          "metadata": {},
          "output_type": "display_data"
        },
        {
          "data": {
            "application/vnd.jupyter.widget-view+json": {
              "model_id": "86ad2b82ccdd450abec45c315345bfc8",
              "version_major": 2,
              "version_minor": 0
            },
            "text/plain": [
              "Running Epoch 1 of 10:   0%|          | 0/180 [00:00<?, ?it/s]"
            ]
          },
          "metadata": {},
          "output_type": "display_data"
        },
        {
          "data": {
            "application/vnd.jupyter.widget-view+json": {
              "model_id": "fc50e71c868141ef82b1dfc9a85544bd",
              "version_major": 2,
              "version_minor": 0
            },
            "text/plain": [
              "Map:   0%|          | 0/320 [00:00<?, ? examples/s]"
            ]
          },
          "metadata": {},
          "output_type": "display_data"
        },
        {
          "data": {
            "application/vnd.jupyter.widget-view+json": {
              "model_id": "6c804e105fb049ff990f4c35f8814c2e",
              "version_major": 2,
              "version_minor": 0
            },
            "text/plain": [
              "Running Epoch 2 of 10:   0%|          | 0/180 [00:00<?, ?it/s]"
            ]
          },
          "metadata": {},
          "output_type": "display_data"
        },
        {
          "data": {
            "application/vnd.jupyter.widget-view+json": {
              "model_id": "e0ea4b66fe9140edb6191f2f073de8de",
              "version_major": 2,
              "version_minor": 0
            },
            "text/plain": [
              "Map:   0%|          | 0/320 [00:00<?, ? examples/s]"
            ]
          },
          "metadata": {},
          "output_type": "display_data"
        },
        {
          "data": {
            "application/vnd.jupyter.widget-view+json": {
              "model_id": "fca0c668d5544b30ba523adbfbb29a18",
              "version_major": 2,
              "version_minor": 0
            },
            "text/plain": [
              "Running Epoch 3 of 10:   0%|          | 0/180 [00:00<?, ?it/s]"
            ]
          },
          "metadata": {},
          "output_type": "display_data"
        },
        {
          "data": {
            "application/vnd.jupyter.widget-view+json": {
              "model_id": "74e74eb634d5477888808295d8decb65",
              "version_major": 2,
              "version_minor": 0
            },
            "text/plain": [
              "Map:   0%|          | 0/320 [00:00<?, ? examples/s]"
            ]
          },
          "metadata": {},
          "output_type": "display_data"
        },
        {
          "data": {
            "application/vnd.jupyter.widget-view+json": {
              "model_id": "034163831e654ef691888e999b1b0b18",
              "version_major": 2,
              "version_minor": 0
            },
            "text/plain": [
              "Running Epoch 4 of 10:   0%|          | 0/180 [00:00<?, ?it/s]"
            ]
          },
          "metadata": {},
          "output_type": "display_data"
        },
        {
          "data": {
            "application/vnd.jupyter.widget-view+json": {
              "model_id": "59c40b6a33d447579753c0a6fb56899a",
              "version_major": 2,
              "version_minor": 0
            },
            "text/plain": [
              "Map:   0%|          | 0/320 [00:00<?, ? examples/s]"
            ]
          },
          "metadata": {},
          "output_type": "display_data"
        },
        {
          "data": {
            "application/vnd.jupyter.widget-view+json": {
              "model_id": "f00e59e9bbbf4cf380253ee2cc716ab0",
              "version_major": 2,
              "version_minor": 0
            },
            "text/plain": [
              "Map:   0%|          | 0/800 [00:00<?, ? examples/s]"
            ]
          },
          "metadata": {},
          "output_type": "display_data"
        },
        {
          "data": {
            "application/vnd.jupyter.widget-view+json": {
              "model_id": "f7c0f0139c984d9eaf65a7274312c522",
              "version_major": 2,
              "version_minor": 0
            },
            "text/plain": [
              "Predicting:   0%|          | 0/25 [00:00<?, ?it/s]"
            ]
          },
          "metadata": {},
          "output_type": "display_data"
        },
        {
          "data": {
            "application/vnd.jupyter.widget-view+json": {
              "model_id": "4a9330fb20cc42ba8e626711d42942da",
              "version_major": 2,
              "version_minor": 0
            },
            "text/plain": [
              "Map:   0%|          | 0/2880 [00:00<?, ? examples/s]"
            ]
          },
          "metadata": {},
          "output_type": "display_data"
        },
        {
          "data": {
            "application/vnd.jupyter.widget-view+json": {
              "model_id": "6f89c780c75d459c82ac4f1da8d30a6b",
              "version_major": 2,
              "version_minor": 0
            },
            "text/plain": [
              "Epoch:   0%|          | 0/10 [00:00<?, ?it/s]"
            ]
          },
          "metadata": {},
          "output_type": "display_data"
        },
        {
          "data": {
            "application/vnd.jupyter.widget-view+json": {
              "model_id": "617ac2df1228409d9d156a189d9fbb42",
              "version_major": 2,
              "version_minor": 0
            },
            "text/plain": [
              "Running Epoch 1 of 10:   0%|          | 0/180 [00:00<?, ?it/s]"
            ]
          },
          "metadata": {},
          "output_type": "display_data"
        },
        {
          "data": {
            "application/vnd.jupyter.widget-view+json": {
              "model_id": "a0f922cf69654300a2d0d4754913ecf4",
              "version_major": 2,
              "version_minor": 0
            },
            "text/plain": [
              "Map:   0%|          | 0/320 [00:00<?, ? examples/s]"
            ]
          },
          "metadata": {},
          "output_type": "display_data"
        },
        {
          "data": {
            "application/vnd.jupyter.widget-view+json": {
              "model_id": "eb3b0e9aa1914cd683938831929e211a",
              "version_major": 2,
              "version_minor": 0
            },
            "text/plain": [
              "Running Epoch 2 of 10:   0%|          | 0/180 [00:00<?, ?it/s]"
            ]
          },
          "metadata": {},
          "output_type": "display_data"
        },
        {
          "data": {
            "application/vnd.jupyter.widget-view+json": {
              "model_id": "85aa900e511c49fa8f7a7ce7c3eaf909",
              "version_major": 2,
              "version_minor": 0
            },
            "text/plain": [
              "Map:   0%|          | 0/320 [00:00<?, ? examples/s]"
            ]
          },
          "metadata": {},
          "output_type": "display_data"
        },
        {
          "data": {
            "application/vnd.jupyter.widget-view+json": {
              "model_id": "18bf2f00f36f40108f97159620392412",
              "version_major": 2,
              "version_minor": 0
            },
            "text/plain": [
              "Map:   0%|          | 0/800 [00:00<?, ? examples/s]"
            ]
          },
          "metadata": {},
          "output_type": "display_data"
        },
        {
          "data": {
            "application/vnd.jupyter.widget-view+json": {
              "model_id": "c3cb3132f59e476e9d71f4192794fa7d",
              "version_major": 2,
              "version_minor": 0
            },
            "text/plain": [
              "Predicting:   0%|          | 0/25 [00:00<?, ?it/s]"
            ]
          },
          "metadata": {},
          "output_type": "display_data"
        },
        {
          "data": {
            "application/vnd.jupyter.widget-view+json": {
              "model_id": "ab39ff32fd7147a0aa4470224256af3b",
              "version_major": 2,
              "version_minor": 0
            },
            "text/plain": [
              "Map:   0%|          | 0/2880 [00:00<?, ? examples/s]"
            ]
          },
          "metadata": {},
          "output_type": "display_data"
        },
        {
          "data": {
            "application/vnd.jupyter.widget-view+json": {
              "model_id": "79b4e49077dc42d7bca3bae71c96421c",
              "version_major": 2,
              "version_minor": 0
            },
            "text/plain": [
              "Epoch:   0%|          | 0/10 [00:00<?, ?it/s]"
            ]
          },
          "metadata": {},
          "output_type": "display_data"
        },
        {
          "data": {
            "application/vnd.jupyter.widget-view+json": {
              "model_id": "41f0c1507293464cabf891c245b53d2a",
              "version_major": 2,
              "version_minor": 0
            },
            "text/plain": [
              "Running Epoch 1 of 10:   0%|          | 0/180 [00:00<?, ?it/s]"
            ]
          },
          "metadata": {},
          "output_type": "display_data"
        },
        {
          "data": {
            "application/vnd.jupyter.widget-view+json": {
              "model_id": "c0c34ce1ec0e4888901aec183b6e3dfa",
              "version_major": 2,
              "version_minor": 0
            },
            "text/plain": [
              "Map:   0%|          | 0/320 [00:00<?, ? examples/s]"
            ]
          },
          "metadata": {},
          "output_type": "display_data"
        },
        {
          "data": {
            "application/vnd.jupyter.widget-view+json": {
              "model_id": "cbc8cfa500a141838f4f861ecfe80843",
              "version_major": 2,
              "version_minor": 0
            },
            "text/plain": [
              "Running Epoch 2 of 10:   0%|          | 0/180 [00:00<?, ?it/s]"
            ]
          },
          "metadata": {},
          "output_type": "display_data"
        },
        {
          "data": {
            "application/vnd.jupyter.widget-view+json": {
              "model_id": "48153eb8caf44f61951382cb29f2b2e1",
              "version_major": 2,
              "version_minor": 0
            },
            "text/plain": [
              "Map:   0%|          | 0/320 [00:00<?, ? examples/s]"
            ]
          },
          "metadata": {},
          "output_type": "display_data"
        },
        {
          "data": {
            "application/vnd.jupyter.widget-view+json": {
              "model_id": "ade66cfefdac4b69b45b2e4cd01c5d04",
              "version_major": 2,
              "version_minor": 0
            },
            "text/plain": [
              "Running Epoch 3 of 10:   0%|          | 0/180 [00:00<?, ?it/s]"
            ]
          },
          "metadata": {},
          "output_type": "display_data"
        },
        {
          "data": {
            "application/vnd.jupyter.widget-view+json": {
              "model_id": "6211c3bd20f740ab98c8f226dd29234b",
              "version_major": 2,
              "version_minor": 0
            },
            "text/plain": [
              "Map:   0%|          | 0/320 [00:00<?, ? examples/s]"
            ]
          },
          "metadata": {},
          "output_type": "display_data"
        },
        {
          "data": {
            "application/vnd.jupyter.widget-view+json": {
              "model_id": "daea9d685a50446e9cd56ab83c68739c",
              "version_major": 2,
              "version_minor": 0
            },
            "text/plain": [
              "Running Epoch 4 of 10:   0%|          | 0/180 [00:00<?, ?it/s]"
            ]
          },
          "metadata": {},
          "output_type": "display_data"
        },
        {
          "data": {
            "application/vnd.jupyter.widget-view+json": {
              "model_id": "40e9148afc14485c9d163be03e45a884",
              "version_major": 2,
              "version_minor": 0
            },
            "text/plain": [
              "Map:   0%|          | 0/320 [00:00<?, ? examples/s]"
            ]
          },
          "metadata": {},
          "output_type": "display_data"
        },
        {
          "data": {
            "application/vnd.jupyter.widget-view+json": {
              "model_id": "199f4f384ba5484dae62d5fcb385132b",
              "version_major": 2,
              "version_minor": 0
            },
            "text/plain": [
              "Running Epoch 5 of 10:   0%|          | 0/180 [00:00<?, ?it/s]"
            ]
          },
          "metadata": {},
          "output_type": "display_data"
        },
        {
          "data": {
            "application/vnd.jupyter.widget-view+json": {
              "model_id": "5543c1cefa984db8901d702550b29b07",
              "version_major": 2,
              "version_minor": 0
            },
            "text/plain": [
              "Map:   0%|          | 0/320 [00:00<?, ? examples/s]"
            ]
          },
          "metadata": {},
          "output_type": "display_data"
        },
        {
          "data": {
            "application/vnd.jupyter.widget-view+json": {
              "model_id": "31b99a41471348189ac1cb68412e31e4",
              "version_major": 2,
              "version_minor": 0
            },
            "text/plain": [
              "Running Epoch 6 of 10:   0%|          | 0/180 [00:00<?, ?it/s]"
            ]
          },
          "metadata": {},
          "output_type": "display_data"
        },
        {
          "data": {
            "application/vnd.jupyter.widget-view+json": {
              "model_id": "41aa4759483f48cdabd80ed3815c9ab0",
              "version_major": 2,
              "version_minor": 0
            },
            "text/plain": [
              "Map:   0%|          | 0/320 [00:00<?, ? examples/s]"
            ]
          },
          "metadata": {},
          "output_type": "display_data"
        },
        {
          "data": {
            "application/vnd.jupyter.widget-view+json": {
              "model_id": "45679265e54b4d98a8abf818acf6499c",
              "version_major": 2,
              "version_minor": 0
            },
            "text/plain": [
              "Map:   0%|          | 0/800 [00:00<?, ? examples/s]"
            ]
          },
          "metadata": {},
          "output_type": "display_data"
        },
        {
          "data": {
            "application/vnd.jupyter.widget-view+json": {
              "model_id": "51a95c4eadb94c8a99ea5b1be8f5e892",
              "version_major": 2,
              "version_minor": 0
            },
            "text/plain": [
              "Predicting:   0%|          | 0/25 [00:00<?, ?it/s]"
            ]
          },
          "metadata": {},
          "output_type": "display_data"
        },
        {
          "data": {
            "application/vnd.jupyter.widget-view+json": {
              "model_id": "cc72ab49c6fe423995092ac135533a91",
              "version_major": 2,
              "version_minor": 0
            },
            "text/plain": [
              "ALBERT | Cross-Validating:   0%|          | 0/5 [00:00<?, ?it/s]"
            ]
          },
          "metadata": {},
          "output_type": "display_data"
        },
        {
          "data": {
            "application/vnd.jupyter.widget-view+json": {
              "model_id": "f47ef6d1ce1c4801a7c4526ed5944e04",
              "version_major": 2,
              "version_minor": 0
            },
            "text/plain": [
              "Map:   0%|          | 0/2880 [00:00<?, ? examples/s]"
            ]
          },
          "metadata": {},
          "output_type": "display_data"
        },
        {
          "data": {
            "application/vnd.jupyter.widget-view+json": {
              "model_id": "029ddc4da89e46f8b10a3950cbf104ae",
              "version_major": 2,
              "version_minor": 0
            },
            "text/plain": [
              "Epoch:   0%|          | 0/10 [00:00<?, ?it/s]"
            ]
          },
          "metadata": {},
          "output_type": "display_data"
        },
        {
          "data": {
            "application/vnd.jupyter.widget-view+json": {
              "model_id": "c12bf65cf4624523b46c0ded41e11622",
              "version_major": 2,
              "version_minor": 0
            },
            "text/plain": [
              "Running Epoch 1 of 10:   0%|          | 0/180 [00:00<?, ?it/s]"
            ]
          },
          "metadata": {},
          "output_type": "display_data"
        },
        {
          "data": {
            "application/vnd.jupyter.widget-view+json": {
              "model_id": "8fc7db5c47d7480cb77af446e0b87d03",
              "version_major": 2,
              "version_minor": 0
            },
            "text/plain": [
              "Map:   0%|          | 0/320 [00:00<?, ? examples/s]"
            ]
          },
          "metadata": {},
          "output_type": "display_data"
        },
        {
          "data": {
            "application/vnd.jupyter.widget-view+json": {
              "model_id": "5681e57f6cdd48ad99fbf74a466d4eca",
              "version_major": 2,
              "version_minor": 0
            },
            "text/plain": [
              "Running Epoch 2 of 10:   0%|          | 0/180 [00:00<?, ?it/s]"
            ]
          },
          "metadata": {},
          "output_type": "display_data"
        },
        {
          "data": {
            "application/vnd.jupyter.widget-view+json": {
              "model_id": "cf8c107798e54e3eb6cdff7a0adaa024",
              "version_major": 2,
              "version_minor": 0
            },
            "text/plain": [
              "Map:   0%|          | 0/320 [00:00<?, ? examples/s]"
            ]
          },
          "metadata": {},
          "output_type": "display_data"
        },
        {
          "data": {
            "application/vnd.jupyter.widget-view+json": {
              "model_id": "f807175fc8cc48388eedf837b0ab1b52",
              "version_major": 2,
              "version_minor": 0
            },
            "text/plain": [
              "Running Epoch 3 of 10:   0%|          | 0/180 [00:00<?, ?it/s]"
            ]
          },
          "metadata": {},
          "output_type": "display_data"
        },
        {
          "data": {
            "application/vnd.jupyter.widget-view+json": {
              "model_id": "a0bad87cb48a4154b2884b49f67dfa3b",
              "version_major": 2,
              "version_minor": 0
            },
            "text/plain": [
              "Map:   0%|          | 0/320 [00:00<?, ? examples/s]"
            ]
          },
          "metadata": {},
          "output_type": "display_data"
        },
        {
          "data": {
            "application/vnd.jupyter.widget-view+json": {
              "model_id": "86d65a5f6f9c45c4bf6553c9ed4f50bf",
              "version_major": 2,
              "version_minor": 0
            },
            "text/plain": [
              "Running Epoch 4 of 10:   0%|          | 0/180 [00:00<?, ?it/s]"
            ]
          },
          "metadata": {},
          "output_type": "display_data"
        },
        {
          "data": {
            "application/vnd.jupyter.widget-view+json": {
              "model_id": "c1031e792f714efaa25b7dc9a695c438",
              "version_major": 2,
              "version_minor": 0
            },
            "text/plain": [
              "Map:   0%|          | 0/320 [00:00<?, ? examples/s]"
            ]
          },
          "metadata": {},
          "output_type": "display_data"
        },
        {
          "data": {
            "application/vnd.jupyter.widget-view+json": {
              "model_id": "4db0ccfda18d4bccba7f94320d4ea414",
              "version_major": 2,
              "version_minor": 0
            },
            "text/plain": [
              "Map:   0%|          | 0/800 [00:00<?, ? examples/s]"
            ]
          },
          "metadata": {},
          "output_type": "display_data"
        },
        {
          "data": {
            "application/vnd.jupyter.widget-view+json": {
              "model_id": "c58572966bfb4cb5b77a5495409fbb60",
              "version_major": 2,
              "version_minor": 0
            },
            "text/plain": [
              "Predicting:   0%|          | 0/25 [00:00<?, ?it/s]"
            ]
          },
          "metadata": {},
          "output_type": "display_data"
        },
        {
          "data": {
            "application/vnd.jupyter.widget-view+json": {
              "model_id": "15a79dda5c204a4db9ea730755da77c3",
              "version_major": 2,
              "version_minor": 0
            },
            "text/plain": [
              "Map:   0%|          | 0/2880 [00:00<?, ? examples/s]"
            ]
          },
          "metadata": {},
          "output_type": "display_data"
        },
        {
          "data": {
            "application/vnd.jupyter.widget-view+json": {
              "model_id": "749367d003544098b78e19ab97e330df",
              "version_major": 2,
              "version_minor": 0
            },
            "text/plain": [
              "Epoch:   0%|          | 0/10 [00:00<?, ?it/s]"
            ]
          },
          "metadata": {},
          "output_type": "display_data"
        },
        {
          "data": {
            "application/vnd.jupyter.widget-view+json": {
              "model_id": "1823358a0cac4512b424473aa7e2c142",
              "version_major": 2,
              "version_minor": 0
            },
            "text/plain": [
              "Running Epoch 1 of 10:   0%|          | 0/180 [00:00<?, ?it/s]"
            ]
          },
          "metadata": {},
          "output_type": "display_data"
        },
        {
          "data": {
            "application/vnd.jupyter.widget-view+json": {
              "model_id": "f083b32b6ea543f0a0213aaa9d0b7ffa",
              "version_major": 2,
              "version_minor": 0
            },
            "text/plain": [
              "Map:   0%|          | 0/320 [00:00<?, ? examples/s]"
            ]
          },
          "metadata": {},
          "output_type": "display_data"
        },
        {
          "data": {
            "application/vnd.jupyter.widget-view+json": {
              "model_id": "261ad7520d5540c2b99635042a148259",
              "version_major": 2,
              "version_minor": 0
            },
            "text/plain": [
              "Running Epoch 2 of 10:   0%|          | 0/180 [00:00<?, ?it/s]"
            ]
          },
          "metadata": {},
          "output_type": "display_data"
        },
        {
          "data": {
            "application/vnd.jupyter.widget-view+json": {
              "model_id": "fa521e13380d415ba6a42b44c5d1b60e",
              "version_major": 2,
              "version_minor": 0
            },
            "text/plain": [
              "Map:   0%|          | 0/320 [00:00<?, ? examples/s]"
            ]
          },
          "metadata": {},
          "output_type": "display_data"
        },
        {
          "data": {
            "application/vnd.jupyter.widget-view+json": {
              "model_id": "38eee19340334763a8f452f4fad52fb1",
              "version_major": 2,
              "version_minor": 0
            },
            "text/plain": [
              "Map:   0%|          | 0/800 [00:00<?, ? examples/s]"
            ]
          },
          "metadata": {},
          "output_type": "display_data"
        },
        {
          "data": {
            "application/vnd.jupyter.widget-view+json": {
              "model_id": "977503f1d43147438ca752e4529e2ab8",
              "version_major": 2,
              "version_minor": 0
            },
            "text/plain": [
              "Predicting:   0%|          | 0/25 [00:00<?, ?it/s]"
            ]
          },
          "metadata": {},
          "output_type": "display_data"
        },
        {
          "data": {
            "application/vnd.jupyter.widget-view+json": {
              "model_id": "0b51f051cfa84490a4ee1f26efa9351f",
              "version_major": 2,
              "version_minor": 0
            },
            "text/plain": [
              "Map:   0%|          | 0/2880 [00:00<?, ? examples/s]"
            ]
          },
          "metadata": {},
          "output_type": "display_data"
        },
        {
          "data": {
            "application/vnd.jupyter.widget-view+json": {
              "model_id": "afce4d3638d14ade925f1285efaf6912",
              "version_major": 2,
              "version_minor": 0
            },
            "text/plain": [
              "Epoch:   0%|          | 0/10 [00:00<?, ?it/s]"
            ]
          },
          "metadata": {},
          "output_type": "display_data"
        },
        {
          "data": {
            "application/vnd.jupyter.widget-view+json": {
              "model_id": "a40f036e3a1c462ea390318fb98d57d9",
              "version_major": 2,
              "version_minor": 0
            },
            "text/plain": [
              "Running Epoch 1 of 10:   0%|          | 0/180 [00:00<?, ?it/s]"
            ]
          },
          "metadata": {},
          "output_type": "display_data"
        },
        {
          "data": {
            "application/vnd.jupyter.widget-view+json": {
              "model_id": "b3910342accd405184c9891a56e7c9cf",
              "version_major": 2,
              "version_minor": 0
            },
            "text/plain": [
              "Map:   0%|          | 0/320 [00:00<?, ? examples/s]"
            ]
          },
          "metadata": {},
          "output_type": "display_data"
        },
        {
          "data": {
            "application/vnd.jupyter.widget-view+json": {
              "model_id": "13e6468cc5424709ab05530b7c438e95",
              "version_major": 2,
              "version_minor": 0
            },
            "text/plain": [
              "Running Epoch 2 of 10:   0%|          | 0/180 [00:00<?, ?it/s]"
            ]
          },
          "metadata": {},
          "output_type": "display_data"
        },
        {
          "data": {
            "application/vnd.jupyter.widget-view+json": {
              "model_id": "f0420c5c460049f4bc56e6a984c2f31e",
              "version_major": 2,
              "version_minor": 0
            },
            "text/plain": [
              "Map:   0%|          | 0/320 [00:00<?, ? examples/s]"
            ]
          },
          "metadata": {},
          "output_type": "display_data"
        },
        {
          "data": {
            "application/vnd.jupyter.widget-view+json": {
              "model_id": "a2d20673577b4767a98918c9a0f36e5b",
              "version_major": 2,
              "version_minor": 0
            },
            "text/plain": [
              "Running Epoch 3 of 10:   0%|          | 0/180 [00:00<?, ?it/s]"
            ]
          },
          "metadata": {},
          "output_type": "display_data"
        },
        {
          "data": {
            "application/vnd.jupyter.widget-view+json": {
              "model_id": "098a44be3e32471bb9435bda25e86f99",
              "version_major": 2,
              "version_minor": 0
            },
            "text/plain": [
              "Map:   0%|          | 0/320 [00:00<?, ? examples/s]"
            ]
          },
          "metadata": {},
          "output_type": "display_data"
        },
        {
          "data": {
            "application/vnd.jupyter.widget-view+json": {
              "model_id": "0e2586b5463d4c33b8c34f5da4a3e268",
              "version_major": 2,
              "version_minor": 0
            },
            "text/plain": [
              "Running Epoch 4 of 10:   0%|          | 0/180 [00:00<?, ?it/s]"
            ]
          },
          "metadata": {},
          "output_type": "display_data"
        },
        {
          "data": {
            "application/vnd.jupyter.widget-view+json": {
              "model_id": "9f7b918e5f91452ca6b1e7865c8e955e",
              "version_major": 2,
              "version_minor": 0
            },
            "text/plain": [
              "Map:   0%|          | 0/320 [00:00<?, ? examples/s]"
            ]
          },
          "metadata": {},
          "output_type": "display_data"
        },
        {
          "data": {
            "application/vnd.jupyter.widget-view+json": {
              "model_id": "57fc2315ed2844ceaecb96cb87cae7de",
              "version_major": 2,
              "version_minor": 0
            },
            "text/plain": [
              "Running Epoch 5 of 10:   0%|          | 0/180 [00:00<?, ?it/s]"
            ]
          },
          "metadata": {},
          "output_type": "display_data"
        },
        {
          "data": {
            "application/vnd.jupyter.widget-view+json": {
              "model_id": "3b15136925b246869bfcbf8233b46101",
              "version_major": 2,
              "version_minor": 0
            },
            "text/plain": [
              "Map:   0%|          | 0/320 [00:00<?, ? examples/s]"
            ]
          },
          "metadata": {},
          "output_type": "display_data"
        },
        {
          "data": {
            "application/vnd.jupyter.widget-view+json": {
              "model_id": "41673daea1e342afacc907f581665acc",
              "version_major": 2,
              "version_minor": 0
            },
            "text/plain": [
              "Map:   0%|          | 0/800 [00:00<?, ? examples/s]"
            ]
          },
          "metadata": {},
          "output_type": "display_data"
        },
        {
          "data": {
            "application/vnd.jupyter.widget-view+json": {
              "model_id": "6cd42de939134a9d987e992b54783563",
              "version_major": 2,
              "version_minor": 0
            },
            "text/plain": [
              "Predicting:   0%|          | 0/25 [00:00<?, ?it/s]"
            ]
          },
          "metadata": {},
          "output_type": "display_data"
        },
        {
          "data": {
            "application/vnd.jupyter.widget-view+json": {
              "model_id": "dc7af9b6b163484ca777f71ea4ec150c",
              "version_major": 2,
              "version_minor": 0
            },
            "text/plain": [
              "Map:   0%|          | 0/2880 [00:00<?, ? examples/s]"
            ]
          },
          "metadata": {},
          "output_type": "display_data"
        },
        {
          "data": {
            "application/vnd.jupyter.widget-view+json": {
              "model_id": "2913e633b2d14df9bb74cb9976fd5dc1",
              "version_major": 2,
              "version_minor": 0
            },
            "text/plain": [
              "Epoch:   0%|          | 0/10 [00:00<?, ?it/s]"
            ]
          },
          "metadata": {},
          "output_type": "display_data"
        },
        {
          "data": {
            "application/vnd.jupyter.widget-view+json": {
              "model_id": "4a5789f33a3f4b169a235693b98239b7",
              "version_major": 2,
              "version_minor": 0
            },
            "text/plain": [
              "Running Epoch 1 of 10:   0%|          | 0/180 [00:00<?, ?it/s]"
            ]
          },
          "metadata": {},
          "output_type": "display_data"
        },
        {
          "data": {
            "application/vnd.jupyter.widget-view+json": {
              "model_id": "3426f4feb61641369a59e67e440b3b9d",
              "version_major": 2,
              "version_minor": 0
            },
            "text/plain": [
              "Map:   0%|          | 0/320 [00:00<?, ? examples/s]"
            ]
          },
          "metadata": {},
          "output_type": "display_data"
        },
        {
          "data": {
            "application/vnd.jupyter.widget-view+json": {
              "model_id": "18536646189f41909cd693813c6eb18d",
              "version_major": 2,
              "version_minor": 0
            },
            "text/plain": [
              "Running Epoch 2 of 10:   0%|          | 0/180 [00:00<?, ?it/s]"
            ]
          },
          "metadata": {},
          "output_type": "display_data"
        },
        {
          "data": {
            "application/vnd.jupyter.widget-view+json": {
              "model_id": "85eb77271bdd4e7d9f9bb2de3f6e19bc",
              "version_major": 2,
              "version_minor": 0
            },
            "text/plain": [
              "Map:   0%|          | 0/320 [00:00<?, ? examples/s]"
            ]
          },
          "metadata": {},
          "output_type": "display_data"
        },
        {
          "data": {
            "application/vnd.jupyter.widget-view+json": {
              "model_id": "48811f4bdb664548894e0d5d944ac7ab",
              "version_major": 2,
              "version_minor": 0
            },
            "text/plain": [
              "Map:   0%|          | 0/800 [00:00<?, ? examples/s]"
            ]
          },
          "metadata": {},
          "output_type": "display_data"
        },
        {
          "data": {
            "application/vnd.jupyter.widget-view+json": {
              "model_id": "a0ec4461ce6042d7ad8d4c549fc6e49a",
              "version_major": 2,
              "version_minor": 0
            },
            "text/plain": [
              "Predicting:   0%|          | 0/25 [00:00<?, ?it/s]"
            ]
          },
          "metadata": {},
          "output_type": "display_data"
        },
        {
          "data": {
            "application/vnd.jupyter.widget-view+json": {
              "model_id": "ca21aaa7cad445308cf2f34d7299f812",
              "version_major": 2,
              "version_minor": 0
            },
            "text/plain": [
              "Map:   0%|          | 0/2880 [00:00<?, ? examples/s]"
            ]
          },
          "metadata": {},
          "output_type": "display_data"
        },
        {
          "data": {
            "application/vnd.jupyter.widget-view+json": {
              "model_id": "2b690a31f6464c31a991f2702a1d15de",
              "version_major": 2,
              "version_minor": 0
            },
            "text/plain": [
              "Epoch:   0%|          | 0/10 [00:00<?, ?it/s]"
            ]
          },
          "metadata": {},
          "output_type": "display_data"
        },
        {
          "data": {
            "application/vnd.jupyter.widget-view+json": {
              "model_id": "3d52d637df4749a0b6333528283a7efe",
              "version_major": 2,
              "version_minor": 0
            },
            "text/plain": [
              "Running Epoch 1 of 10:   0%|          | 0/180 [00:00<?, ?it/s]"
            ]
          },
          "metadata": {},
          "output_type": "display_data"
        },
        {
          "data": {
            "application/vnd.jupyter.widget-view+json": {
              "model_id": "844158706f654453bf86b65505a818ef",
              "version_major": 2,
              "version_minor": 0
            },
            "text/plain": [
              "Map:   0%|          | 0/320 [00:00<?, ? examples/s]"
            ]
          },
          "metadata": {},
          "output_type": "display_data"
        },
        {
          "data": {
            "application/vnd.jupyter.widget-view+json": {
              "model_id": "0fc782f264f248b59b7ae2ec26e3bf5a",
              "version_major": 2,
              "version_minor": 0
            },
            "text/plain": [
              "Running Epoch 2 of 10:   0%|          | 0/180 [00:00<?, ?it/s]"
            ]
          },
          "metadata": {},
          "output_type": "display_data"
        },
        {
          "data": {
            "application/vnd.jupyter.widget-view+json": {
              "model_id": "5b42da47daa0475d98709ab9b5df7e2e",
              "version_major": 2,
              "version_minor": 0
            },
            "text/plain": [
              "Map:   0%|          | 0/320 [00:00<?, ? examples/s]"
            ]
          },
          "metadata": {},
          "output_type": "display_data"
        },
        {
          "data": {
            "application/vnd.jupyter.widget-view+json": {
              "model_id": "8f6ee1c859384e31b32cf90834d7c305",
              "version_major": 2,
              "version_minor": 0
            },
            "text/plain": [
              "Map:   0%|          | 0/800 [00:00<?, ? examples/s]"
            ]
          },
          "metadata": {},
          "output_type": "display_data"
        },
        {
          "data": {
            "application/vnd.jupyter.widget-view+json": {
              "model_id": "6ccc8012dfdd415aacab5ce5b3b38813",
              "version_major": 2,
              "version_minor": 0
            },
            "text/plain": [
              "Predicting:   0%|          | 0/25 [00:00<?, ?it/s]"
            ]
          },
          "metadata": {},
          "output_type": "display_data"
        },
        {
          "data": {
            "application/vnd.jupyter.widget-view+json": {
              "model_id": "c5c135be07ac4a05b25a67b2151b63c9",
              "version_major": 2,
              "version_minor": 0
            },
            "text/plain": [
              "SciBERT | Cross-Validating:   0%|          | 0/5 [00:00<?, ?it/s]"
            ]
          },
          "metadata": {},
          "output_type": "display_data"
        },
        {
          "data": {
            "application/vnd.jupyter.widget-view+json": {
              "model_id": "77ff7ff93c7949c587d59484650e8b47",
              "version_major": 2,
              "version_minor": 0
            },
            "text/plain": [
              "Map:   0%|          | 0/2880 [00:00<?, ? examples/s]"
            ]
          },
          "metadata": {},
          "output_type": "display_data"
        },
        {
          "data": {
            "application/vnd.jupyter.widget-view+json": {
              "model_id": "4643fa8643564f8e99ee1b5626b7a003",
              "version_major": 2,
              "version_minor": 0
            },
            "text/plain": [
              "Epoch:   0%|          | 0/10 [00:00<?, ?it/s]"
            ]
          },
          "metadata": {},
          "output_type": "display_data"
        },
        {
          "data": {
            "application/vnd.jupyter.widget-view+json": {
              "model_id": "e71bca968afc4e52b4bcc20be8b712af",
              "version_major": 2,
              "version_minor": 0
            },
            "text/plain": [
              "Running Epoch 1 of 10:   0%|          | 0/180 [00:00<?, ?it/s]"
            ]
          },
          "metadata": {},
          "output_type": "display_data"
        },
        {
          "data": {
            "application/vnd.jupyter.widget-view+json": {
              "model_id": "47bf322f175b4139ac11f1020e3fe270",
              "version_major": 2,
              "version_minor": 0
            },
            "text/plain": [
              "Map:   0%|          | 0/320 [00:00<?, ? examples/s]"
            ]
          },
          "metadata": {},
          "output_type": "display_data"
        },
        {
          "data": {
            "application/vnd.jupyter.widget-view+json": {
              "model_id": "a035ed1db0654ad79d7211518d80e8ce",
              "version_major": 2,
              "version_minor": 0
            },
            "text/plain": [
              "Running Epoch 2 of 10:   0%|          | 0/180 [00:00<?, ?it/s]"
            ]
          },
          "metadata": {},
          "output_type": "display_data"
        },
        {
          "data": {
            "application/vnd.jupyter.widget-view+json": {
              "model_id": "20147e1c65ea411f985b215b43d88c99",
              "version_major": 2,
              "version_minor": 0
            },
            "text/plain": [
              "Map:   0%|          | 0/320 [00:00<?, ? examples/s]"
            ]
          },
          "metadata": {},
          "output_type": "display_data"
        },
        {
          "data": {
            "application/vnd.jupyter.widget-view+json": {
              "model_id": "f1bd8e9c44154857b8e3cbe650bd7fac",
              "version_major": 2,
              "version_minor": 0
            },
            "text/plain": [
              "Map:   0%|          | 0/800 [00:00<?, ? examples/s]"
            ]
          },
          "metadata": {},
          "output_type": "display_data"
        },
        {
          "data": {
            "application/vnd.jupyter.widget-view+json": {
              "model_id": "ae2abc7eda3a4e9ea8bd415a14f8ee9a",
              "version_major": 2,
              "version_minor": 0
            },
            "text/plain": [
              "Predicting:   0%|          | 0/25 [00:00<?, ?it/s]"
            ]
          },
          "metadata": {},
          "output_type": "display_data"
        },
        {
          "data": {
            "application/vnd.jupyter.widget-view+json": {
              "model_id": "fb81bfde11c84245a3fcea8dba7a7915",
              "version_major": 2,
              "version_minor": 0
            },
            "text/plain": [
              "Map:   0%|          | 0/2880 [00:00<?, ? examples/s]"
            ]
          },
          "metadata": {},
          "output_type": "display_data"
        },
        {
          "data": {
            "application/vnd.jupyter.widget-view+json": {
              "model_id": "27c686d674d14954aa82d98577f8c133",
              "version_major": 2,
              "version_minor": 0
            },
            "text/plain": [
              "Epoch:   0%|          | 0/10 [00:00<?, ?it/s]"
            ]
          },
          "metadata": {},
          "output_type": "display_data"
        },
        {
          "data": {
            "application/vnd.jupyter.widget-view+json": {
              "model_id": "2d7cbb8e2d7a41b6bd306907da2f256d",
              "version_major": 2,
              "version_minor": 0
            },
            "text/plain": [
              "Running Epoch 1 of 10:   0%|          | 0/180 [00:00<?, ?it/s]"
            ]
          },
          "metadata": {},
          "output_type": "display_data"
        },
        {
          "data": {
            "application/vnd.jupyter.widget-view+json": {
              "model_id": "f5b7b351029645bfa993a9e4582e352f",
              "version_major": 2,
              "version_minor": 0
            },
            "text/plain": [
              "Map:   0%|          | 0/320 [00:00<?, ? examples/s]"
            ]
          },
          "metadata": {},
          "output_type": "display_data"
        },
        {
          "data": {
            "application/vnd.jupyter.widget-view+json": {
              "model_id": "f6ddadd2795843d78ce3c61f4f45a370",
              "version_major": 2,
              "version_minor": 0
            },
            "text/plain": [
              "Running Epoch 2 of 10:   0%|          | 0/180 [00:00<?, ?it/s]"
            ]
          },
          "metadata": {},
          "output_type": "display_data"
        },
        {
          "data": {
            "application/vnd.jupyter.widget-view+json": {
              "model_id": "22fd9a3242504e189355fa1fbedfa988",
              "version_major": 2,
              "version_minor": 0
            },
            "text/plain": [
              "Map:   0%|          | 0/320 [00:00<?, ? examples/s]"
            ]
          },
          "metadata": {},
          "output_type": "display_data"
        },
        {
          "data": {
            "application/vnd.jupyter.widget-view+json": {
              "model_id": "809aa91b791c427ea6fb75e91e7eaad3",
              "version_major": 2,
              "version_minor": 0
            },
            "text/plain": [
              "Map:   0%|          | 0/800 [00:00<?, ? examples/s]"
            ]
          },
          "metadata": {},
          "output_type": "display_data"
        },
        {
          "data": {
            "application/vnd.jupyter.widget-view+json": {
              "model_id": "b88174a69a1c4f2f9891e76582a54d44",
              "version_major": 2,
              "version_minor": 0
            },
            "text/plain": [
              "Predicting:   0%|          | 0/25 [00:00<?, ?it/s]"
            ]
          },
          "metadata": {},
          "output_type": "display_data"
        },
        {
          "data": {
            "application/vnd.jupyter.widget-view+json": {
              "model_id": "eb71614aa7dd48a4aadb17981f060f73",
              "version_major": 2,
              "version_minor": 0
            },
            "text/plain": [
              "Map:   0%|          | 0/2880 [00:00<?, ? examples/s]"
            ]
          },
          "metadata": {},
          "output_type": "display_data"
        },
        {
          "data": {
            "application/vnd.jupyter.widget-view+json": {
              "model_id": "87bfbf2b0ab84910b5f5cee72c7d5672",
              "version_major": 2,
              "version_minor": 0
            },
            "text/plain": [
              "Epoch:   0%|          | 0/10 [00:00<?, ?it/s]"
            ]
          },
          "metadata": {},
          "output_type": "display_data"
        },
        {
          "data": {
            "application/vnd.jupyter.widget-view+json": {
              "model_id": "9f6d89e82a0d4b1daf7d63b5d268b4ca",
              "version_major": 2,
              "version_minor": 0
            },
            "text/plain": [
              "Running Epoch 1 of 10:   0%|          | 0/180 [00:00<?, ?it/s]"
            ]
          },
          "metadata": {},
          "output_type": "display_data"
        },
        {
          "data": {
            "application/vnd.jupyter.widget-view+json": {
              "model_id": "7d830f8bc27142dc9e519dab03dcdcc1",
              "version_major": 2,
              "version_minor": 0
            },
            "text/plain": [
              "Map:   0%|          | 0/320 [00:00<?, ? examples/s]"
            ]
          },
          "metadata": {},
          "output_type": "display_data"
        },
        {
          "data": {
            "application/vnd.jupyter.widget-view+json": {
              "model_id": "f743593dd2ff42ceb9602d71f6d6bb11",
              "version_major": 2,
              "version_minor": 0
            },
            "text/plain": [
              "Running Epoch 2 of 10:   0%|          | 0/180 [00:00<?, ?it/s]"
            ]
          },
          "metadata": {},
          "output_type": "display_data"
        },
        {
          "data": {
            "application/vnd.jupyter.widget-view+json": {
              "model_id": "05f4050c613e4ec3a748e6ba8ef5652c",
              "version_major": 2,
              "version_minor": 0
            },
            "text/plain": [
              "Map:   0%|          | 0/320 [00:00<?, ? examples/s]"
            ]
          },
          "metadata": {},
          "output_type": "display_data"
        },
        {
          "data": {
            "application/vnd.jupyter.widget-view+json": {
              "model_id": "b977d5616b6b4bef8fcdeae6aa103b78",
              "version_major": 2,
              "version_minor": 0
            },
            "text/plain": [
              "Running Epoch 3 of 10:   0%|          | 0/180 [00:00<?, ?it/s]"
            ]
          },
          "metadata": {},
          "output_type": "display_data"
        },
        {
          "data": {
            "application/vnd.jupyter.widget-view+json": {
              "model_id": "6d0f8ce927174e65a5fabc23011e8025",
              "version_major": 2,
              "version_minor": 0
            },
            "text/plain": [
              "Map:   0%|          | 0/320 [00:00<?, ? examples/s]"
            ]
          },
          "metadata": {},
          "output_type": "display_data"
        },
        {
          "data": {
            "application/vnd.jupyter.widget-view+json": {
              "model_id": "5620f970e77e451cadb911715cbeb720",
              "version_major": 2,
              "version_minor": 0
            },
            "text/plain": [
              "Running Epoch 4 of 10:   0%|          | 0/180 [00:00<?, ?it/s]"
            ]
          },
          "metadata": {},
          "output_type": "display_data"
        },
        {
          "data": {
            "application/vnd.jupyter.widget-view+json": {
              "model_id": "7d21572d10d24867ae3f08ab4e34f590",
              "version_major": 2,
              "version_minor": 0
            },
            "text/plain": [
              "Map:   0%|          | 0/320 [00:00<?, ? examples/s]"
            ]
          },
          "metadata": {},
          "output_type": "display_data"
        },
        {
          "data": {
            "application/vnd.jupyter.widget-view+json": {
              "model_id": "bc992f474eed469285d36f12ab8b3d95",
              "version_major": 2,
              "version_minor": 0
            },
            "text/plain": [
              "Map:   0%|          | 0/800 [00:00<?, ? examples/s]"
            ]
          },
          "metadata": {},
          "output_type": "display_data"
        },
        {
          "data": {
            "application/vnd.jupyter.widget-view+json": {
              "model_id": "c7fa88583f194ad39f30d23733339dfc",
              "version_major": 2,
              "version_minor": 0
            },
            "text/plain": [
              "Predicting:   0%|          | 0/25 [00:00<?, ?it/s]"
            ]
          },
          "metadata": {},
          "output_type": "display_data"
        },
        {
          "data": {
            "application/vnd.jupyter.widget-view+json": {
              "model_id": "fb8f39fa1ed74e47ad57df8828dd6fa4",
              "version_major": 2,
              "version_minor": 0
            },
            "text/plain": [
              "Map:   0%|          | 0/2880 [00:00<?, ? examples/s]"
            ]
          },
          "metadata": {},
          "output_type": "display_data"
        },
        {
          "data": {
            "application/vnd.jupyter.widget-view+json": {
              "model_id": "00dceb461a214cebbe6b3ae8662232be",
              "version_major": 2,
              "version_minor": 0
            },
            "text/plain": [
              "Epoch:   0%|          | 0/10 [00:00<?, ?it/s]"
            ]
          },
          "metadata": {},
          "output_type": "display_data"
        },
        {
          "data": {
            "application/vnd.jupyter.widget-view+json": {
              "model_id": "9891b44aa23a4b9194e902448a4a640f",
              "version_major": 2,
              "version_minor": 0
            },
            "text/plain": [
              "Running Epoch 1 of 10:   0%|          | 0/180 [00:00<?, ?it/s]"
            ]
          },
          "metadata": {},
          "output_type": "display_data"
        },
        {
          "data": {
            "application/vnd.jupyter.widget-view+json": {
              "model_id": "5c030926f7334698818dfda18fcdbdc7",
              "version_major": 2,
              "version_minor": 0
            },
            "text/plain": [
              "Map:   0%|          | 0/320 [00:00<?, ? examples/s]"
            ]
          },
          "metadata": {},
          "output_type": "display_data"
        },
        {
          "data": {
            "application/vnd.jupyter.widget-view+json": {
              "model_id": "ece6b4ab256d41409f9e33daff56a637",
              "version_major": 2,
              "version_minor": 0
            },
            "text/plain": [
              "Running Epoch 2 of 10:   0%|          | 0/180 [00:00<?, ?it/s]"
            ]
          },
          "metadata": {},
          "output_type": "display_data"
        },
        {
          "data": {
            "application/vnd.jupyter.widget-view+json": {
              "model_id": "49cebed866b94bd39c3f4d71547018bc",
              "version_major": 2,
              "version_minor": 0
            },
            "text/plain": [
              "Map:   0%|          | 0/320 [00:00<?, ? examples/s]"
            ]
          },
          "metadata": {},
          "output_type": "display_data"
        },
        {
          "data": {
            "application/vnd.jupyter.widget-view+json": {
              "model_id": "b32238c0a6ee459392b5086a9f81ba2a",
              "version_major": 2,
              "version_minor": 0
            },
            "text/plain": [
              "Running Epoch 3 of 10:   0%|          | 0/180 [00:00<?, ?it/s]"
            ]
          },
          "metadata": {},
          "output_type": "display_data"
        },
        {
          "data": {
            "application/vnd.jupyter.widget-view+json": {
              "model_id": "3199d90580d2442a83c1b5701566245e",
              "version_major": 2,
              "version_minor": 0
            },
            "text/plain": [
              "Map:   0%|          | 0/320 [00:00<?, ? examples/s]"
            ]
          },
          "metadata": {},
          "output_type": "display_data"
        },
        {
          "data": {
            "application/vnd.jupyter.widget-view+json": {
              "model_id": "002eb965e1914319a594452849cf8314",
              "version_major": 2,
              "version_minor": 0
            },
            "text/plain": [
              "Running Epoch 4 of 10:   0%|          | 0/180 [00:00<?, ?it/s]"
            ]
          },
          "metadata": {},
          "output_type": "display_data"
        },
        {
          "data": {
            "application/vnd.jupyter.widget-view+json": {
              "model_id": "60b84d9f4bcf4b0a89a255673a4b6a8d",
              "version_major": 2,
              "version_minor": 0
            },
            "text/plain": [
              "Map:   0%|          | 0/320 [00:00<?, ? examples/s]"
            ]
          },
          "metadata": {},
          "output_type": "display_data"
        },
        {
          "data": {
            "application/vnd.jupyter.widget-view+json": {
              "model_id": "6157a1ae23d04b7da79e82aa5ba318fa",
              "version_major": 2,
              "version_minor": 0
            },
            "text/plain": [
              "Map:   0%|          | 0/800 [00:00<?, ? examples/s]"
            ]
          },
          "metadata": {},
          "output_type": "display_data"
        },
        {
          "data": {
            "application/vnd.jupyter.widget-view+json": {
              "model_id": "a78da4ce232242e7bf5e3bed03038c19",
              "version_major": 2,
              "version_minor": 0
            },
            "text/plain": [
              "Predicting:   0%|          | 0/25 [00:00<?, ?it/s]"
            ]
          },
          "metadata": {},
          "output_type": "display_data"
        },
        {
          "data": {
            "application/vnd.jupyter.widget-view+json": {
              "model_id": "0fe2cad69226406a81e710010082a039",
              "version_major": 2,
              "version_minor": 0
            },
            "text/plain": [
              "Map:   0%|          | 0/2880 [00:00<?, ? examples/s]"
            ]
          },
          "metadata": {},
          "output_type": "display_data"
        },
        {
          "data": {
            "application/vnd.jupyter.widget-view+json": {
              "model_id": "1c1b6a6cc9874d9cad64fae8960aaf14",
              "version_major": 2,
              "version_minor": 0
            },
            "text/plain": [
              "Epoch:   0%|          | 0/10 [00:00<?, ?it/s]"
            ]
          },
          "metadata": {},
          "output_type": "display_data"
        },
        {
          "data": {
            "application/vnd.jupyter.widget-view+json": {
              "model_id": "fa20a2196bdd458f9677cf733ae1ab69",
              "version_major": 2,
              "version_minor": 0
            },
            "text/plain": [
              "Running Epoch 1 of 10:   0%|          | 0/180 [00:00<?, ?it/s]"
            ]
          },
          "metadata": {},
          "output_type": "display_data"
        },
        {
          "data": {
            "application/vnd.jupyter.widget-view+json": {
              "model_id": "0172dc049478418b8a55a859b3a8caa0",
              "version_major": 2,
              "version_minor": 0
            },
            "text/plain": [
              "Map:   0%|          | 0/320 [00:00<?, ? examples/s]"
            ]
          },
          "metadata": {},
          "output_type": "display_data"
        },
        {
          "data": {
            "application/vnd.jupyter.widget-view+json": {
              "model_id": "1f91f5bf45764b56a90047c1fbb7d48f",
              "version_major": 2,
              "version_minor": 0
            },
            "text/plain": [
              "Running Epoch 2 of 10:   0%|          | 0/180 [00:00<?, ?it/s]"
            ]
          },
          "metadata": {},
          "output_type": "display_data"
        },
        {
          "data": {
            "application/vnd.jupyter.widget-view+json": {
              "model_id": "ecd99ff68e2841bf89eaeb6dcd4d9fbe",
              "version_major": 2,
              "version_minor": 0
            },
            "text/plain": [
              "Map:   0%|          | 0/320 [00:00<?, ? examples/s]"
            ]
          },
          "metadata": {},
          "output_type": "display_data"
        },
        {
          "data": {
            "application/vnd.jupyter.widget-view+json": {
              "model_id": "0f09f3f9bbeb4ba297c913a24c991e02",
              "version_major": 2,
              "version_minor": 0
            },
            "text/plain": [
              "Map:   0%|          | 0/800 [00:00<?, ? examples/s]"
            ]
          },
          "metadata": {},
          "output_type": "display_data"
        },
        {
          "data": {
            "application/vnd.jupyter.widget-view+json": {
              "model_id": "79d0be4631424e4ab93b87319b21e6c9",
              "version_major": 2,
              "version_minor": 0
            },
            "text/plain": [
              "Predicting:   0%|          | 0/25 [00:00<?, ?it/s]"
            ]
          },
          "metadata": {},
          "output_type": "display_data"
        },
        {
          "data": {
            "application/vnd.jupyter.widget-view+json": {
              "model_id": "a689230acd5e416fb0d8affa4a654b5e",
              "version_major": 2,
              "version_minor": 0
            },
            "text/plain": [
              "PatentBERT | Cross-Validating:   0%|          | 0/5 [00:00<?, ?it/s]"
            ]
          },
          "metadata": {},
          "output_type": "display_data"
        },
        {
          "data": {
            "application/vnd.jupyter.widget-view+json": {
              "model_id": "49470d84a2b5455a9d1a035e2f166aa1",
              "version_major": 2,
              "version_minor": 0
            },
            "text/plain": [
              "Map:   0%|          | 0/2880 [00:00<?, ? examples/s]"
            ]
          },
          "metadata": {},
          "output_type": "display_data"
        },
        {
          "data": {
            "application/vnd.jupyter.widget-view+json": {
              "model_id": "8f698a519b4b4048b416f44cae0b3bbb",
              "version_major": 2,
              "version_minor": 0
            },
            "text/plain": [
              "Epoch:   0%|          | 0/10 [00:00<?, ?it/s]"
            ]
          },
          "metadata": {},
          "output_type": "display_data"
        },
        {
          "data": {
            "application/vnd.jupyter.widget-view+json": {
              "model_id": "61eca8e2c0704e939a9ab2b3e2242af0",
              "version_major": 2,
              "version_minor": 0
            },
            "text/plain": [
              "Running Epoch 1 of 10:   0%|          | 0/180 [00:00<?, ?it/s]"
            ]
          },
          "metadata": {},
          "output_type": "display_data"
        },
        {
          "data": {
            "application/vnd.jupyter.widget-view+json": {
              "model_id": "796c0b89fecb493b8719906594b7aee2",
              "version_major": 2,
              "version_minor": 0
            },
            "text/plain": [
              "Map:   0%|          | 0/320 [00:00<?, ? examples/s]"
            ]
          },
          "metadata": {},
          "output_type": "display_data"
        },
        {
          "data": {
            "application/vnd.jupyter.widget-view+json": {
              "model_id": "6388934e040b4261a13cfd205bff3a58",
              "version_major": 2,
              "version_minor": 0
            },
            "text/plain": [
              "Running Epoch 2 of 10:   0%|          | 0/180 [00:00<?, ?it/s]"
            ]
          },
          "metadata": {},
          "output_type": "display_data"
        },
        {
          "data": {
            "application/vnd.jupyter.widget-view+json": {
              "model_id": "20c2da4f62204ac3a4cfbbb5aff0a367",
              "version_major": 2,
              "version_minor": 0
            },
            "text/plain": [
              "Map:   0%|          | 0/320 [00:00<?, ? examples/s]"
            ]
          },
          "metadata": {},
          "output_type": "display_data"
        },
        {
          "data": {
            "application/vnd.jupyter.widget-view+json": {
              "model_id": "516e6ef7024c4e9e80722165039e6d41",
              "version_major": 2,
              "version_minor": 0
            },
            "text/plain": [
              "Map:   0%|          | 0/800 [00:00<?, ? examples/s]"
            ]
          },
          "metadata": {},
          "output_type": "display_data"
        },
        {
          "data": {
            "application/vnd.jupyter.widget-view+json": {
              "model_id": "237a1ae649a14a38bfda8a362f5520c7",
              "version_major": 2,
              "version_minor": 0
            },
            "text/plain": [
              "Predicting:   0%|          | 0/25 [00:00<?, ?it/s]"
            ]
          },
          "metadata": {},
          "output_type": "display_data"
        },
        {
          "data": {
            "application/vnd.jupyter.widget-view+json": {
              "model_id": "191819bf988a43f4bafc556e9b9e0de9",
              "version_major": 2,
              "version_minor": 0
            },
            "text/plain": [
              "Map:   0%|          | 0/2880 [00:00<?, ? examples/s]"
            ]
          },
          "metadata": {},
          "output_type": "display_data"
        },
        {
          "data": {
            "application/vnd.jupyter.widget-view+json": {
              "model_id": "debad4d2ef1a4db997c58c5c90ffecf8",
              "version_major": 2,
              "version_minor": 0
            },
            "text/plain": [
              "Epoch:   0%|          | 0/10 [00:00<?, ?it/s]"
            ]
          },
          "metadata": {},
          "output_type": "display_data"
        },
        {
          "data": {
            "application/vnd.jupyter.widget-view+json": {
              "model_id": "1dfa2a58971e47cbb6482acc7c26af9d",
              "version_major": 2,
              "version_minor": 0
            },
            "text/plain": [
              "Running Epoch 1 of 10:   0%|          | 0/180 [00:00<?, ?it/s]"
            ]
          },
          "metadata": {},
          "output_type": "display_data"
        },
        {
          "data": {
            "application/vnd.jupyter.widget-view+json": {
              "model_id": "4fb0d7d1f7de4783a09f1a3131acb919",
              "version_major": 2,
              "version_minor": 0
            },
            "text/plain": [
              "Map:   0%|          | 0/320 [00:00<?, ? examples/s]"
            ]
          },
          "metadata": {},
          "output_type": "display_data"
        },
        {
          "data": {
            "application/vnd.jupyter.widget-view+json": {
              "model_id": "a4499137f3d04682ac7cd975127e284d",
              "version_major": 2,
              "version_minor": 0
            },
            "text/plain": [
              "Running Epoch 2 of 10:   0%|          | 0/180 [00:00<?, ?it/s]"
            ]
          },
          "metadata": {},
          "output_type": "display_data"
        },
        {
          "data": {
            "application/vnd.jupyter.widget-view+json": {
              "model_id": "d982a9e8f6e24a1ab137442b18f0d34b",
              "version_major": 2,
              "version_minor": 0
            },
            "text/plain": [
              "Map:   0%|          | 0/320 [00:00<?, ? examples/s]"
            ]
          },
          "metadata": {},
          "output_type": "display_data"
        },
        {
          "data": {
            "application/vnd.jupyter.widget-view+json": {
              "model_id": "181173a01de046649902189ed801c500",
              "version_major": 2,
              "version_minor": 0
            },
            "text/plain": [
              "Map:   0%|          | 0/800 [00:00<?, ? examples/s]"
            ]
          },
          "metadata": {},
          "output_type": "display_data"
        },
        {
          "data": {
            "application/vnd.jupyter.widget-view+json": {
              "model_id": "7b6d17beddef4bd8a05c608bdcaa8bcc",
              "version_major": 2,
              "version_minor": 0
            },
            "text/plain": [
              "Predicting:   0%|          | 0/25 [00:00<?, ?it/s]"
            ]
          },
          "metadata": {},
          "output_type": "display_data"
        },
        {
          "data": {
            "application/vnd.jupyter.widget-view+json": {
              "model_id": "b103b9d32cab4f06b83363bc74792b6e",
              "version_major": 2,
              "version_minor": 0
            },
            "text/plain": [
              "Map:   0%|          | 0/2880 [00:00<?, ? examples/s]"
            ]
          },
          "metadata": {},
          "output_type": "display_data"
        },
        {
          "data": {
            "application/vnd.jupyter.widget-view+json": {
              "model_id": "53767e3e739544d691eb33f53c4dacd0",
              "version_major": 2,
              "version_minor": 0
            },
            "text/plain": [
              "Epoch:   0%|          | 0/10 [00:00<?, ?it/s]"
            ]
          },
          "metadata": {},
          "output_type": "display_data"
        },
        {
          "data": {
            "application/vnd.jupyter.widget-view+json": {
              "model_id": "dc0e2a71b4b146c8ac930f87857fe182",
              "version_major": 2,
              "version_minor": 0
            },
            "text/plain": [
              "Running Epoch 1 of 10:   0%|          | 0/180 [00:00<?, ?it/s]"
            ]
          },
          "metadata": {},
          "output_type": "display_data"
        },
        {
          "data": {
            "application/vnd.jupyter.widget-view+json": {
              "model_id": "70dd56cc21984a85a269d7cd9a989f4b",
              "version_major": 2,
              "version_minor": 0
            },
            "text/plain": [
              "Map:   0%|          | 0/320 [00:00<?, ? examples/s]"
            ]
          },
          "metadata": {},
          "output_type": "display_data"
        },
        {
          "data": {
            "application/vnd.jupyter.widget-view+json": {
              "model_id": "a8c5d3a1d3d54012a6e50e7798c1f958",
              "version_major": 2,
              "version_minor": 0
            },
            "text/plain": [
              "Running Epoch 2 of 10:   0%|          | 0/180 [00:00<?, ?it/s]"
            ]
          },
          "metadata": {},
          "output_type": "display_data"
        },
        {
          "data": {
            "application/vnd.jupyter.widget-view+json": {
              "model_id": "b4f01d2a2452499fbcc8623b40528584",
              "version_major": 2,
              "version_minor": 0
            },
            "text/plain": [
              "Map:   0%|          | 0/320 [00:00<?, ? examples/s]"
            ]
          },
          "metadata": {},
          "output_type": "display_data"
        },
        {
          "data": {
            "application/vnd.jupyter.widget-view+json": {
              "model_id": "0594675981024046bb60de3e90c1736c",
              "version_major": 2,
              "version_minor": 0
            },
            "text/plain": [
              "Map:   0%|          | 0/800 [00:00<?, ? examples/s]"
            ]
          },
          "metadata": {},
          "output_type": "display_data"
        },
        {
          "data": {
            "application/vnd.jupyter.widget-view+json": {
              "model_id": "65d1c8fd30d94f2cb5e9ab15d6a89bfc",
              "version_major": 2,
              "version_minor": 0
            },
            "text/plain": [
              "Predicting:   0%|          | 0/25 [00:00<?, ?it/s]"
            ]
          },
          "metadata": {},
          "output_type": "display_data"
        },
        {
          "data": {
            "application/vnd.jupyter.widget-view+json": {
              "model_id": "9ba20baeda624f2598dfda40ea368537",
              "version_major": 2,
              "version_minor": 0
            },
            "text/plain": [
              "Map:   0%|          | 0/2880 [00:00<?, ? examples/s]"
            ]
          },
          "metadata": {},
          "output_type": "display_data"
        },
        {
          "data": {
            "application/vnd.jupyter.widget-view+json": {
              "model_id": "dac4e3aec9424ee9b1dff5bc798e8212",
              "version_major": 2,
              "version_minor": 0
            },
            "text/plain": [
              "Epoch:   0%|          | 0/10 [00:00<?, ?it/s]"
            ]
          },
          "metadata": {},
          "output_type": "display_data"
        },
        {
          "data": {
            "application/vnd.jupyter.widget-view+json": {
              "model_id": "5b51533b886e4e978b3cd5dde210c246",
              "version_major": 2,
              "version_minor": 0
            },
            "text/plain": [
              "Running Epoch 1 of 10:   0%|          | 0/180 [00:00<?, ?it/s]"
            ]
          },
          "metadata": {},
          "output_type": "display_data"
        },
        {
          "data": {
            "application/vnd.jupyter.widget-view+json": {
              "model_id": "e93b46ebd6ab4840abfdebff4e2cb2df",
              "version_major": 2,
              "version_minor": 0
            },
            "text/plain": [
              "Map:   0%|          | 0/320 [00:00<?, ? examples/s]"
            ]
          },
          "metadata": {},
          "output_type": "display_data"
        },
        {
          "data": {
            "application/vnd.jupyter.widget-view+json": {
              "model_id": "7f5d38ae524f4364a882ef54a7375aef",
              "version_major": 2,
              "version_minor": 0
            },
            "text/plain": [
              "Running Epoch 2 of 10:   0%|          | 0/180 [00:00<?, ?it/s]"
            ]
          },
          "metadata": {},
          "output_type": "display_data"
        },
        {
          "data": {
            "application/vnd.jupyter.widget-view+json": {
              "model_id": "4c9c536ee9364fe581994b27a35ad678",
              "version_major": 2,
              "version_minor": 0
            },
            "text/plain": [
              "Map:   0%|          | 0/320 [00:00<?, ? examples/s]"
            ]
          },
          "metadata": {},
          "output_type": "display_data"
        },
        {
          "data": {
            "application/vnd.jupyter.widget-view+json": {
              "model_id": "41a84658e4f44f52882df91d4aa2f030",
              "version_major": 2,
              "version_minor": 0
            },
            "text/plain": [
              "Map:   0%|          | 0/800 [00:00<?, ? examples/s]"
            ]
          },
          "metadata": {},
          "output_type": "display_data"
        },
        {
          "data": {
            "application/vnd.jupyter.widget-view+json": {
              "model_id": "ac3e05d9e8c641eeaeb8dba5a50b1f2b",
              "version_major": 2,
              "version_minor": 0
            },
            "text/plain": [
              "Predicting:   0%|          | 0/25 [00:00<?, ?it/s]"
            ]
          },
          "metadata": {},
          "output_type": "display_data"
        },
        {
          "data": {
            "application/vnd.jupyter.widget-view+json": {
              "model_id": "77d4c5eb487f4f449e31216e921f0aa4",
              "version_major": 2,
              "version_minor": 0
            },
            "text/plain": [
              "Map:   0%|          | 0/2880 [00:00<?, ? examples/s]"
            ]
          },
          "metadata": {},
          "output_type": "display_data"
        },
        {
          "data": {
            "application/vnd.jupyter.widget-view+json": {
              "model_id": "e0c7c876765d4994b99064573749c065",
              "version_major": 2,
              "version_minor": 0
            },
            "text/plain": [
              "Epoch:   0%|          | 0/10 [00:00<?, ?it/s]"
            ]
          },
          "metadata": {},
          "output_type": "display_data"
        },
        {
          "data": {
            "application/vnd.jupyter.widget-view+json": {
              "model_id": "68bf0d8e26eb4f8ba60d38e8bfe69c42",
              "version_major": 2,
              "version_minor": 0
            },
            "text/plain": [
              "Running Epoch 1 of 10:   0%|          | 0/180 [00:00<?, ?it/s]"
            ]
          },
          "metadata": {},
          "output_type": "display_data"
        },
        {
          "data": {
            "application/vnd.jupyter.widget-view+json": {
              "model_id": "3508894489aa4494996e5fdebb300f57",
              "version_major": 2,
              "version_minor": 0
            },
            "text/plain": [
              "Map:   0%|          | 0/320 [00:00<?, ? examples/s]"
            ]
          },
          "metadata": {},
          "output_type": "display_data"
        },
        {
          "data": {
            "application/vnd.jupyter.widget-view+json": {
              "model_id": "3be1fec1114f4ac09e6c5cb3bbb4a028",
              "version_major": 2,
              "version_minor": 0
            },
            "text/plain": [
              "Running Epoch 2 of 10:   0%|          | 0/180 [00:00<?, ?it/s]"
            ]
          },
          "metadata": {},
          "output_type": "display_data"
        },
        {
          "data": {
            "application/vnd.jupyter.widget-view+json": {
              "model_id": "ee36bbc2108d4bffba976ef7110c0877",
              "version_major": 2,
              "version_minor": 0
            },
            "text/plain": [
              "Map:   0%|          | 0/320 [00:00<?, ? examples/s]"
            ]
          },
          "metadata": {},
          "output_type": "display_data"
        },
        {
          "data": {
            "application/vnd.jupyter.widget-view+json": {
              "model_id": "eb120a4f37f54ad88ca27156386061f7",
              "version_major": 2,
              "version_minor": 0
            },
            "text/plain": [
              "Running Epoch 3 of 10:   0%|          | 0/180 [00:00<?, ?it/s]"
            ]
          },
          "metadata": {},
          "output_type": "display_data"
        },
        {
          "data": {
            "application/vnd.jupyter.widget-view+json": {
              "model_id": "d243a3ae58604a0d9c552656742ec9a1",
              "version_major": 2,
              "version_minor": 0
            },
            "text/plain": [
              "Map:   0%|          | 0/320 [00:00<?, ? examples/s]"
            ]
          },
          "metadata": {},
          "output_type": "display_data"
        },
        {
          "data": {
            "application/vnd.jupyter.widget-view+json": {
              "model_id": "8833e2ca0e404e40944314c993070de4",
              "version_major": 2,
              "version_minor": 0
            },
            "text/plain": [
              "Running Epoch 4 of 10:   0%|          | 0/180 [00:00<?, ?it/s]"
            ]
          },
          "metadata": {},
          "output_type": "display_data"
        },
        {
          "data": {
            "application/vnd.jupyter.widget-view+json": {
              "model_id": "2745ed7f7ddb4bc6a4d7968a0ae39b08",
              "version_major": 2,
              "version_minor": 0
            },
            "text/plain": [
              "Map:   0%|          | 0/320 [00:00<?, ? examples/s]"
            ]
          },
          "metadata": {},
          "output_type": "display_data"
        },
        {
          "data": {
            "application/vnd.jupyter.widget-view+json": {
              "model_id": "670bfafe4231453fb70993b1fc1ae527",
              "version_major": 2,
              "version_minor": 0
            },
            "text/plain": [
              "Running Epoch 5 of 10:   0%|          | 0/180 [00:00<?, ?it/s]"
            ]
          },
          "metadata": {},
          "output_type": "display_data"
        },
        {
          "data": {
            "application/vnd.jupyter.widget-view+json": {
              "model_id": "d35f56c3c8e84263b7e44b267953e34e",
              "version_major": 2,
              "version_minor": 0
            },
            "text/plain": [
              "Map:   0%|          | 0/320 [00:00<?, ? examples/s]"
            ]
          },
          "metadata": {},
          "output_type": "display_data"
        },
        {
          "data": {
            "application/vnd.jupyter.widget-view+json": {
              "model_id": "c3b74c8306b84419997eb81d652ff0d9",
              "version_major": 2,
              "version_minor": 0
            },
            "text/plain": [
              "Running Epoch 6 of 10:   0%|          | 0/180 [00:00<?, ?it/s]"
            ]
          },
          "metadata": {},
          "output_type": "display_data"
        },
        {
          "data": {
            "application/vnd.jupyter.widget-view+json": {
              "model_id": "8da86a92ef144e728edaec28326d9c5e",
              "version_major": 2,
              "version_minor": 0
            },
            "text/plain": [
              "Map:   0%|          | 0/320 [00:00<?, ? examples/s]"
            ]
          },
          "metadata": {},
          "output_type": "display_data"
        },
        {
          "data": {
            "application/vnd.jupyter.widget-view+json": {
              "model_id": "7d103b03cfa1495292526ecaf7318e86",
              "version_major": 2,
              "version_minor": 0
            },
            "text/plain": [
              "Map:   0%|          | 0/800 [00:00<?, ? examples/s]"
            ]
          },
          "metadata": {},
          "output_type": "display_data"
        },
        {
          "data": {
            "application/vnd.jupyter.widget-view+json": {
              "model_id": "d13a5f3dee9043f79e819cb4cb5841b6",
              "version_major": 2,
              "version_minor": 0
            },
            "text/plain": [
              "Predicting:   0%|          | 0/25 [00:00<?, ?it/s]"
            ]
          },
          "metadata": {},
          "output_type": "display_data"
        },
        {
          "data": {
            "application/vnd.jupyter.widget-view+json": {
              "model_id": "c873dc91f8ae41f9b62c6eb57520386b",
              "version_major": 2,
              "version_minor": 0
            },
            "text/plain": [
              "BioBERT | Cross-Validating:   0%|          | 0/5 [00:00<?, ?it/s]"
            ]
          },
          "metadata": {},
          "output_type": "display_data"
        },
        {
          "data": {
            "application/vnd.jupyter.widget-view+json": {
              "model_id": "f6781086576f4bd78eace889c93f15a5",
              "version_major": 2,
              "version_minor": 0
            },
            "text/plain": [
              "Map:   0%|          | 0/2880 [00:00<?, ? examples/s]"
            ]
          },
          "metadata": {},
          "output_type": "display_data"
        },
        {
          "data": {
            "application/vnd.jupyter.widget-view+json": {
              "model_id": "6fad8d8bd6b74952960da3bedf481f5d",
              "version_major": 2,
              "version_minor": 0
            },
            "text/plain": [
              "Epoch:   0%|          | 0/10 [00:00<?, ?it/s]"
            ]
          },
          "metadata": {},
          "output_type": "display_data"
        },
        {
          "data": {
            "application/vnd.jupyter.widget-view+json": {
              "model_id": "d63348038df04d69be28660effb6047d",
              "version_major": 2,
              "version_minor": 0
            },
            "text/plain": [
              "Running Epoch 1 of 10:   0%|          | 0/180 [00:00<?, ?it/s]"
            ]
          },
          "metadata": {},
          "output_type": "display_data"
        },
        {
          "data": {
            "application/vnd.jupyter.widget-view+json": {
              "model_id": "3e70a29853984ee8b6a3ff64ad91206c",
              "version_major": 2,
              "version_minor": 0
            },
            "text/plain": [
              "Map:   0%|          | 0/320 [00:00<?, ? examples/s]"
            ]
          },
          "metadata": {},
          "output_type": "display_data"
        },
        {
          "data": {
            "application/vnd.jupyter.widget-view+json": {
              "model_id": "29f7aa2ed2b8499fb0dd982aac41d711",
              "version_major": 2,
              "version_minor": 0
            },
            "text/plain": [
              "Running Epoch 2 of 10:   0%|          | 0/180 [00:00<?, ?it/s]"
            ]
          },
          "metadata": {},
          "output_type": "display_data"
        },
        {
          "data": {
            "application/vnd.jupyter.widget-view+json": {
              "model_id": "bd233e499486419ea14b71210031948f",
              "version_major": 2,
              "version_minor": 0
            },
            "text/plain": [
              "Map:   0%|          | 0/320 [00:00<?, ? examples/s]"
            ]
          },
          "metadata": {},
          "output_type": "display_data"
        },
        {
          "data": {
            "application/vnd.jupyter.widget-view+json": {
              "model_id": "fb75207d16ec4096a95b6b12ffb4f3db",
              "version_major": 2,
              "version_minor": 0
            },
            "text/plain": [
              "Running Epoch 3 of 10:   0%|          | 0/180 [00:00<?, ?it/s]"
            ]
          },
          "metadata": {},
          "output_type": "display_data"
        },
        {
          "data": {
            "application/vnd.jupyter.widget-view+json": {
              "model_id": "dffc745d98944bcf96755d33c0574159",
              "version_major": 2,
              "version_minor": 0
            },
            "text/plain": [
              "Map:   0%|          | 0/320 [00:00<?, ? examples/s]"
            ]
          },
          "metadata": {},
          "output_type": "display_data"
        },
        {
          "data": {
            "application/vnd.jupyter.widget-view+json": {
              "model_id": "7d4db3b01b834429a6d483e756478766",
              "version_major": 2,
              "version_minor": 0
            },
            "text/plain": [
              "Running Epoch 4 of 10:   0%|          | 0/180 [00:00<?, ?it/s]"
            ]
          },
          "metadata": {},
          "output_type": "display_data"
        },
        {
          "data": {
            "application/vnd.jupyter.widget-view+json": {
              "model_id": "d932c4b55b934d4a97fcf800b1fd65eb",
              "version_major": 2,
              "version_minor": 0
            },
            "text/plain": [
              "Map:   0%|          | 0/320 [00:00<?, ? examples/s]"
            ]
          },
          "metadata": {},
          "output_type": "display_data"
        },
        {
          "data": {
            "application/vnd.jupyter.widget-view+json": {
              "model_id": "bc70b2f59d844d5bae3a2d33d3952163",
              "version_major": 2,
              "version_minor": 0
            },
            "text/plain": [
              "Map:   0%|          | 0/800 [00:00<?, ? examples/s]"
            ]
          },
          "metadata": {},
          "output_type": "display_data"
        },
        {
          "data": {
            "application/vnd.jupyter.widget-view+json": {
              "model_id": "e6384e5d934742739077498d874f46e1",
              "version_major": 2,
              "version_minor": 0
            },
            "text/plain": [
              "Predicting:   0%|          | 0/25 [00:00<?, ?it/s]"
            ]
          },
          "metadata": {},
          "output_type": "display_data"
        },
        {
          "data": {
            "application/vnd.jupyter.widget-view+json": {
              "model_id": "01bb303762804c80ac376591bdd27fa9",
              "version_major": 2,
              "version_minor": 0
            },
            "text/plain": [
              "Map:   0%|          | 0/2880 [00:00<?, ? examples/s]"
            ]
          },
          "metadata": {},
          "output_type": "display_data"
        },
        {
          "data": {
            "application/vnd.jupyter.widget-view+json": {
              "model_id": "b48160a6da8f4b82b457c0b475e24ba3",
              "version_major": 2,
              "version_minor": 0
            },
            "text/plain": [
              "Epoch:   0%|          | 0/10 [00:00<?, ?it/s]"
            ]
          },
          "metadata": {},
          "output_type": "display_data"
        },
        {
          "data": {
            "application/vnd.jupyter.widget-view+json": {
              "model_id": "9b96cce9599c4f06a2e9b25366f5f5ac",
              "version_major": 2,
              "version_minor": 0
            },
            "text/plain": [
              "Running Epoch 1 of 10:   0%|          | 0/180 [00:00<?, ?it/s]"
            ]
          },
          "metadata": {},
          "output_type": "display_data"
        },
        {
          "data": {
            "application/vnd.jupyter.widget-view+json": {
              "model_id": "fa3510b05ad64619950af050c1c25e12",
              "version_major": 2,
              "version_minor": 0
            },
            "text/plain": [
              "Map:   0%|          | 0/320 [00:00<?, ? examples/s]"
            ]
          },
          "metadata": {},
          "output_type": "display_data"
        },
        {
          "data": {
            "application/vnd.jupyter.widget-view+json": {
              "model_id": "450aceb80dfc4b9c97575796e28d7608",
              "version_major": 2,
              "version_minor": 0
            },
            "text/plain": [
              "Running Epoch 2 of 10:   0%|          | 0/180 [00:00<?, ?it/s]"
            ]
          },
          "metadata": {},
          "output_type": "display_data"
        },
        {
          "data": {
            "application/vnd.jupyter.widget-view+json": {
              "model_id": "7b659bcf24fc4b978798282658903b48",
              "version_major": 2,
              "version_minor": 0
            },
            "text/plain": [
              "Map:   0%|          | 0/320 [00:00<?, ? examples/s]"
            ]
          },
          "metadata": {},
          "output_type": "display_data"
        },
        {
          "data": {
            "application/vnd.jupyter.widget-view+json": {
              "model_id": "3d21727f78a44854ba8ccbff8e67e046",
              "version_major": 2,
              "version_minor": 0
            },
            "text/plain": [
              "Map:   0%|          | 0/800 [00:00<?, ? examples/s]"
            ]
          },
          "metadata": {},
          "output_type": "display_data"
        },
        {
          "data": {
            "application/vnd.jupyter.widget-view+json": {
              "model_id": "9ab0fba857f3464fa510b5c5e9457feb",
              "version_major": 2,
              "version_minor": 0
            },
            "text/plain": [
              "Predicting:   0%|          | 0/25 [00:00<?, ?it/s]"
            ]
          },
          "metadata": {},
          "output_type": "display_data"
        },
        {
          "data": {
            "application/vnd.jupyter.widget-view+json": {
              "model_id": "270bbdb2791c4d79b650d01dccd70e4b",
              "version_major": 2,
              "version_minor": 0
            },
            "text/plain": [
              "Map:   0%|          | 0/2880 [00:00<?, ? examples/s]"
            ]
          },
          "metadata": {},
          "output_type": "display_data"
        },
        {
          "data": {
            "application/vnd.jupyter.widget-view+json": {
              "model_id": "e279fd46df154192b1e8e8a4e6e841c6",
              "version_major": 2,
              "version_minor": 0
            },
            "text/plain": [
              "Epoch:   0%|          | 0/10 [00:00<?, ?it/s]"
            ]
          },
          "metadata": {},
          "output_type": "display_data"
        },
        {
          "data": {
            "application/vnd.jupyter.widget-view+json": {
              "model_id": "fb547484bd2c40dd80112861b4d1889b",
              "version_major": 2,
              "version_minor": 0
            },
            "text/plain": [
              "Running Epoch 1 of 10:   0%|          | 0/180 [00:00<?, ?it/s]"
            ]
          },
          "metadata": {},
          "output_type": "display_data"
        },
        {
          "data": {
            "application/vnd.jupyter.widget-view+json": {
              "model_id": "198de3d4d807487fb39bdb6064eee08f",
              "version_major": 2,
              "version_minor": 0
            },
            "text/plain": [
              "Map:   0%|          | 0/320 [00:00<?, ? examples/s]"
            ]
          },
          "metadata": {},
          "output_type": "display_data"
        },
        {
          "data": {
            "application/vnd.jupyter.widget-view+json": {
              "model_id": "9bc8009888a54919ba5b6a812a7d83f8",
              "version_major": 2,
              "version_minor": 0
            },
            "text/plain": [
              "Running Epoch 2 of 10:   0%|          | 0/180 [00:00<?, ?it/s]"
            ]
          },
          "metadata": {},
          "output_type": "display_data"
        },
        {
          "data": {
            "application/vnd.jupyter.widget-view+json": {
              "model_id": "e34c52b2fc254f3ab48070f302f8404f",
              "version_major": 2,
              "version_minor": 0
            },
            "text/plain": [
              "Map:   0%|          | 0/320 [00:00<?, ? examples/s]"
            ]
          },
          "metadata": {},
          "output_type": "display_data"
        },
        {
          "data": {
            "application/vnd.jupyter.widget-view+json": {
              "model_id": "937050f311604c6ca151d5dac13574ae",
              "version_major": 2,
              "version_minor": 0
            },
            "text/plain": [
              "Running Epoch 3 of 10:   0%|          | 0/180 [00:00<?, ?it/s]"
            ]
          },
          "metadata": {},
          "output_type": "display_data"
        },
        {
          "data": {
            "application/vnd.jupyter.widget-view+json": {
              "model_id": "016ddfd90d6f47e493d5b31a6200e7ae",
              "version_major": 2,
              "version_minor": 0
            },
            "text/plain": [
              "Map:   0%|          | 0/320 [00:00<?, ? examples/s]"
            ]
          },
          "metadata": {},
          "output_type": "display_data"
        },
        {
          "data": {
            "application/vnd.jupyter.widget-view+json": {
              "model_id": "2a3ef1cdb4584345afd8cfa84c0d133a",
              "version_major": 2,
              "version_minor": 0
            },
            "text/plain": [
              "Running Epoch 4 of 10:   0%|          | 0/180 [00:00<?, ?it/s]"
            ]
          },
          "metadata": {},
          "output_type": "display_data"
        },
        {
          "data": {
            "application/vnd.jupyter.widget-view+json": {
              "model_id": "2d10122f855e48c7bafe067ac298abc0",
              "version_major": 2,
              "version_minor": 0
            },
            "text/plain": [
              "Map:   0%|          | 0/320 [00:00<?, ? examples/s]"
            ]
          },
          "metadata": {},
          "output_type": "display_data"
        },
        {
          "data": {
            "application/vnd.jupyter.widget-view+json": {
              "model_id": "7548518d4df24bb9a60365ea6c2586dd",
              "version_major": 2,
              "version_minor": 0
            },
            "text/plain": [
              "Map:   0%|          | 0/800 [00:00<?, ? examples/s]"
            ]
          },
          "metadata": {},
          "output_type": "display_data"
        },
        {
          "data": {
            "application/vnd.jupyter.widget-view+json": {
              "model_id": "6cd4ec592cc740469e7bb1c8416cc051",
              "version_major": 2,
              "version_minor": 0
            },
            "text/plain": [
              "Predicting:   0%|          | 0/25 [00:00<?, ?it/s]"
            ]
          },
          "metadata": {},
          "output_type": "display_data"
        },
        {
          "data": {
            "application/vnd.jupyter.widget-view+json": {
              "model_id": "feb3e5495a5a435da6a94abc8dc66d06",
              "version_major": 2,
              "version_minor": 0
            },
            "text/plain": [
              "Map:   0%|          | 0/2880 [00:00<?, ? examples/s]"
            ]
          },
          "metadata": {},
          "output_type": "display_data"
        },
        {
          "data": {
            "application/vnd.jupyter.widget-view+json": {
              "model_id": "898c38bbf717426c969009a69276336f",
              "version_major": 2,
              "version_minor": 0
            },
            "text/plain": [
              "Epoch:   0%|          | 0/10 [00:00<?, ?it/s]"
            ]
          },
          "metadata": {},
          "output_type": "display_data"
        },
        {
          "data": {
            "application/vnd.jupyter.widget-view+json": {
              "model_id": "af98885e0e84446b91ea914f54277128",
              "version_major": 2,
              "version_minor": 0
            },
            "text/plain": [
              "Running Epoch 1 of 10:   0%|          | 0/180 [00:00<?, ?it/s]"
            ]
          },
          "metadata": {},
          "output_type": "display_data"
        },
        {
          "data": {
            "application/vnd.jupyter.widget-view+json": {
              "model_id": "60992d1d778f42d8ad63e0b761297d1b",
              "version_major": 2,
              "version_minor": 0
            },
            "text/plain": [
              "Map:   0%|          | 0/320 [00:00<?, ? examples/s]"
            ]
          },
          "metadata": {},
          "output_type": "display_data"
        },
        {
          "data": {
            "application/vnd.jupyter.widget-view+json": {
              "model_id": "cf9e0385c932456c806bd9855b8dac09",
              "version_major": 2,
              "version_minor": 0
            },
            "text/plain": [
              "Running Epoch 2 of 10:   0%|          | 0/180 [00:00<?, ?it/s]"
            ]
          },
          "metadata": {},
          "output_type": "display_data"
        },
        {
          "data": {
            "application/vnd.jupyter.widget-view+json": {
              "model_id": "aebf3eda58af41bf8dc40a40cadf9e08",
              "version_major": 2,
              "version_minor": 0
            },
            "text/plain": [
              "Map:   0%|          | 0/320 [00:00<?, ? examples/s]"
            ]
          },
          "metadata": {},
          "output_type": "display_data"
        },
        {
          "data": {
            "application/vnd.jupyter.widget-view+json": {
              "model_id": "49e116c037c74c558fe0a29f19269460",
              "version_major": 2,
              "version_minor": 0
            },
            "text/plain": [
              "Map:   0%|          | 0/800 [00:00<?, ? examples/s]"
            ]
          },
          "metadata": {},
          "output_type": "display_data"
        },
        {
          "data": {
            "application/vnd.jupyter.widget-view+json": {
              "model_id": "f5536da5c59549f29602a82952c9b05f",
              "version_major": 2,
              "version_minor": 0
            },
            "text/plain": [
              "Predicting:   0%|          | 0/25 [00:00<?, ?it/s]"
            ]
          },
          "metadata": {},
          "output_type": "display_data"
        },
        {
          "data": {
            "application/vnd.jupyter.widget-view+json": {
              "model_id": "4164efff9fe34088afbf01aa53d24fa8",
              "version_major": 2,
              "version_minor": 0
            },
            "text/plain": [
              "Map:   0%|          | 0/2880 [00:00<?, ? examples/s]"
            ]
          },
          "metadata": {},
          "output_type": "display_data"
        },
        {
          "data": {
            "application/vnd.jupyter.widget-view+json": {
              "model_id": "817001285ac34b5794201a2395644510",
              "version_major": 2,
              "version_minor": 0
            },
            "text/plain": [
              "Epoch:   0%|          | 0/10 [00:00<?, ?it/s]"
            ]
          },
          "metadata": {},
          "output_type": "display_data"
        },
        {
          "data": {
            "application/vnd.jupyter.widget-view+json": {
              "model_id": "eb56c95e32984d7a967cc81f130d4bc5",
              "version_major": 2,
              "version_minor": 0
            },
            "text/plain": [
              "Running Epoch 1 of 10:   0%|          | 0/180 [00:00<?, ?it/s]"
            ]
          },
          "metadata": {},
          "output_type": "display_data"
        },
        {
          "data": {
            "application/vnd.jupyter.widget-view+json": {
              "model_id": "71e751109b4d40a7a45738dd0b8c0bab",
              "version_major": 2,
              "version_minor": 0
            },
            "text/plain": [
              "Map:   0%|          | 0/320 [00:00<?, ? examples/s]"
            ]
          },
          "metadata": {},
          "output_type": "display_data"
        },
        {
          "data": {
            "application/vnd.jupyter.widget-view+json": {
              "model_id": "5c34c27c9a57494481348c795851acb9",
              "version_major": 2,
              "version_minor": 0
            },
            "text/plain": [
              "Running Epoch 2 of 10:   0%|          | 0/180 [00:00<?, ?it/s]"
            ]
          },
          "metadata": {},
          "output_type": "display_data"
        },
        {
          "data": {
            "application/vnd.jupyter.widget-view+json": {
              "model_id": "aa54d32c3dcb46b181be30921ae5cfd6",
              "version_major": 2,
              "version_minor": 0
            },
            "text/plain": [
              "Map:   0%|          | 0/320 [00:00<?, ? examples/s]"
            ]
          },
          "metadata": {},
          "output_type": "display_data"
        },
        {
          "data": {
            "application/vnd.jupyter.widget-view+json": {
              "model_id": "fa16951ae94244f2a9461945e7031b35",
              "version_major": 2,
              "version_minor": 0
            },
            "text/plain": [
              "Running Epoch 3 of 10:   0%|          | 0/180 [00:00<?, ?it/s]"
            ]
          },
          "metadata": {},
          "output_type": "display_data"
        },
        {
          "data": {
            "application/vnd.jupyter.widget-view+json": {
              "model_id": "9b8424e541524432aab46fa57e469bc6",
              "version_major": 2,
              "version_minor": 0
            },
            "text/plain": [
              "Map:   0%|          | 0/320 [00:00<?, ? examples/s]"
            ]
          },
          "metadata": {},
          "output_type": "display_data"
        },
        {
          "data": {
            "application/vnd.jupyter.widget-view+json": {
              "model_id": "5beba05c2a6a47989ddaf3e589e692db",
              "version_major": 2,
              "version_minor": 0
            },
            "text/plain": [
              "Running Epoch 4 of 10:   0%|          | 0/180 [00:00<?, ?it/s]"
            ]
          },
          "metadata": {},
          "output_type": "display_data"
        },
        {
          "data": {
            "application/vnd.jupyter.widget-view+json": {
              "model_id": "3285095b67534cd3a3d1885803e49958",
              "version_major": 2,
              "version_minor": 0
            },
            "text/plain": [
              "Map:   0%|          | 0/320 [00:00<?, ? examples/s]"
            ]
          },
          "metadata": {},
          "output_type": "display_data"
        },
        {
          "data": {
            "application/vnd.jupyter.widget-view+json": {
              "model_id": "584b31efd9214e5283f549f59d60f03d",
              "version_major": 2,
              "version_minor": 0
            },
            "text/plain": [
              "Map:   0%|          | 0/800 [00:00<?, ? examples/s]"
            ]
          },
          "metadata": {},
          "output_type": "display_data"
        },
        {
          "data": {
            "application/vnd.jupyter.widget-view+json": {
              "model_id": "d4f62830c1e4473ca23625a3d5d8449a",
              "version_major": 2,
              "version_minor": 0
            },
            "text/plain": [
              "Predicting:   0%|          | 0/25 [00:00<?, ?it/s]"
            ]
          },
          "metadata": {},
          "output_type": "display_data"
        },
        {
          "data": {
            "application/vnd.jupyter.widget-view+json": {
              "model_id": "beeedfd6c3b24558a667e2f2bc62ec02",
              "version_major": 2,
              "version_minor": 0
            },
            "text/plain": [
              "XLNet | Cross-Validating:   0%|          | 0/5 [00:00<?, ?it/s]"
            ]
          },
          "metadata": {},
          "output_type": "display_data"
        },
        {
          "data": {
            "application/vnd.jupyter.widget-view+json": {
              "model_id": "06a20e14182e471bba9d4729152cd359",
              "version_major": 2,
              "version_minor": 0
            },
            "text/plain": [
              "Map:   0%|          | 0/2880 [00:00<?, ? examples/s]"
            ]
          },
          "metadata": {},
          "output_type": "display_data"
        },
        {
          "data": {
            "application/vnd.jupyter.widget-view+json": {
              "model_id": "6e013929127b4cd3b78dd0a6ac15ae4a",
              "version_major": 2,
              "version_minor": 0
            },
            "text/plain": [
              "Epoch:   0%|          | 0/10 [00:00<?, ?it/s]"
            ]
          },
          "metadata": {},
          "output_type": "display_data"
        },
        {
          "data": {
            "application/vnd.jupyter.widget-view+json": {
              "model_id": "bdd021a80aea4dddb9939e10cf1ff314",
              "version_major": 2,
              "version_minor": 0
            },
            "text/plain": [
              "Running Epoch 1 of 10:   0%|          | 0/180 [00:00<?, ?it/s]"
            ]
          },
          "metadata": {},
          "output_type": "display_data"
        },
        {
          "data": {
            "application/vnd.jupyter.widget-view+json": {
              "model_id": "075a91de58a240efa25fa0adaab418b4",
              "version_major": 2,
              "version_minor": 0
            },
            "text/plain": [
              "Map:   0%|          | 0/320 [00:00<?, ? examples/s]"
            ]
          },
          "metadata": {},
          "output_type": "display_data"
        },
        {
          "data": {
            "application/vnd.jupyter.widget-view+json": {
              "model_id": "e96498e1fd6c448c96e7fa28f3535b6f",
              "version_major": 2,
              "version_minor": 0
            },
            "text/plain": [
              "Running Epoch 2 of 10:   0%|          | 0/180 [00:00<?, ?it/s]"
            ]
          },
          "metadata": {},
          "output_type": "display_data"
        },
        {
          "data": {
            "application/vnd.jupyter.widget-view+json": {
              "model_id": "2ad57b01bfde4449bb0e492d18bf53b1",
              "version_major": 2,
              "version_minor": 0
            },
            "text/plain": [
              "Map:   0%|          | 0/320 [00:00<?, ? examples/s]"
            ]
          },
          "metadata": {},
          "output_type": "display_data"
        },
        {
          "data": {
            "application/vnd.jupyter.widget-view+json": {
              "model_id": "eb71186b928343c28fa4dc303af3e0a7",
              "version_major": 2,
              "version_minor": 0
            },
            "text/plain": [
              "Running Epoch 3 of 10:   0%|          | 0/180 [00:00<?, ?it/s]"
            ]
          },
          "metadata": {},
          "output_type": "display_data"
        },
        {
          "data": {
            "application/vnd.jupyter.widget-view+json": {
              "model_id": "3919349429de42d686b3c5c8377d6f3b",
              "version_major": 2,
              "version_minor": 0
            },
            "text/plain": [
              "Map:   0%|          | 0/320 [00:00<?, ? examples/s]"
            ]
          },
          "metadata": {},
          "output_type": "display_data"
        },
        {
          "data": {
            "application/vnd.jupyter.widget-view+json": {
              "model_id": "7853f0a2f25946c487ecdd6f89497da7",
              "version_major": 2,
              "version_minor": 0
            },
            "text/plain": [
              "Running Epoch 4 of 10:   0%|          | 0/180 [00:00<?, ?it/s]"
            ]
          },
          "metadata": {},
          "output_type": "display_data"
        },
        {
          "data": {
            "application/vnd.jupyter.widget-view+json": {
              "model_id": "585e0e078234440fb518265badf2ec14",
              "version_major": 2,
              "version_minor": 0
            },
            "text/plain": [
              "Map:   0%|          | 0/320 [00:00<?, ? examples/s]"
            ]
          },
          "metadata": {},
          "output_type": "display_data"
        },
        {
          "data": {
            "application/vnd.jupyter.widget-view+json": {
              "model_id": "b0211ef0f54b45588d5aa7679f0a3c12",
              "version_major": 2,
              "version_minor": 0
            },
            "text/plain": [
              "Map:   0%|          | 0/800 [00:00<?, ? examples/s]"
            ]
          },
          "metadata": {},
          "output_type": "display_data"
        },
        {
          "data": {
            "application/vnd.jupyter.widget-view+json": {
              "model_id": "9e488781a3ea42b1a14ad4cba11f3709",
              "version_major": 2,
              "version_minor": 0
            },
            "text/plain": [
              "Predicting:   0%|          | 0/25 [00:00<?, ?it/s]"
            ]
          },
          "metadata": {},
          "output_type": "display_data"
        },
        {
          "data": {
            "application/vnd.jupyter.widget-view+json": {
              "model_id": "555f2688a2db4bdbb03307185b73e3bb",
              "version_major": 2,
              "version_minor": 0
            },
            "text/plain": [
              "Map:   0%|          | 0/2880 [00:00<?, ? examples/s]"
            ]
          },
          "metadata": {},
          "output_type": "display_data"
        },
        {
          "data": {
            "application/vnd.jupyter.widget-view+json": {
              "model_id": "b83afd1ed32543e59ed80761e5af4350",
              "version_major": 2,
              "version_minor": 0
            },
            "text/plain": [
              "Epoch:   0%|          | 0/10 [00:00<?, ?it/s]"
            ]
          },
          "metadata": {},
          "output_type": "display_data"
        },
        {
          "data": {
            "application/vnd.jupyter.widget-view+json": {
              "model_id": "6dfd214611d24c23b56deffeaee75ef4",
              "version_major": 2,
              "version_minor": 0
            },
            "text/plain": [
              "Running Epoch 1 of 10:   0%|          | 0/180 [00:00<?, ?it/s]"
            ]
          },
          "metadata": {},
          "output_type": "display_data"
        },
        {
          "data": {
            "application/vnd.jupyter.widget-view+json": {
              "model_id": "14558f2ae49c41929f10abf2dbd0289e",
              "version_major": 2,
              "version_minor": 0
            },
            "text/plain": [
              "Map:   0%|          | 0/320 [00:00<?, ? examples/s]"
            ]
          },
          "metadata": {},
          "output_type": "display_data"
        },
        {
          "data": {
            "application/vnd.jupyter.widget-view+json": {
              "model_id": "c0b428bf145b4e5faab8405ae65fd0d8",
              "version_major": 2,
              "version_minor": 0
            },
            "text/plain": [
              "Running Epoch 2 of 10:   0%|          | 0/180 [00:00<?, ?it/s]"
            ]
          },
          "metadata": {},
          "output_type": "display_data"
        },
        {
          "data": {
            "application/vnd.jupyter.widget-view+json": {
              "model_id": "bc0f1e33d1fd4ddd81a432f871fd262a",
              "version_major": 2,
              "version_minor": 0
            },
            "text/plain": [
              "Map:   0%|          | 0/320 [00:00<?, ? examples/s]"
            ]
          },
          "metadata": {},
          "output_type": "display_data"
        },
        {
          "data": {
            "application/vnd.jupyter.widget-view+json": {
              "model_id": "3adcecb3f0b94e3ca05772bd229549a8",
              "version_major": 2,
              "version_minor": 0
            },
            "text/plain": [
              "Map:   0%|          | 0/800 [00:00<?, ? examples/s]"
            ]
          },
          "metadata": {},
          "output_type": "display_data"
        },
        {
          "data": {
            "application/vnd.jupyter.widget-view+json": {
              "model_id": "db1f079946c1446a94f9742bbd8315b5",
              "version_major": 2,
              "version_minor": 0
            },
            "text/plain": [
              "Predicting:   0%|          | 0/25 [00:00<?, ?it/s]"
            ]
          },
          "metadata": {},
          "output_type": "display_data"
        },
        {
          "data": {
            "application/vnd.jupyter.widget-view+json": {
              "model_id": "1c6a6ec3ec9c4d0ea3f1c6782e1549d0",
              "version_major": 2,
              "version_minor": 0
            },
            "text/plain": [
              "Map:   0%|          | 0/2880 [00:00<?, ? examples/s]"
            ]
          },
          "metadata": {},
          "output_type": "display_data"
        },
        {
          "data": {
            "application/vnd.jupyter.widget-view+json": {
              "model_id": "06542c2a66564d93a6e97beb00b5d51f",
              "version_major": 2,
              "version_minor": 0
            },
            "text/plain": [
              "Epoch:   0%|          | 0/10 [00:00<?, ?it/s]"
            ]
          },
          "metadata": {},
          "output_type": "display_data"
        },
        {
          "data": {
            "application/vnd.jupyter.widget-view+json": {
              "model_id": "e99e9f117da24879920ac531d6261116",
              "version_major": 2,
              "version_minor": 0
            },
            "text/plain": [
              "Running Epoch 1 of 10:   0%|          | 0/180 [00:00<?, ?it/s]"
            ]
          },
          "metadata": {},
          "output_type": "display_data"
        },
        {
          "data": {
            "application/vnd.jupyter.widget-view+json": {
              "model_id": "6231897d96d84d28b4bac0d5302e5164",
              "version_major": 2,
              "version_minor": 0
            },
            "text/plain": [
              "Map:   0%|          | 0/320 [00:00<?, ? examples/s]"
            ]
          },
          "metadata": {},
          "output_type": "display_data"
        },
        {
          "data": {
            "application/vnd.jupyter.widget-view+json": {
              "model_id": "75bca4da003843d4a9f3fd18019ee7ff",
              "version_major": 2,
              "version_minor": 0
            },
            "text/plain": [
              "Running Epoch 2 of 10:   0%|          | 0/180 [00:00<?, ?it/s]"
            ]
          },
          "metadata": {},
          "output_type": "display_data"
        },
        {
          "data": {
            "application/vnd.jupyter.widget-view+json": {
              "model_id": "b8e5b3417d22413886fdaac84579c846",
              "version_major": 2,
              "version_minor": 0
            },
            "text/plain": [
              "Map:   0%|          | 0/320 [00:00<?, ? examples/s]"
            ]
          },
          "metadata": {},
          "output_type": "display_data"
        },
        {
          "data": {
            "application/vnd.jupyter.widget-view+json": {
              "model_id": "3b2891cdc6a646ca88fb3f423a084bb7",
              "version_major": 2,
              "version_minor": 0
            },
            "text/plain": [
              "Running Epoch 3 of 10:   0%|          | 0/180 [00:00<?, ?it/s]"
            ]
          },
          "metadata": {},
          "output_type": "display_data"
        },
        {
          "data": {
            "application/vnd.jupyter.widget-view+json": {
              "model_id": "beff0bf0e0eb442f83449f00b8fa77eb",
              "version_major": 2,
              "version_minor": 0
            },
            "text/plain": [
              "Map:   0%|          | 0/320 [00:00<?, ? examples/s]"
            ]
          },
          "metadata": {},
          "output_type": "display_data"
        },
        {
          "data": {
            "application/vnd.jupyter.widget-view+json": {
              "model_id": "78bffc3e5c504591a7d01126240a9a9a",
              "version_major": 2,
              "version_minor": 0
            },
            "text/plain": [
              "Running Epoch 4 of 10:   0%|          | 0/180 [00:00<?, ?it/s]"
            ]
          },
          "metadata": {},
          "output_type": "display_data"
        },
        {
          "data": {
            "application/vnd.jupyter.widget-view+json": {
              "model_id": "db30ce74cc854aac92005b6531a74cf2",
              "version_major": 2,
              "version_minor": 0
            },
            "text/plain": [
              "Map:   0%|          | 0/320 [00:00<?, ? examples/s]"
            ]
          },
          "metadata": {},
          "output_type": "display_data"
        },
        {
          "data": {
            "application/vnd.jupyter.widget-view+json": {
              "model_id": "6a82cdb345a14cb5a92606b73b22d424",
              "version_major": 2,
              "version_minor": 0
            },
            "text/plain": [
              "Running Epoch 5 of 10:   0%|          | 0/180 [00:00<?, ?it/s]"
            ]
          },
          "metadata": {},
          "output_type": "display_data"
        },
        {
          "data": {
            "application/vnd.jupyter.widget-view+json": {
              "model_id": "18e3968ce3ce4b70a29aa21bf9509803",
              "version_major": 2,
              "version_minor": 0
            },
            "text/plain": [
              "Map:   0%|          | 0/320 [00:00<?, ? examples/s]"
            ]
          },
          "metadata": {},
          "output_type": "display_data"
        },
        {
          "data": {
            "application/vnd.jupyter.widget-view+json": {
              "model_id": "2e8ed66a28194213958b1c5311d13656",
              "version_major": 2,
              "version_minor": 0
            },
            "text/plain": [
              "Running Epoch 6 of 10:   0%|          | 0/180 [00:00<?, ?it/s]"
            ]
          },
          "metadata": {},
          "output_type": "display_data"
        },
        {
          "data": {
            "application/vnd.jupyter.widget-view+json": {
              "model_id": "faf9af55f6354a08993cf9265b740bdd",
              "version_major": 2,
              "version_minor": 0
            },
            "text/plain": [
              "Map:   0%|          | 0/320 [00:00<?, ? examples/s]"
            ]
          },
          "metadata": {},
          "output_type": "display_data"
        },
        {
          "data": {
            "application/vnd.jupyter.widget-view+json": {
              "model_id": "e963e20baf8b4721a18c9d380b8865a5",
              "version_major": 2,
              "version_minor": 0
            },
            "text/plain": [
              "Running Epoch 7 of 10:   0%|          | 0/180 [00:00<?, ?it/s]"
            ]
          },
          "metadata": {},
          "output_type": "display_data"
        },
        {
          "data": {
            "application/vnd.jupyter.widget-view+json": {
              "model_id": "c55f7b3d69f447c68ffabf7deaf277fa",
              "version_major": 2,
              "version_minor": 0
            },
            "text/plain": [
              "Map:   0%|          | 0/320 [00:00<?, ? examples/s]"
            ]
          },
          "metadata": {},
          "output_type": "display_data"
        },
        {
          "data": {
            "application/vnd.jupyter.widget-view+json": {
              "model_id": "69da07a3400841aeb9f5b7eceb7872eb",
              "version_major": 2,
              "version_minor": 0
            },
            "text/plain": [
              "Map:   0%|          | 0/800 [00:00<?, ? examples/s]"
            ]
          },
          "metadata": {},
          "output_type": "display_data"
        },
        {
          "data": {
            "application/vnd.jupyter.widget-view+json": {
              "model_id": "8a4bbf982f124666a035b15f26dff3ad",
              "version_major": 2,
              "version_minor": 0
            },
            "text/plain": [
              "Predicting:   0%|          | 0/25 [00:00<?, ?it/s]"
            ]
          },
          "metadata": {},
          "output_type": "display_data"
        },
        {
          "data": {
            "application/vnd.jupyter.widget-view+json": {
              "model_id": "0be7bac22d724c4781147ea1ff6a2c9d",
              "version_major": 2,
              "version_minor": 0
            },
            "text/plain": [
              "Map:   0%|          | 0/2880 [00:00<?, ? examples/s]"
            ]
          },
          "metadata": {},
          "output_type": "display_data"
        },
        {
          "data": {
            "application/vnd.jupyter.widget-view+json": {
              "model_id": "96b9de2a3b0f4983a5f3cb98732e74ca",
              "version_major": 2,
              "version_minor": 0
            },
            "text/plain": [
              "Epoch:   0%|          | 0/10 [00:00<?, ?it/s]"
            ]
          },
          "metadata": {},
          "output_type": "display_data"
        },
        {
          "data": {
            "application/vnd.jupyter.widget-view+json": {
              "model_id": "b3e7d8fc9ebc40a09b5fa2758881aeef",
              "version_major": 2,
              "version_minor": 0
            },
            "text/plain": [
              "Running Epoch 1 of 10:   0%|          | 0/180 [00:00<?, ?it/s]"
            ]
          },
          "metadata": {},
          "output_type": "display_data"
        },
        {
          "data": {
            "application/vnd.jupyter.widget-view+json": {
              "model_id": "771089abf443410198c9c8512dc27c7a",
              "version_major": 2,
              "version_minor": 0
            },
            "text/plain": [
              "Map:   0%|          | 0/320 [00:00<?, ? examples/s]"
            ]
          },
          "metadata": {},
          "output_type": "display_data"
        },
        {
          "data": {
            "application/vnd.jupyter.widget-view+json": {
              "model_id": "0ac118bb7a094c3bb9caa76f78f9c09f",
              "version_major": 2,
              "version_minor": 0
            },
            "text/plain": [
              "Running Epoch 2 of 10:   0%|          | 0/180 [00:00<?, ?it/s]"
            ]
          },
          "metadata": {},
          "output_type": "display_data"
        },
        {
          "data": {
            "application/vnd.jupyter.widget-view+json": {
              "model_id": "383fee2eb636489e8f3b235dbbd0cd7f",
              "version_major": 2,
              "version_minor": 0
            },
            "text/plain": [
              "Map:   0%|          | 0/320 [00:00<?, ? examples/s]"
            ]
          },
          "metadata": {},
          "output_type": "display_data"
        },
        {
          "data": {
            "application/vnd.jupyter.widget-view+json": {
              "model_id": "dca83dccbeb74e9bbb93a9031147bf54",
              "version_major": 2,
              "version_minor": 0
            },
            "text/plain": [
              "Running Epoch 3 of 10:   0%|          | 0/180 [00:00<?, ?it/s]"
            ]
          },
          "metadata": {},
          "output_type": "display_data"
        },
        {
          "data": {
            "application/vnd.jupyter.widget-view+json": {
              "model_id": "2a4fbb38469f4275b7a8c0e24f74d3a5",
              "version_major": 2,
              "version_minor": 0
            },
            "text/plain": [
              "Map:   0%|          | 0/320 [00:00<?, ? examples/s]"
            ]
          },
          "metadata": {},
          "output_type": "display_data"
        },
        {
          "data": {
            "application/vnd.jupyter.widget-view+json": {
              "model_id": "a9c3983ce3c5480cb37bda4d70436ecf",
              "version_major": 2,
              "version_minor": 0
            },
            "text/plain": [
              "Running Epoch 4 of 10:   0%|          | 0/180 [00:00<?, ?it/s]"
            ]
          },
          "metadata": {},
          "output_type": "display_data"
        },
        {
          "data": {
            "application/vnd.jupyter.widget-view+json": {
              "model_id": "6abc0013f5954b09a084bbf74875d707",
              "version_major": 2,
              "version_minor": 0
            },
            "text/plain": [
              "Map:   0%|          | 0/320 [00:00<?, ? examples/s]"
            ]
          },
          "metadata": {},
          "output_type": "display_data"
        },
        {
          "data": {
            "application/vnd.jupyter.widget-view+json": {
              "model_id": "7c5ca9b4e5154a30bb5becdd2f0f0ea5",
              "version_major": 2,
              "version_minor": 0
            },
            "text/plain": [
              "Map:   0%|          | 0/800 [00:00<?, ? examples/s]"
            ]
          },
          "metadata": {},
          "output_type": "display_data"
        },
        {
          "data": {
            "application/vnd.jupyter.widget-view+json": {
              "model_id": "368e1a42652744339bf96f5cc8961c94",
              "version_major": 2,
              "version_minor": 0
            },
            "text/plain": [
              "Predicting:   0%|          | 0/25 [00:00<?, ?it/s]"
            ]
          },
          "metadata": {},
          "output_type": "display_data"
        },
        {
          "data": {
            "application/vnd.jupyter.widget-view+json": {
              "model_id": "8b0cf3d858b445aaaedee4b56af2f175",
              "version_major": 2,
              "version_minor": 0
            },
            "text/plain": [
              "Map:   0%|          | 0/2880 [00:00<?, ? examples/s]"
            ]
          },
          "metadata": {},
          "output_type": "display_data"
        },
        {
          "data": {
            "application/vnd.jupyter.widget-view+json": {
              "model_id": "57f1014681ca47b2881dd11d2a215094",
              "version_major": 2,
              "version_minor": 0
            },
            "text/plain": [
              "Epoch:   0%|          | 0/10 [00:00<?, ?it/s]"
            ]
          },
          "metadata": {},
          "output_type": "display_data"
        },
        {
          "data": {
            "application/vnd.jupyter.widget-view+json": {
              "model_id": "5e7d726a395b4f45a294856ab2dee63c",
              "version_major": 2,
              "version_minor": 0
            },
            "text/plain": [
              "Running Epoch 1 of 10:   0%|          | 0/180 [00:00<?, ?it/s]"
            ]
          },
          "metadata": {},
          "output_type": "display_data"
        },
        {
          "data": {
            "application/vnd.jupyter.widget-view+json": {
              "model_id": "a24e7a67766847188641909984b6d4de",
              "version_major": 2,
              "version_minor": 0
            },
            "text/plain": [
              "Map:   0%|          | 0/320 [00:00<?, ? examples/s]"
            ]
          },
          "metadata": {},
          "output_type": "display_data"
        },
        {
          "data": {
            "application/vnd.jupyter.widget-view+json": {
              "model_id": "f7f7ed5a0cc34d1cbd2c2500443f8f6d",
              "version_major": 2,
              "version_minor": 0
            },
            "text/plain": [
              "Running Epoch 2 of 10:   0%|          | 0/180 [00:00<?, ?it/s]"
            ]
          },
          "metadata": {},
          "output_type": "display_data"
        },
        {
          "data": {
            "application/vnd.jupyter.widget-view+json": {
              "model_id": "a849cbdbab46405d8f03613a9f11b54f",
              "version_major": 2,
              "version_minor": 0
            },
            "text/plain": [
              "Map:   0%|          | 0/320 [00:00<?, ? examples/s]"
            ]
          },
          "metadata": {},
          "output_type": "display_data"
        },
        {
          "data": {
            "application/vnd.jupyter.widget-view+json": {
              "model_id": "17e2a9ab869742d398381654ab3f43a6",
              "version_major": 2,
              "version_minor": 0
            },
            "text/plain": [
              "Map:   0%|          | 0/800 [00:00<?, ? examples/s]"
            ]
          },
          "metadata": {},
          "output_type": "display_data"
        },
        {
          "data": {
            "application/vnd.jupyter.widget-view+json": {
              "model_id": "884de67b67de46c8a882116e1e7ab28a",
              "version_major": 2,
              "version_minor": 0
            },
            "text/plain": [
              "Predicting:   0%|          | 0/25 [00:00<?, ?it/s]"
            ]
          },
          "metadata": {},
          "output_type": "display_data"
        },
        {
          "data": {
            "application/vnd.jupyter.widget-view+json": {
              "model_id": "0e767745522644f08034045bd31a52f1",
              "version_major": 2,
              "version_minor": 0
            },
            "text/plain": [
              "ELECTRA | Cross-Validating:   0%|          | 0/5 [00:00<?, ?it/s]"
            ]
          },
          "metadata": {},
          "output_type": "display_data"
        },
        {
          "data": {
            "application/vnd.jupyter.widget-view+json": {
              "model_id": "fe6cb217abec4b9c80a31bdc8ecd28bb",
              "version_major": 2,
              "version_minor": 0
            },
            "text/plain": [
              "Map:   0%|          | 0/2880 [00:00<?, ? examples/s]"
            ]
          },
          "metadata": {},
          "output_type": "display_data"
        },
        {
          "data": {
            "application/vnd.jupyter.widget-view+json": {
              "model_id": "9807531356b648779fe5b9ca7f0252c0",
              "version_major": 2,
              "version_minor": 0
            },
            "text/plain": [
              "Epoch:   0%|          | 0/10 [00:00<?, ?it/s]"
            ]
          },
          "metadata": {},
          "output_type": "display_data"
        },
        {
          "data": {
            "application/vnd.jupyter.widget-view+json": {
              "model_id": "9aba949cabb54af7beb6b5dcc017d2b0",
              "version_major": 2,
              "version_minor": 0
            },
            "text/plain": [
              "Running Epoch 1 of 10:   0%|          | 0/180 [00:00<?, ?it/s]"
            ]
          },
          "metadata": {},
          "output_type": "display_data"
        },
        {
          "data": {
            "application/vnd.jupyter.widget-view+json": {
              "model_id": "e17a143aa6d5438884e7cd38957f2856",
              "version_major": 2,
              "version_minor": 0
            },
            "text/plain": [
              "Map:   0%|          | 0/320 [00:00<?, ? examples/s]"
            ]
          },
          "metadata": {},
          "output_type": "display_data"
        },
        {
          "data": {
            "application/vnd.jupyter.widget-view+json": {
              "model_id": "b1d7ec751f6a440eb5dcfb9d786d973c",
              "version_major": 2,
              "version_minor": 0
            },
            "text/plain": [
              "Running Epoch 2 of 10:   0%|          | 0/180 [00:00<?, ?it/s]"
            ]
          },
          "metadata": {},
          "output_type": "display_data"
        },
        {
          "data": {
            "application/vnd.jupyter.widget-view+json": {
              "model_id": "4e206f150cb6429db04adcbba190bbf6",
              "version_major": 2,
              "version_minor": 0
            },
            "text/plain": [
              "Map:   0%|          | 0/320 [00:00<?, ? examples/s]"
            ]
          },
          "metadata": {},
          "output_type": "display_data"
        },
        {
          "data": {
            "application/vnd.jupyter.widget-view+json": {
              "model_id": "9a0589ef1f2d44b98e8ec67cb278fa7b",
              "version_major": 2,
              "version_minor": 0
            },
            "text/plain": [
              "Map:   0%|          | 0/800 [00:00<?, ? examples/s]"
            ]
          },
          "metadata": {},
          "output_type": "display_data"
        },
        {
          "data": {
            "application/vnd.jupyter.widget-view+json": {
              "model_id": "25b005880f07459d96d16fb50d97a332",
              "version_major": 2,
              "version_minor": 0
            },
            "text/plain": [
              "Predicting:   0%|          | 0/25 [00:00<?, ?it/s]"
            ]
          },
          "metadata": {},
          "output_type": "display_data"
        },
        {
          "data": {
            "application/vnd.jupyter.widget-view+json": {
              "model_id": "899fa44aa582421c91b93fa37862d55d",
              "version_major": 2,
              "version_minor": 0
            },
            "text/plain": [
              "Map:   0%|          | 0/2880 [00:00<?, ? examples/s]"
            ]
          },
          "metadata": {},
          "output_type": "display_data"
        },
        {
          "data": {
            "application/vnd.jupyter.widget-view+json": {
              "model_id": "c1dc69bdb5634bdf87602ff38f5c8845",
              "version_major": 2,
              "version_minor": 0
            },
            "text/plain": [
              "Epoch:   0%|          | 0/10 [00:00<?, ?it/s]"
            ]
          },
          "metadata": {},
          "output_type": "display_data"
        },
        {
          "data": {
            "application/vnd.jupyter.widget-view+json": {
              "model_id": "9ae7502a203b4c1abb55a59d9bf8b7ae",
              "version_major": 2,
              "version_minor": 0
            },
            "text/plain": [
              "Running Epoch 1 of 10:   0%|          | 0/180 [00:00<?, ?it/s]"
            ]
          },
          "metadata": {},
          "output_type": "display_data"
        },
        {
          "data": {
            "application/vnd.jupyter.widget-view+json": {
              "model_id": "bbb94559553541a692bcc9b7e70ccf4b",
              "version_major": 2,
              "version_minor": 0
            },
            "text/plain": [
              "Map:   0%|          | 0/320 [00:00<?, ? examples/s]"
            ]
          },
          "metadata": {},
          "output_type": "display_data"
        },
        {
          "data": {
            "application/vnd.jupyter.widget-view+json": {
              "model_id": "77557733c0f74806924d720f2b8372ce",
              "version_major": 2,
              "version_minor": 0
            },
            "text/plain": [
              "Running Epoch 2 of 10:   0%|          | 0/180 [00:00<?, ?it/s]"
            ]
          },
          "metadata": {},
          "output_type": "display_data"
        },
        {
          "data": {
            "application/vnd.jupyter.widget-view+json": {
              "model_id": "de330ea866bb42878579295a4fbc2a2e",
              "version_major": 2,
              "version_minor": 0
            },
            "text/plain": [
              "Map:   0%|          | 0/320 [00:00<?, ? examples/s]"
            ]
          },
          "metadata": {},
          "output_type": "display_data"
        },
        {
          "data": {
            "application/vnd.jupyter.widget-view+json": {
              "model_id": "c354f24ec4074f549f5f45b115c9aabe",
              "version_major": 2,
              "version_minor": 0
            },
            "text/plain": [
              "Running Epoch 3 of 10:   0%|          | 0/180 [00:00<?, ?it/s]"
            ]
          },
          "metadata": {},
          "output_type": "display_data"
        },
        {
          "data": {
            "application/vnd.jupyter.widget-view+json": {
              "model_id": "ef1f88eb1dea49319f72a35607a066f0",
              "version_major": 2,
              "version_minor": 0
            },
            "text/plain": [
              "Map:   0%|          | 0/320 [00:00<?, ? examples/s]"
            ]
          },
          "metadata": {},
          "output_type": "display_data"
        },
        {
          "data": {
            "application/vnd.jupyter.widget-view+json": {
              "model_id": "c069ee3c33c145e68ea58950fc6d7233",
              "version_major": 2,
              "version_minor": 0
            },
            "text/plain": [
              "Running Epoch 4 of 10:   0%|          | 0/180 [00:00<?, ?it/s]"
            ]
          },
          "metadata": {},
          "output_type": "display_data"
        },
        {
          "data": {
            "application/vnd.jupyter.widget-view+json": {
              "model_id": "dc69353a624f45578a79f0dc049741a3",
              "version_major": 2,
              "version_minor": 0
            },
            "text/plain": [
              "Map:   0%|          | 0/320 [00:00<?, ? examples/s]"
            ]
          },
          "metadata": {},
          "output_type": "display_data"
        },
        {
          "data": {
            "application/vnd.jupyter.widget-view+json": {
              "model_id": "d08d0a3a711d49fe9e27deee071a0d1b",
              "version_major": 2,
              "version_minor": 0
            },
            "text/plain": [
              "Map:   0%|          | 0/800 [00:00<?, ? examples/s]"
            ]
          },
          "metadata": {},
          "output_type": "display_data"
        },
        {
          "data": {
            "application/vnd.jupyter.widget-view+json": {
              "model_id": "192de53a26b24d28acb0dc59aec414bb",
              "version_major": 2,
              "version_minor": 0
            },
            "text/plain": [
              "Predicting:   0%|          | 0/25 [00:00<?, ?it/s]"
            ]
          },
          "metadata": {},
          "output_type": "display_data"
        },
        {
          "data": {
            "application/vnd.jupyter.widget-view+json": {
              "model_id": "aaeb76e3292c4e8a84147453d11c4cd0",
              "version_major": 2,
              "version_minor": 0
            },
            "text/plain": [
              "Map:   0%|          | 0/2880 [00:00<?, ? examples/s]"
            ]
          },
          "metadata": {},
          "output_type": "display_data"
        },
        {
          "data": {
            "application/vnd.jupyter.widget-view+json": {
              "model_id": "8b50b1a47e0a4fb6b953921ba2f04786",
              "version_major": 2,
              "version_minor": 0
            },
            "text/plain": [
              "Epoch:   0%|          | 0/10 [00:00<?, ?it/s]"
            ]
          },
          "metadata": {},
          "output_type": "display_data"
        },
        {
          "data": {
            "application/vnd.jupyter.widget-view+json": {
              "model_id": "e4efbfdbae2741a8852e3c7d912c577b",
              "version_major": 2,
              "version_minor": 0
            },
            "text/plain": [
              "Running Epoch 1 of 10:   0%|          | 0/180 [00:00<?, ?it/s]"
            ]
          },
          "metadata": {},
          "output_type": "display_data"
        },
        {
          "data": {
            "application/vnd.jupyter.widget-view+json": {
              "model_id": "ad7d57bb46bf4578b52a7fa2ed3ef661",
              "version_major": 2,
              "version_minor": 0
            },
            "text/plain": [
              "Map:   0%|          | 0/320 [00:00<?, ? examples/s]"
            ]
          },
          "metadata": {},
          "output_type": "display_data"
        },
        {
          "data": {
            "application/vnd.jupyter.widget-view+json": {
              "model_id": "b12d3eaf20bf44f392476353a2508f76",
              "version_major": 2,
              "version_minor": 0
            },
            "text/plain": [
              "Running Epoch 2 of 10:   0%|          | 0/180 [00:00<?, ?it/s]"
            ]
          },
          "metadata": {},
          "output_type": "display_data"
        },
        {
          "data": {
            "application/vnd.jupyter.widget-view+json": {
              "model_id": "2318492ef57b4b76a916907cbce1de16",
              "version_major": 2,
              "version_minor": 0
            },
            "text/plain": [
              "Map:   0%|          | 0/320 [00:00<?, ? examples/s]"
            ]
          },
          "metadata": {},
          "output_type": "display_data"
        },
        {
          "data": {
            "application/vnd.jupyter.widget-view+json": {
              "model_id": "69e90f06cec741ceac4efcdc52b9e288",
              "version_major": 2,
              "version_minor": 0
            },
            "text/plain": [
              "Map:   0%|          | 0/800 [00:00<?, ? examples/s]"
            ]
          },
          "metadata": {},
          "output_type": "display_data"
        },
        {
          "data": {
            "application/vnd.jupyter.widget-view+json": {
              "model_id": "8045120f69474ce4923f987d8c223d3f",
              "version_major": 2,
              "version_minor": 0
            },
            "text/plain": [
              "Predicting:   0%|          | 0/25 [00:00<?, ?it/s]"
            ]
          },
          "metadata": {},
          "output_type": "display_data"
        },
        {
          "data": {
            "application/vnd.jupyter.widget-view+json": {
              "model_id": "56cb35359ea249faaae4e7bd1dad0af9",
              "version_major": 2,
              "version_minor": 0
            },
            "text/plain": [
              "Map:   0%|          | 0/2880 [00:00<?, ? examples/s]"
            ]
          },
          "metadata": {},
          "output_type": "display_data"
        },
        {
          "data": {
            "application/vnd.jupyter.widget-view+json": {
              "model_id": "1a3188ec92cf47fc8bfdc8ab744fd4f7",
              "version_major": 2,
              "version_minor": 0
            },
            "text/plain": [
              "Epoch:   0%|          | 0/10 [00:00<?, ?it/s]"
            ]
          },
          "metadata": {},
          "output_type": "display_data"
        },
        {
          "data": {
            "application/vnd.jupyter.widget-view+json": {
              "model_id": "ce2d9540dfac4746a9be84784f353b9b",
              "version_major": 2,
              "version_minor": 0
            },
            "text/plain": [
              "Running Epoch 1 of 10:   0%|          | 0/180 [00:00<?, ?it/s]"
            ]
          },
          "metadata": {},
          "output_type": "display_data"
        },
        {
          "data": {
            "application/vnd.jupyter.widget-view+json": {
              "model_id": "28276931ec6c458e9e382155689a3536",
              "version_major": 2,
              "version_minor": 0
            },
            "text/plain": [
              "Map:   0%|          | 0/320 [00:00<?, ? examples/s]"
            ]
          },
          "metadata": {},
          "output_type": "display_data"
        },
        {
          "data": {
            "application/vnd.jupyter.widget-view+json": {
              "model_id": "5fb1d146abdd48c086544775ecbaba16",
              "version_major": 2,
              "version_minor": 0
            },
            "text/plain": [
              "Running Epoch 2 of 10:   0%|          | 0/180 [00:00<?, ?it/s]"
            ]
          },
          "metadata": {},
          "output_type": "display_data"
        },
        {
          "data": {
            "application/vnd.jupyter.widget-view+json": {
              "model_id": "9ad3c18492a74294b9c50029cf37e10f",
              "version_major": 2,
              "version_minor": 0
            },
            "text/plain": [
              "Map:   0%|          | 0/320 [00:00<?, ? examples/s]"
            ]
          },
          "metadata": {},
          "output_type": "display_data"
        },
        {
          "data": {
            "application/vnd.jupyter.widget-view+json": {
              "model_id": "57f348b4dffc4c20a8fe3094a67710a7",
              "version_major": 2,
              "version_minor": 0
            },
            "text/plain": [
              "Running Epoch 3 of 10:   0%|          | 0/180 [00:00<?, ?it/s]"
            ]
          },
          "metadata": {},
          "output_type": "display_data"
        },
        {
          "data": {
            "application/vnd.jupyter.widget-view+json": {
              "model_id": "d434a06d60ca4997a859f8b208571441",
              "version_major": 2,
              "version_minor": 0
            },
            "text/plain": [
              "Map:   0%|          | 0/320 [00:00<?, ? examples/s]"
            ]
          },
          "metadata": {},
          "output_type": "display_data"
        },
        {
          "data": {
            "application/vnd.jupyter.widget-view+json": {
              "model_id": "19fda1836f2a4d4b85ed167ef62630f0",
              "version_major": 2,
              "version_minor": 0
            },
            "text/plain": [
              "Running Epoch 4 of 10:   0%|          | 0/180 [00:00<?, ?it/s]"
            ]
          },
          "metadata": {},
          "output_type": "display_data"
        },
        {
          "data": {
            "application/vnd.jupyter.widget-view+json": {
              "model_id": "2b848789b0ae48bd85b471ce1d21dcbf",
              "version_major": 2,
              "version_minor": 0
            },
            "text/plain": [
              "Map:   0%|          | 0/320 [00:00<?, ? examples/s]"
            ]
          },
          "metadata": {},
          "output_type": "display_data"
        },
        {
          "data": {
            "application/vnd.jupyter.widget-view+json": {
              "model_id": "f7d2c83c77844347b7cc30095ee1820b",
              "version_major": 2,
              "version_minor": 0
            },
            "text/plain": [
              "Running Epoch 5 of 10:   0%|          | 0/180 [00:00<?, ?it/s]"
            ]
          },
          "metadata": {},
          "output_type": "display_data"
        },
        {
          "data": {
            "application/vnd.jupyter.widget-view+json": {
              "model_id": "6812e4785834411397f7cd77c873ea0d",
              "version_major": 2,
              "version_minor": 0
            },
            "text/plain": [
              "Map:   0%|          | 0/320 [00:00<?, ? examples/s]"
            ]
          },
          "metadata": {},
          "output_type": "display_data"
        },
        {
          "data": {
            "application/vnd.jupyter.widget-view+json": {
              "model_id": "eee20d25b98b47cb89240fea45f97220",
              "version_major": 2,
              "version_minor": 0
            },
            "text/plain": [
              "Running Epoch 6 of 10:   0%|          | 0/180 [00:00<?, ?it/s]"
            ]
          },
          "metadata": {},
          "output_type": "display_data"
        },
        {
          "data": {
            "application/vnd.jupyter.widget-view+json": {
              "model_id": "bbe417d692ad4385b22d1a3a95a3acc0",
              "version_major": 2,
              "version_minor": 0
            },
            "text/plain": [
              "Map:   0%|          | 0/320 [00:00<?, ? examples/s]"
            ]
          },
          "metadata": {},
          "output_type": "display_data"
        },
        {
          "data": {
            "application/vnd.jupyter.widget-view+json": {
              "model_id": "c2a52fa646174ba08f0606a323fce992",
              "version_major": 2,
              "version_minor": 0
            },
            "text/plain": [
              "Map:   0%|          | 0/800 [00:00<?, ? examples/s]"
            ]
          },
          "metadata": {},
          "output_type": "display_data"
        },
        {
          "data": {
            "application/vnd.jupyter.widget-view+json": {
              "model_id": "9fe54c3321bf46d4886b23e232ce45a6",
              "version_major": 2,
              "version_minor": 0
            },
            "text/plain": [
              "Predicting:   0%|          | 0/25 [00:00<?, ?it/s]"
            ]
          },
          "metadata": {},
          "output_type": "display_data"
        },
        {
          "data": {
            "application/vnd.jupyter.widget-view+json": {
              "model_id": "f6a59de27565482886a74f5971a6bc43",
              "version_major": 2,
              "version_minor": 0
            },
            "text/plain": [
              "Map:   0%|          | 0/2880 [00:00<?, ? examples/s]"
            ]
          },
          "metadata": {},
          "output_type": "display_data"
        },
        {
          "data": {
            "application/vnd.jupyter.widget-view+json": {
              "model_id": "fedc8a42a826413fb9c1f5c12faf5e51",
              "version_major": 2,
              "version_minor": 0
            },
            "text/plain": [
              "Epoch:   0%|          | 0/10 [00:00<?, ?it/s]"
            ]
          },
          "metadata": {},
          "output_type": "display_data"
        },
        {
          "data": {
            "application/vnd.jupyter.widget-view+json": {
              "model_id": "42abb135492b4961a4e21666bc679f16",
              "version_major": 2,
              "version_minor": 0
            },
            "text/plain": [
              "Running Epoch 1 of 10:   0%|          | 0/180 [00:00<?, ?it/s]"
            ]
          },
          "metadata": {},
          "output_type": "display_data"
        },
        {
          "data": {
            "application/vnd.jupyter.widget-view+json": {
              "model_id": "b0cd6b432bf14abf839358cbf8b4a4e3",
              "version_major": 2,
              "version_minor": 0
            },
            "text/plain": [
              "Map:   0%|          | 0/320 [00:00<?, ? examples/s]"
            ]
          },
          "metadata": {},
          "output_type": "display_data"
        },
        {
          "data": {
            "application/vnd.jupyter.widget-view+json": {
              "model_id": "8d352dfe1d584cccbfd948c146a2c26a",
              "version_major": 2,
              "version_minor": 0
            },
            "text/plain": [
              "Running Epoch 2 of 10:   0%|          | 0/180 [00:00<?, ?it/s]"
            ]
          },
          "metadata": {},
          "output_type": "display_data"
        },
        {
          "data": {
            "application/vnd.jupyter.widget-view+json": {
              "model_id": "ca1dcb9ac66845e1bbff08489197a6bd",
              "version_major": 2,
              "version_minor": 0
            },
            "text/plain": [
              "Map:   0%|          | 0/320 [00:00<?, ? examples/s]"
            ]
          },
          "metadata": {},
          "output_type": "display_data"
        },
        {
          "data": {
            "application/vnd.jupyter.widget-view+json": {
              "model_id": "574aad1736a847b29790d7abc0c7a7f0",
              "version_major": 2,
              "version_minor": 0
            },
            "text/plain": [
              "Running Epoch 3 of 10:   0%|          | 0/180 [00:00<?, ?it/s]"
            ]
          },
          "metadata": {},
          "output_type": "display_data"
        },
        {
          "data": {
            "application/vnd.jupyter.widget-view+json": {
              "model_id": "f59390323ba14b74a0a3a4c30f7e6919",
              "version_major": 2,
              "version_minor": 0
            },
            "text/plain": [
              "Map:   0%|          | 0/320 [00:00<?, ? examples/s]"
            ]
          },
          "metadata": {},
          "output_type": "display_data"
        },
        {
          "data": {
            "application/vnd.jupyter.widget-view+json": {
              "model_id": "deafb629e3bd4e158030d174b80ec8de",
              "version_major": 2,
              "version_minor": 0
            },
            "text/plain": [
              "Running Epoch 4 of 10:   0%|          | 0/180 [00:00<?, ?it/s]"
            ]
          },
          "metadata": {},
          "output_type": "display_data"
        },
        {
          "data": {
            "application/vnd.jupyter.widget-view+json": {
              "model_id": "0b5dda9ba61443d694f71c7a259cdb60",
              "version_major": 2,
              "version_minor": 0
            },
            "text/plain": [
              "Map:   0%|          | 0/320 [00:00<?, ? examples/s]"
            ]
          },
          "metadata": {},
          "output_type": "display_data"
        },
        {
          "data": {
            "application/vnd.jupyter.widget-view+json": {
              "model_id": "5cf89112a3ea4594937a33619b1565a6",
              "version_major": 2,
              "version_minor": 0
            },
            "text/plain": [
              "Map:   0%|          | 0/800 [00:00<?, ? examples/s]"
            ]
          },
          "metadata": {},
          "output_type": "display_data"
        },
        {
          "data": {
            "application/vnd.jupyter.widget-view+json": {
              "model_id": "2f7d35f934444154b4ef59294d087fea",
              "version_major": 2,
              "version_minor": 0
            },
            "text/plain": [
              "Predicting:   0%|          | 0/25 [00:00<?, ?it/s]"
            ]
          },
          "metadata": {},
          "output_type": "display_data"
        }
      ]
    },
    {
      "cell_type": "markdown",
      "metadata": {
        "id": "bNWg3xTC9NrY"
      },
      "source": [
        "# D.4. Output Classification Results #\n",
        "----\n"
      ]
    },
    {
      "cell_type": "code",
      "metadata": {
        "id": "vhHnHovK-vuJ",
        "outputId": "5887f5bd-6a1b-49c2-e3df-591301f99e87",
        "colab": {
          "base_uri": "https://localhost:8080/",
          "height": 394
        }
      },
      "source": [
        "# Convert List to Dataframe #\n",
        "RESULTS_TABLE = pd.DataFrame(RESULTS, columns = [\"Name\", \"Share\", \"True-Positives\",\n",
        "                                                 \"False-Negatives\", \"False-Positives\",\n",
        "                                                 \"True-Negatives\",\"Accuracy\", \"AUC\",\n",
        "                                                 \"Precision\", \"Recall\", \"F1\"] )\n",
        "\n",
        "RESULTS_TABLE[\"Type\"] = \"Transformer\"\n",
        "RESULTS_TABLE = RESULTS_TABLE[[\"Name\", \"Type\", \"Share\", \"True-Positives\",\n",
        "                               \"False-Negatives\", \"False-Positives\",\n",
        "                               \"True-Negatives\",\"Accuracy\", \"AUC\",\n",
        "                               \"Precision\", \"Recall\", \"F1\"]]\n",
        "\n",
        "\n",
        "\n",
        "# Output Results #\n",
        "RESULTS_TABLE.sort_values(\"Accuracy\", ascending = False ).to_csv(\"./Output/Model Performance/Transformer Classification Model Performance.csv\")\n",
        "\n",
        "# Display Results -- Out of Sample (Holdout) prediction -- Sorted by Accuracy #\n",
        "RESULTS_TABLE.sort_values(\"Accuracy\", ascending = False )\n"
      ],
      "execution_count": 29,
      "outputs": [
        {
          "data": {
            "application/vnd.google.colaboratory.intrinsic+json": {
              "summary": "{\n  \"name\": \"RESULTS_TABLE\",\n  \"rows\": 11,\n  \"fields\": [\n    {\n      \"column\": \"Name\",\n      \"properties\": {\n        \"dtype\": \"string\",\n        \"num_unique_values\": 11,\n        \"samples\": [\n          \"RoBERTa\",\n          \"BERT\",\n          \"DistilBERT\"\n        ],\n        \"semantic_type\": \"\",\n        \"description\": \"\"\n      }\n    },\n    {\n      \"column\": \"Type\",\n      \"properties\": {\n        \"dtype\": \"category\",\n        \"num_unique_values\": 1,\n        \"samples\": [\n          \"Transformer\"\n        ],\n        \"semantic_type\": \"\",\n        \"description\": \"\"\n      }\n    },\n    {\n      \"column\": \"Share\",\n      \"properties\": {\n        \"dtype\": \"number\",\n        \"std\": 0.015467855231238278,\n        \"min\": 0.196,\n        \"max\": 0.245,\n        \"num_unique_values\": 11,\n        \"samples\": [\n          0.215\n        ],\n        \"semantic_type\": \"\",\n        \"description\": \"\"\n      }\n    },\n    {\n      \"column\": \"True-Positives\",\n      \"properties\": {\n        \"dtype\": \"number\",\n        \"std\": 0.026774139490458825,\n        \"min\": 0.819,\n        \"max\": 0.929,\n        \"num_unique_values\": 9,\n        \"samples\": [\n          0.901\n        ],\n        \"semantic_type\": \"\",\n        \"description\": \"\"\n      }\n    },\n    {\n      \"column\": \"False-Negatives\",\n      \"properties\": {\n        \"dtype\": \"number\",\n        \"std\": 0.007056911505750946,\n        \"min\": 0.952,\n        \"max\": 0.981,\n        \"num_unique_values\": 9,\n        \"samples\": [\n          0.974\n        ],\n        \"semantic_type\": \"\",\n        \"description\": \"\"\n      }\n    },\n    {\n      \"column\": \"False-Positives\",\n      \"properties\": {\n        \"dtype\": \"number\",\n        \"std\": 0.0604135746335209,\n        \"min\": 0.111,\n        \"max\": 0.33,\n        \"num_unique_values\": 11,\n        \"samples\": [\n          0.184\n        ],\n        \"semantic_type\": \"\",\n        \"description\": \"\"\n      }\n    },\n    {\n      \"column\": \"True-Negatives\",\n      \"properties\": {\n        \"dtype\": \"number\",\n        \"std\": 0.0267741394904588,\n        \"min\": 0.071,\n        \"max\": 0.181,\n        \"num_unique_values\": 9,\n        \"samples\": [\n          0.099\n        ],\n        \"semantic_type\": \"\",\n        \"description\": \"\"\n      }\n    },\n    {\n      \"column\": \"Accuracy\",\n      \"properties\": {\n        \"dtype\": \"number\",\n        \"std\": 0.019075924855453494,\n        \"min\": 0.883,\n        \"max\": 0.952,\n        \"num_unique_values\": 9,\n        \"samples\": [\n          0.932\n        ],\n        \"semantic_type\": \"\",\n        \"description\": \"\"\n      }\n    },\n    {\n      \"column\": \"AUC\",\n      \"properties\": {\n        \"dtype\": \"number\",\n        \"std\": 0.016081610050557166,\n        \"min\": 0.913,\n        \"max\": 0.969,\n        \"num_unique_values\": 9,\n        \"samples\": [\n          0.958\n        ],\n        \"semantic_type\": \"\",\n        \"description\": \"\"\n      }\n    },\n    {\n      \"column\": \"Precision\",\n      \"properties\": {\n        \"dtype\": \"number\",\n        \"std\": 0.060413574633520886,\n        \"min\": 0.67,\n        \"max\": 0.889,\n        \"num_unique_values\": 11,\n        \"samples\": [\n          0.816\n        ],\n        \"semantic_type\": \"\",\n        \"description\": \"\"\n      }\n    },\n    {\n      \"column\": \"Recall\",\n      \"properties\": {\n        \"dtype\": \"number\",\n        \"std\": 0.026774139490458825,\n        \"min\": 0.819,\n        \"max\": 0.929,\n        \"num_unique_values\": 9,\n        \"samples\": [\n          0.901\n        ],\n        \"semantic_type\": \"\",\n        \"description\": \"\"\n      }\n    },\n    {\n      \"column\": \"F1\",\n      \"properties\": {\n        \"dtype\": \"number\",\n        \"std\": 0.03950719152025593,\n        \"min\": 0.737,\n        \"max\": 0.88,\n        \"num_unique_values\": 10,\n        \"samples\": [\n          0.841\n        ],\n        \"semantic_type\": \"\",\n        \"description\": \"\"\n      }\n    }\n  ]\n}",
              "type": "dataframe"
            },
            "text/html": [
              "\n",
              "  <div id=\"df-7006f41b-e93a-4d8d-9fe1-e6979e217682\" class=\"colab-df-container\">\n",
              "    <div>\n",
              "<style scoped>\n",
              "    .dataframe tbody tr th:only-of-type {\n",
              "        vertical-align: middle;\n",
              "    }\n",
              "\n",
              "    .dataframe tbody tr th {\n",
              "        vertical-align: top;\n",
              "    }\n",
              "\n",
              "    .dataframe thead th {\n",
              "        text-align: right;\n",
              "    }\n",
              "</style>\n",
              "<table border=\"1\" class=\"dataframe\">\n",
              "  <thead>\n",
              "    <tr style=\"text-align: right;\">\n",
              "      <th></th>\n",
              "      <th>Name</th>\n",
              "      <th>Type</th>\n",
              "      <th>Share</th>\n",
              "      <th>True-Positives</th>\n",
              "      <th>False-Negatives</th>\n",
              "      <th>False-Positives</th>\n",
              "      <th>True-Negatives</th>\n",
              "      <th>Accuracy</th>\n",
              "      <th>AUC</th>\n",
              "      <th>Precision</th>\n",
              "      <th>Recall</th>\n",
              "      <th>F1</th>\n",
              "    </tr>\n",
              "  </thead>\n",
              "  <tbody>\n",
              "    <tr>\n",
              "      <th>0</th>\n",
              "      <td>BERT</td>\n",
              "      <td>Transformer</td>\n",
              "      <td>0.198</td>\n",
              "      <td>0.875</td>\n",
              "      <td>0.969</td>\n",
              "      <td>0.116</td>\n",
              "      <td>0.125</td>\n",
              "      <td>0.952</td>\n",
              "      <td>0.969</td>\n",
              "      <td>0.884</td>\n",
              "      <td>0.875</td>\n",
              "      <td>0.880</td>\n",
              "    </tr>\n",
              "    <tr>\n",
              "      <th>6</th>\n",
              "      <td>SciBERT</td>\n",
              "      <td>Transformer</td>\n",
              "      <td>0.196</td>\n",
              "      <td>0.869</td>\n",
              "      <td>0.967</td>\n",
              "      <td>0.111</td>\n",
              "      <td>0.131</td>\n",
              "      <td>0.952</td>\n",
              "      <td>0.969</td>\n",
              "      <td>0.889</td>\n",
              "      <td>0.869</td>\n",
              "      <td>0.879</td>\n",
              "    </tr>\n",
              "    <tr>\n",
              "      <th>3</th>\n",
              "      <td>BigBird</td>\n",
              "      <td>Transformer</td>\n",
              "      <td>0.209</td>\n",
              "      <td>0.890</td>\n",
              "      <td>0.972</td>\n",
              "      <td>0.145</td>\n",
              "      <td>0.110</td>\n",
              "      <td>0.948</td>\n",
              "      <td>0.950</td>\n",
              "      <td>0.855</td>\n",
              "      <td>0.890</td>\n",
              "      <td>0.872</td>\n",
              "    </tr>\n",
              "    <tr>\n",
              "      <th>10</th>\n",
              "      <td>ELECTRA</td>\n",
              "      <td>Transformer</td>\n",
              "      <td>0.211</td>\n",
              "      <td>0.893</td>\n",
              "      <td>0.973</td>\n",
              "      <td>0.152</td>\n",
              "      <td>0.107</td>\n",
              "      <td>0.946</td>\n",
              "      <td>0.963</td>\n",
              "      <td>0.848</td>\n",
              "      <td>0.893</td>\n",
              "      <td>0.870</td>\n",
              "    </tr>\n",
              "    <tr>\n",
              "      <th>2</th>\n",
              "      <td>DeBERTa</td>\n",
              "      <td>Transformer</td>\n",
              "      <td>0.208</td>\n",
              "      <td>0.875</td>\n",
              "      <td>0.968</td>\n",
              "      <td>0.154</td>\n",
              "      <td>0.125</td>\n",
              "      <td>0.943</td>\n",
              "      <td>0.960</td>\n",
              "      <td>0.846</td>\n",
              "      <td>0.875</td>\n",
              "      <td>0.860</td>\n",
              "    </tr>\n",
              "    <tr>\n",
              "      <th>1</th>\n",
              "      <td>RoBERTa</td>\n",
              "      <td>Transformer</td>\n",
              "      <td>0.215</td>\n",
              "      <td>0.875</td>\n",
              "      <td>0.968</td>\n",
              "      <td>0.184</td>\n",
              "      <td>0.125</td>\n",
              "      <td>0.936</td>\n",
              "      <td>0.962</td>\n",
              "      <td>0.816</td>\n",
              "      <td>0.875</td>\n",
              "      <td>0.845</td>\n",
              "    </tr>\n",
              "    <tr>\n",
              "      <th>8</th>\n",
              "      <td>BioBERT</td>\n",
              "      <td>Transformer</td>\n",
              "      <td>0.217</td>\n",
              "      <td>0.879</td>\n",
              "      <td>0.969</td>\n",
              "      <td>0.187</td>\n",
              "      <td>0.121</td>\n",
              "      <td>0.935</td>\n",
              "      <td>0.947</td>\n",
              "      <td>0.813</td>\n",
              "      <td>0.879</td>\n",
              "      <td>0.845</td>\n",
              "    </tr>\n",
              "    <tr>\n",
              "      <th>7</th>\n",
              "      <td>PatentBERT</td>\n",
              "      <td>Transformer</td>\n",
              "      <td>0.213</td>\n",
              "      <td>0.868</td>\n",
              "      <td>0.966</td>\n",
              "      <td>0.183</td>\n",
              "      <td>0.132</td>\n",
              "      <td>0.934</td>\n",
              "      <td>0.959</td>\n",
              "      <td>0.817</td>\n",
              "      <td>0.868</td>\n",
              "      <td>0.842</td>\n",
              "    </tr>\n",
              "    <tr>\n",
              "      <th>9</th>\n",
              "      <td>XLNet</td>\n",
              "      <td>Transformer</td>\n",
              "      <td>0.238</td>\n",
              "      <td>0.929</td>\n",
              "      <td>0.981</td>\n",
              "      <td>0.217</td>\n",
              "      <td>0.071</td>\n",
              "      <td>0.934</td>\n",
              "      <td>0.969</td>\n",
              "      <td>0.783</td>\n",
              "      <td>0.929</td>\n",
              "      <td>0.849</td>\n",
              "    </tr>\n",
              "    <tr>\n",
              "      <th>4</th>\n",
              "      <td>DistilBERT</td>\n",
              "      <td>Transformer</td>\n",
              "      <td>0.230</td>\n",
              "      <td>0.901</td>\n",
              "      <td>0.974</td>\n",
              "      <td>0.212</td>\n",
              "      <td>0.099</td>\n",
              "      <td>0.932</td>\n",
              "      <td>0.958</td>\n",
              "      <td>0.788</td>\n",
              "      <td>0.901</td>\n",
              "      <td>0.841</td>\n",
              "    </tr>\n",
              "    <tr>\n",
              "      <th>5</th>\n",
              "      <td>ALBERT</td>\n",
              "      <td>Transformer</td>\n",
              "      <td>0.245</td>\n",
              "      <td>0.819</td>\n",
              "      <td>0.952</td>\n",
              "      <td>0.330</td>\n",
              "      <td>0.181</td>\n",
              "      <td>0.883</td>\n",
              "      <td>0.913</td>\n",
              "      <td>0.670</td>\n",
              "      <td>0.819</td>\n",
              "      <td>0.737</td>\n",
              "    </tr>\n",
              "  </tbody>\n",
              "</table>\n",
              "</div>\n",
              "    <div class=\"colab-df-buttons\">\n",
              "\n",
              "  <div class=\"colab-df-container\">\n",
              "    <button class=\"colab-df-convert\" onclick=\"convertToInteractive('df-7006f41b-e93a-4d8d-9fe1-e6979e217682')\"\n",
              "            title=\"Convert this dataframe to an interactive table.\"\n",
              "            style=\"display:none;\">\n",
              "\n",
              "  <svg xmlns=\"http://www.w3.org/2000/svg\" height=\"24px\" viewBox=\"0 -960 960 960\">\n",
              "    <path d=\"M120-120v-720h720v720H120Zm60-500h600v-160H180v160Zm220 220h160v-160H400v160Zm0 220h160v-160H400v160ZM180-400h160v-160H180v160Zm440 0h160v-160H620v160ZM180-180h160v-160H180v160Zm440 0h160v-160H620v160Z\"/>\n",
              "  </svg>\n",
              "    </button>\n",
              "\n",
              "  <style>\n",
              "    .colab-df-container {\n",
              "      display:flex;\n",
              "      gap: 12px;\n",
              "    }\n",
              "\n",
              "    .colab-df-convert {\n",
              "      background-color: #E8F0FE;\n",
              "      border: none;\n",
              "      border-radius: 50%;\n",
              "      cursor: pointer;\n",
              "      display: none;\n",
              "      fill: #1967D2;\n",
              "      height: 32px;\n",
              "      padding: 0 0 0 0;\n",
              "      width: 32px;\n",
              "    }\n",
              "\n",
              "    .colab-df-convert:hover {\n",
              "      background-color: #E2EBFA;\n",
              "      box-shadow: 0px 1px 2px rgba(60, 64, 67, 0.3), 0px 1px 3px 1px rgba(60, 64, 67, 0.15);\n",
              "      fill: #174EA6;\n",
              "    }\n",
              "\n",
              "    .colab-df-buttons div {\n",
              "      margin-bottom: 4px;\n",
              "    }\n",
              "\n",
              "    [theme=dark] .colab-df-convert {\n",
              "      background-color: #3B4455;\n",
              "      fill: #D2E3FC;\n",
              "    }\n",
              "\n",
              "    [theme=dark] .colab-df-convert:hover {\n",
              "      background-color: #434B5C;\n",
              "      box-shadow: 0px 1px 3px 1px rgba(0, 0, 0, 0.15);\n",
              "      filter: drop-shadow(0px 1px 2px rgba(0, 0, 0, 0.3));\n",
              "      fill: #FFFFFF;\n",
              "    }\n",
              "  </style>\n",
              "\n",
              "    <script>\n",
              "      const buttonEl =\n",
              "        document.querySelector('#df-7006f41b-e93a-4d8d-9fe1-e6979e217682 button.colab-df-convert');\n",
              "      buttonEl.style.display =\n",
              "        google.colab.kernel.accessAllowed ? 'block' : 'none';\n",
              "\n",
              "      async function convertToInteractive(key) {\n",
              "        const element = document.querySelector('#df-7006f41b-e93a-4d8d-9fe1-e6979e217682');\n",
              "        const dataTable =\n",
              "          await google.colab.kernel.invokeFunction('convertToInteractive',\n",
              "                                                    [key], {});\n",
              "        if (!dataTable) return;\n",
              "\n",
              "        const docLinkHtml = 'Like what you see? Visit the ' +\n",
              "          '<a target=\"_blank\" href=https://colab.research.google.com/notebooks/data_table.ipynb>data table notebook</a>'\n",
              "          + ' to learn more about interactive tables.';\n",
              "        element.innerHTML = '';\n",
              "        dataTable['output_type'] = 'display_data';\n",
              "        await google.colab.output.renderOutput(dataTable, element);\n",
              "        const docLink = document.createElement('div');\n",
              "        docLink.innerHTML = docLinkHtml;\n",
              "        element.appendChild(docLink);\n",
              "      }\n",
              "    </script>\n",
              "  </div>\n",
              "\n",
              "\n",
              "    <div id=\"df-6e752bfc-c799-428a-853d-bbab181f517b\">\n",
              "      <button class=\"colab-df-quickchart\" onclick=\"quickchart('df-6e752bfc-c799-428a-853d-bbab181f517b')\"\n",
              "                title=\"Suggest charts\"\n",
              "                style=\"display:none;\">\n",
              "\n",
              "<svg xmlns=\"http://www.w3.org/2000/svg\" height=\"24px\"viewBox=\"0 0 24 24\"\n",
              "     width=\"24px\">\n",
              "    <g>\n",
              "        <path d=\"M19 3H5c-1.1 0-2 .9-2 2v14c0 1.1.9 2 2 2h14c1.1 0 2-.9 2-2V5c0-1.1-.9-2-2-2zM9 17H7v-7h2v7zm4 0h-2V7h2v10zm4 0h-2v-4h2v4z\"/>\n",
              "    </g>\n",
              "</svg>\n",
              "      </button>\n",
              "\n",
              "<style>\n",
              "  .colab-df-quickchart {\n",
              "      --bg-color: #E8F0FE;\n",
              "      --fill-color: #1967D2;\n",
              "      --hover-bg-color: #E2EBFA;\n",
              "      --hover-fill-color: #174EA6;\n",
              "      --disabled-fill-color: #AAA;\n",
              "      --disabled-bg-color: #DDD;\n",
              "  }\n",
              "\n",
              "  [theme=dark] .colab-df-quickchart {\n",
              "      --bg-color: #3B4455;\n",
              "      --fill-color: #D2E3FC;\n",
              "      --hover-bg-color: #434B5C;\n",
              "      --hover-fill-color: #FFFFFF;\n",
              "      --disabled-bg-color: #3B4455;\n",
              "      --disabled-fill-color: #666;\n",
              "  }\n",
              "\n",
              "  .colab-df-quickchart {\n",
              "    background-color: var(--bg-color);\n",
              "    border: none;\n",
              "    border-radius: 50%;\n",
              "    cursor: pointer;\n",
              "    display: none;\n",
              "    fill: var(--fill-color);\n",
              "    height: 32px;\n",
              "    padding: 0;\n",
              "    width: 32px;\n",
              "  }\n",
              "\n",
              "  .colab-df-quickchart:hover {\n",
              "    background-color: var(--hover-bg-color);\n",
              "    box-shadow: 0 1px 2px rgba(60, 64, 67, 0.3), 0 1px 3px 1px rgba(60, 64, 67, 0.15);\n",
              "    fill: var(--button-hover-fill-color);\n",
              "  }\n",
              "\n",
              "  .colab-df-quickchart-complete:disabled,\n",
              "  .colab-df-quickchart-complete:disabled:hover {\n",
              "    background-color: var(--disabled-bg-color);\n",
              "    fill: var(--disabled-fill-color);\n",
              "    box-shadow: none;\n",
              "  }\n",
              "\n",
              "  .colab-df-spinner {\n",
              "    border: 2px solid var(--fill-color);\n",
              "    border-color: transparent;\n",
              "    border-bottom-color: var(--fill-color);\n",
              "    animation:\n",
              "      spin 1s steps(1) infinite;\n",
              "  }\n",
              "\n",
              "  @keyframes spin {\n",
              "    0% {\n",
              "      border-color: transparent;\n",
              "      border-bottom-color: var(--fill-color);\n",
              "      border-left-color: var(--fill-color);\n",
              "    }\n",
              "    20% {\n",
              "      border-color: transparent;\n",
              "      border-left-color: var(--fill-color);\n",
              "      border-top-color: var(--fill-color);\n",
              "    }\n",
              "    30% {\n",
              "      border-color: transparent;\n",
              "      border-left-color: var(--fill-color);\n",
              "      border-top-color: var(--fill-color);\n",
              "      border-right-color: var(--fill-color);\n",
              "    }\n",
              "    40% {\n",
              "      border-color: transparent;\n",
              "      border-right-color: var(--fill-color);\n",
              "      border-top-color: var(--fill-color);\n",
              "    }\n",
              "    60% {\n",
              "      border-color: transparent;\n",
              "      border-right-color: var(--fill-color);\n",
              "    }\n",
              "    80% {\n",
              "      border-color: transparent;\n",
              "      border-right-color: var(--fill-color);\n",
              "      border-bottom-color: var(--fill-color);\n",
              "    }\n",
              "    90% {\n",
              "      border-color: transparent;\n",
              "      border-bottom-color: var(--fill-color);\n",
              "    }\n",
              "  }\n",
              "</style>\n",
              "\n",
              "      <script>\n",
              "        async function quickchart(key) {\n",
              "          const quickchartButtonEl =\n",
              "            document.querySelector('#' + key + ' button');\n",
              "          quickchartButtonEl.disabled = true;  // To prevent multiple clicks.\n",
              "          quickchartButtonEl.classList.add('colab-df-spinner');\n",
              "          try {\n",
              "            const charts = await google.colab.kernel.invokeFunction(\n",
              "                'suggestCharts', [key], {});\n",
              "          } catch (error) {\n",
              "            console.error('Error during call to suggestCharts:', error);\n",
              "          }\n",
              "          quickchartButtonEl.classList.remove('colab-df-spinner');\n",
              "          quickchartButtonEl.classList.add('colab-df-quickchart-complete');\n",
              "        }\n",
              "        (() => {\n",
              "          let quickchartButtonEl =\n",
              "            document.querySelector('#df-6e752bfc-c799-428a-853d-bbab181f517b button');\n",
              "          quickchartButtonEl.style.display =\n",
              "            google.colab.kernel.accessAllowed ? 'block' : 'none';\n",
              "        })();\n",
              "      </script>\n",
              "    </div>\n",
              "\n",
              "    </div>\n",
              "  </div>\n"
            ],
            "text/plain": [
              "          Name         Type  Share  True-Positives  False-Negatives  \\\n",
              "0         BERT  Transformer  0.198           0.875            0.969   \n",
              "6      SciBERT  Transformer  0.196           0.869            0.967   \n",
              "3      BigBird  Transformer  0.209           0.890            0.972   \n",
              "10     ELECTRA  Transformer  0.211           0.893            0.973   \n",
              "2      DeBERTa  Transformer  0.208           0.875            0.968   \n",
              "1      RoBERTa  Transformer  0.215           0.875            0.968   \n",
              "8      BioBERT  Transformer  0.217           0.879            0.969   \n",
              "7   PatentBERT  Transformer  0.213           0.868            0.966   \n",
              "9        XLNet  Transformer  0.238           0.929            0.981   \n",
              "4   DistilBERT  Transformer  0.230           0.901            0.974   \n",
              "5       ALBERT  Transformer  0.245           0.819            0.952   \n",
              "\n",
              "    False-Positives  True-Negatives  Accuracy    AUC  Precision  Recall     F1  \n",
              "0             0.116           0.125     0.952  0.969      0.884   0.875  0.880  \n",
              "6             0.111           0.131     0.952  0.969      0.889   0.869  0.879  \n",
              "3             0.145           0.110     0.948  0.950      0.855   0.890  0.872  \n",
              "10            0.152           0.107     0.946  0.963      0.848   0.893  0.870  \n",
              "2             0.154           0.125     0.943  0.960      0.846   0.875  0.860  \n",
              "1             0.184           0.125     0.936  0.962      0.816   0.875  0.845  \n",
              "8             0.187           0.121     0.935  0.947      0.813   0.879  0.845  \n",
              "7             0.183           0.132     0.934  0.959      0.817   0.868  0.842  \n",
              "9             0.217           0.071     0.934  0.969      0.783   0.929  0.849  \n",
              "4             0.212           0.099     0.932  0.958      0.788   0.901  0.841  \n",
              "5             0.330           0.181     0.883  0.913      0.670   0.819  0.737  "
            ]
          },
          "execution_count": 29,
          "metadata": {},
          "output_type": "execute_result"
        }
      ]
    },
    {
      "cell_type": "code",
      "metadata": {
        "id": "-z8C-ymoDla2"
      },
      "source": [
        "# Output Classification Results for Training Dataset -- PREDICTED VALUES -- Out Of Sample (Holdout) Prediction #\n",
        "\n",
        "for i in range(0,len(Classified_Values), 1):\n",
        "\n",
        "  Temp = pd.DataFrame(  Classified_Values[i],\n",
        "                        columns = ['Model', 'id', 'Actual', 'Predicted'] )\n",
        "\n",
        "  if i == 0:\n",
        "    name = Temp.head(1)['Model'][0]\n",
        "    Temp = Temp[['id', 'Actual', 'Predicted']]\n",
        "    Temp.columns = ['id', 'Actual', name]\n",
        "    Final = Temp\n",
        "\n",
        "  else:\n",
        "\n",
        "    name = Temp.head(1)['Model'][0]\n",
        "    Temp = Temp[['id', 'Predicted']]\n",
        "    Temp.columns = ['id', name]\n",
        "\n",
        "    Final = Final.merge(Temp, on = ['id'])\n",
        "\n",
        "# Save Data Frame #\n",
        "Final.to_csv(\"./Output/Classification Output/Transformer Classification Results.csv\")"
      ],
      "execution_count": 30,
      "outputs": []
    },
    {
      "cell_type": "markdown",
      "metadata": {
        "id": "JMNUxIjcjLZc"
      },
      "source": [
        "Delete files that were created behind the scenes by the transformer model."
      ]
    },
    {
      "cell_type": "code",
      "metadata": {
        "id": "OPOukIpviysp"
      },
      "source": [
        "rm -rf \"./outputs\""
      ],
      "execution_count": 31,
      "outputs": []
    },
    {
      "cell_type": "code",
      "metadata": {
        "id": "_u0u_fRVjEG1"
      },
      "source": [
        "rm -rf \"./runs\""
      ],
      "execution_count": 32,
      "outputs": []
    }
  ]
}