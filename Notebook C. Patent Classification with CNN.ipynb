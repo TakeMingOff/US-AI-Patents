{
  "nbformat": 4,
  "nbformat_minor": 0,
  "metadata": {
    "colab": {
      "name": "Notebook C: Patent Classification with CNN.ipynb",
      "provenance": [],
      "machine_shape": "hm",
      "gpuType": "L4"
    },
    "kernelspec": {
      "display_name": "Python 3",
      "name": "python3"
    },
    "language_info": {
      "name": "python"
    },
    "widgets": {
      "application/vnd.jupyter.widget-state+json": {
        "5b2f8646c4b24a3d8ed3ece2e211b91f": {
          "model_module": "@jupyter-widgets/controls",
          "model_name": "HBoxModel",
          "model_module_version": "1.5.0",
          "state": {
            "_dom_classes": [],
            "_model_module": "@jupyter-widgets/controls",
            "_model_module_version": "1.5.0",
            "_model_name": "HBoxModel",
            "_view_count": null,
            "_view_module": "@jupyter-widgets/controls",
            "_view_module_version": "1.5.0",
            "_view_name": "HBoxView",
            "box_style": "",
            "children": [
              "IPY_MODEL_ec23685a6aef4a0a9c4b7323fa63e9d5",
              "IPY_MODEL_271602a2123e4a6c85a2d80a47c8a173",
              "IPY_MODEL_5a957da3fd804d748d34cdae17acac2b"
            ],
            "layout": "IPY_MODEL_d50d6ec7907e4242b2b5be68be381528"
          }
        },
        "ec23685a6aef4a0a9c4b7323fa63e9d5": {
          "model_module": "@jupyter-widgets/controls",
          "model_name": "HTMLModel",
          "model_module_version": "1.5.0",
          "state": {
            "_dom_classes": [],
            "_model_module": "@jupyter-widgets/controls",
            "_model_module_version": "1.5.0",
            "_model_name": "HTMLModel",
            "_view_count": null,
            "_view_module": "@jupyter-widgets/controls",
            "_view_module_version": "1.5.0",
            "_view_name": "HTMLView",
            "description": "",
            "description_tooltip": null,
            "layout": "IPY_MODEL_9e0be4789cb44835a08c853bcad02824",
            "placeholder": "​",
            "style": "IPY_MODEL_bb9042510adc4dd6a3bdc8f987c0fca1",
            "value": "Loop Through Embeddings: 100%"
          }
        },
        "271602a2123e4a6c85a2d80a47c8a173": {
          "model_module": "@jupyter-widgets/controls",
          "model_name": "FloatProgressModel",
          "model_module_version": "1.5.0",
          "state": {
            "_dom_classes": [],
            "_model_module": "@jupyter-widgets/controls",
            "_model_module_version": "1.5.0",
            "_model_name": "FloatProgressModel",
            "_view_count": null,
            "_view_module": "@jupyter-widgets/controls",
            "_view_module_version": "1.5.0",
            "_view_name": "ProgressView",
            "bar_style": "success",
            "description": "",
            "description_tooltip": null,
            "layout": "IPY_MODEL_6257857e1085414fa17a7b01e405f62e",
            "max": 5,
            "min": 0,
            "orientation": "horizontal",
            "style": "IPY_MODEL_adc6f382a8364d4b8134a04cc7dd30a6",
            "value": 5
          }
        },
        "5a957da3fd804d748d34cdae17acac2b": {
          "model_module": "@jupyter-widgets/controls",
          "model_name": "HTMLModel",
          "model_module_version": "1.5.0",
          "state": {
            "_dom_classes": [],
            "_model_module": "@jupyter-widgets/controls",
            "_model_module_version": "1.5.0",
            "_model_name": "HTMLModel",
            "_view_count": null,
            "_view_module": "@jupyter-widgets/controls",
            "_view_module_version": "1.5.0",
            "_view_name": "HTMLView",
            "description": "",
            "description_tooltip": null,
            "layout": "IPY_MODEL_90909f28d9ce45c6b22ac5a36c228d1c",
            "placeholder": "​",
            "style": "IPY_MODEL_799ab32d58534a11a006711455f12670",
            "value": " 5/5 [02:57&lt;00:00, 18.77s/it]"
          }
        },
        "d50d6ec7907e4242b2b5be68be381528": {
          "model_module": "@jupyter-widgets/base",
          "model_name": "LayoutModel",
          "model_module_version": "1.2.0",
          "state": {
            "_model_module": "@jupyter-widgets/base",
            "_model_module_version": "1.2.0",
            "_model_name": "LayoutModel",
            "_view_count": null,
            "_view_module": "@jupyter-widgets/base",
            "_view_module_version": "1.2.0",
            "_view_name": "LayoutView",
            "align_content": null,
            "align_items": null,
            "align_self": null,
            "border": null,
            "bottom": null,
            "display": null,
            "flex": null,
            "flex_flow": null,
            "grid_area": null,
            "grid_auto_columns": null,
            "grid_auto_flow": null,
            "grid_auto_rows": null,
            "grid_column": null,
            "grid_gap": null,
            "grid_row": null,
            "grid_template_areas": null,
            "grid_template_columns": null,
            "grid_template_rows": null,
            "height": null,
            "justify_content": null,
            "justify_items": null,
            "left": null,
            "margin": null,
            "max_height": null,
            "max_width": null,
            "min_height": null,
            "min_width": null,
            "object_fit": null,
            "object_position": null,
            "order": null,
            "overflow": null,
            "overflow_x": null,
            "overflow_y": null,
            "padding": null,
            "right": null,
            "top": null,
            "visibility": null,
            "width": null
          }
        },
        "9e0be4789cb44835a08c853bcad02824": {
          "model_module": "@jupyter-widgets/base",
          "model_name": "LayoutModel",
          "model_module_version": "1.2.0",
          "state": {
            "_model_module": "@jupyter-widgets/base",
            "_model_module_version": "1.2.0",
            "_model_name": "LayoutModel",
            "_view_count": null,
            "_view_module": "@jupyter-widgets/base",
            "_view_module_version": "1.2.0",
            "_view_name": "LayoutView",
            "align_content": null,
            "align_items": null,
            "align_self": null,
            "border": null,
            "bottom": null,
            "display": null,
            "flex": null,
            "flex_flow": null,
            "grid_area": null,
            "grid_auto_columns": null,
            "grid_auto_flow": null,
            "grid_auto_rows": null,
            "grid_column": null,
            "grid_gap": null,
            "grid_row": null,
            "grid_template_areas": null,
            "grid_template_columns": null,
            "grid_template_rows": null,
            "height": null,
            "justify_content": null,
            "justify_items": null,
            "left": null,
            "margin": null,
            "max_height": null,
            "max_width": null,
            "min_height": null,
            "min_width": null,
            "object_fit": null,
            "object_position": null,
            "order": null,
            "overflow": null,
            "overflow_x": null,
            "overflow_y": null,
            "padding": null,
            "right": null,
            "top": null,
            "visibility": null,
            "width": null
          }
        },
        "bb9042510adc4dd6a3bdc8f987c0fca1": {
          "model_module": "@jupyter-widgets/controls",
          "model_name": "DescriptionStyleModel",
          "model_module_version": "1.5.0",
          "state": {
            "_model_module": "@jupyter-widgets/controls",
            "_model_module_version": "1.5.0",
            "_model_name": "DescriptionStyleModel",
            "_view_count": null,
            "_view_module": "@jupyter-widgets/base",
            "_view_module_version": "1.2.0",
            "_view_name": "StyleView",
            "description_width": ""
          }
        },
        "6257857e1085414fa17a7b01e405f62e": {
          "model_module": "@jupyter-widgets/base",
          "model_name": "LayoutModel",
          "model_module_version": "1.2.0",
          "state": {
            "_model_module": "@jupyter-widgets/base",
            "_model_module_version": "1.2.0",
            "_model_name": "LayoutModel",
            "_view_count": null,
            "_view_module": "@jupyter-widgets/base",
            "_view_module_version": "1.2.0",
            "_view_name": "LayoutView",
            "align_content": null,
            "align_items": null,
            "align_self": null,
            "border": null,
            "bottom": null,
            "display": null,
            "flex": null,
            "flex_flow": null,
            "grid_area": null,
            "grid_auto_columns": null,
            "grid_auto_flow": null,
            "grid_auto_rows": null,
            "grid_column": null,
            "grid_gap": null,
            "grid_row": null,
            "grid_template_areas": null,
            "grid_template_columns": null,
            "grid_template_rows": null,
            "height": null,
            "justify_content": null,
            "justify_items": null,
            "left": null,
            "margin": null,
            "max_height": null,
            "max_width": null,
            "min_height": null,
            "min_width": null,
            "object_fit": null,
            "object_position": null,
            "order": null,
            "overflow": null,
            "overflow_x": null,
            "overflow_y": null,
            "padding": null,
            "right": null,
            "top": null,
            "visibility": null,
            "width": null
          }
        },
        "adc6f382a8364d4b8134a04cc7dd30a6": {
          "model_module": "@jupyter-widgets/controls",
          "model_name": "ProgressStyleModel",
          "model_module_version": "1.5.0",
          "state": {
            "_model_module": "@jupyter-widgets/controls",
            "_model_module_version": "1.5.0",
            "_model_name": "ProgressStyleModel",
            "_view_count": null,
            "_view_module": "@jupyter-widgets/base",
            "_view_module_version": "1.2.0",
            "_view_name": "StyleView",
            "bar_color": null,
            "description_width": ""
          }
        },
        "90909f28d9ce45c6b22ac5a36c228d1c": {
          "model_module": "@jupyter-widgets/base",
          "model_name": "LayoutModel",
          "model_module_version": "1.2.0",
          "state": {
            "_model_module": "@jupyter-widgets/base",
            "_model_module_version": "1.2.0",
            "_model_name": "LayoutModel",
            "_view_count": null,
            "_view_module": "@jupyter-widgets/base",
            "_view_module_version": "1.2.0",
            "_view_name": "LayoutView",
            "align_content": null,
            "align_items": null,
            "align_self": null,
            "border": null,
            "bottom": null,
            "display": null,
            "flex": null,
            "flex_flow": null,
            "grid_area": null,
            "grid_auto_columns": null,
            "grid_auto_flow": null,
            "grid_auto_rows": null,
            "grid_column": null,
            "grid_gap": null,
            "grid_row": null,
            "grid_template_areas": null,
            "grid_template_columns": null,
            "grid_template_rows": null,
            "height": null,
            "justify_content": null,
            "justify_items": null,
            "left": null,
            "margin": null,
            "max_height": null,
            "max_width": null,
            "min_height": null,
            "min_width": null,
            "object_fit": null,
            "object_position": null,
            "order": null,
            "overflow": null,
            "overflow_x": null,
            "overflow_y": null,
            "padding": null,
            "right": null,
            "top": null,
            "visibility": null,
            "width": null
          }
        },
        "799ab32d58534a11a006711455f12670": {
          "model_module": "@jupyter-widgets/controls",
          "model_name": "DescriptionStyleModel",
          "model_module_version": "1.5.0",
          "state": {
            "_model_module": "@jupyter-widgets/controls",
            "_model_module_version": "1.5.0",
            "_model_name": "DescriptionStyleModel",
            "_view_count": null,
            "_view_module": "@jupyter-widgets/base",
            "_view_module_version": "1.2.0",
            "_view_name": "StyleView",
            "description_width": ""
          }
        },
        "03ba1f19ab67454fbfc818ba9bc7bad3": {
          "model_module": "@jupyter-widgets/controls",
          "model_name": "HBoxModel",
          "model_module_version": "1.5.0",
          "state": {
            "_dom_classes": [],
            "_model_module": "@jupyter-widgets/controls",
            "_model_module_version": "1.5.0",
            "_model_name": "HBoxModel",
            "_view_count": null,
            "_view_module": "@jupyter-widgets/controls",
            "_view_module_version": "1.5.0",
            "_view_name": "HBoxView",
            "box_style": "",
            "children": [
              "IPY_MODEL_5da34c977ba04b66bbd50d1ce84f0b2e",
              "IPY_MODEL_63b16899d1a64cb0beb0b0fa68d28d87",
              "IPY_MODEL_f81339a089924b53951343d151e09213"
            ],
            "layout": "IPY_MODEL_aef1151bc2d84546bcf845eb316f90c4"
          }
        },
        "5da34c977ba04b66bbd50d1ce84f0b2e": {
          "model_module": "@jupyter-widgets/controls",
          "model_name": "HTMLModel",
          "model_module_version": "1.5.0",
          "state": {
            "_dom_classes": [],
            "_model_module": "@jupyter-widgets/controls",
            "_model_module_version": "1.5.0",
            "_model_name": "HTMLModel",
            "_view_count": null,
            "_view_module": "@jupyter-widgets/controls",
            "_view_module_version": "1.5.0",
            "_view_name": "HTMLView",
            "description": "",
            "description_tooltip": null,
            "layout": "IPY_MODEL_64f46a4bcc1749308e07d6af06d378c8",
            "placeholder": "​",
            "style": "IPY_MODEL_dd465a52fdce48d3a3c941e2db9b389c",
            "value": "Cross-Validating: 100%"
          }
        },
        "63b16899d1a64cb0beb0b0fa68d28d87": {
          "model_module": "@jupyter-widgets/controls",
          "model_name": "FloatProgressModel",
          "model_module_version": "1.5.0",
          "state": {
            "_dom_classes": [],
            "_model_module": "@jupyter-widgets/controls",
            "_model_module_version": "1.5.0",
            "_model_name": "FloatProgressModel",
            "_view_count": null,
            "_view_module": "@jupyter-widgets/controls",
            "_view_module_version": "1.5.0",
            "_view_name": "ProgressView",
            "bar_style": "",
            "description": "",
            "description_tooltip": null,
            "layout": "IPY_MODEL_3682a6c981334a358faa096f7a774612",
            "max": 5,
            "min": 0,
            "orientation": "horizontal",
            "style": "IPY_MODEL_9ccb6c22748c45578b1137da50dee0eb",
            "value": 5
          }
        },
        "f81339a089924b53951343d151e09213": {
          "model_module": "@jupyter-widgets/controls",
          "model_name": "HTMLModel",
          "model_module_version": "1.5.0",
          "state": {
            "_dom_classes": [],
            "_model_module": "@jupyter-widgets/controls",
            "_model_module_version": "1.5.0",
            "_model_name": "HTMLModel",
            "_view_count": null,
            "_view_module": "@jupyter-widgets/controls",
            "_view_module_version": "1.5.0",
            "_view_name": "HTMLView",
            "description": "",
            "description_tooltip": null,
            "layout": "IPY_MODEL_e59177f42d8c414c845c95b6b0af6fde",
            "placeholder": "​",
            "style": "IPY_MODEL_da138b805f654584ace5050ca17236eb",
            "value": " 5/5 [01:27&lt;00:00, 16.61s/it]"
          }
        },
        "aef1151bc2d84546bcf845eb316f90c4": {
          "model_module": "@jupyter-widgets/base",
          "model_name": "LayoutModel",
          "model_module_version": "1.2.0",
          "state": {
            "_model_module": "@jupyter-widgets/base",
            "_model_module_version": "1.2.0",
            "_model_name": "LayoutModel",
            "_view_count": null,
            "_view_module": "@jupyter-widgets/base",
            "_view_module_version": "1.2.0",
            "_view_name": "LayoutView",
            "align_content": null,
            "align_items": null,
            "align_self": null,
            "border": null,
            "bottom": null,
            "display": null,
            "flex": null,
            "flex_flow": null,
            "grid_area": null,
            "grid_auto_columns": null,
            "grid_auto_flow": null,
            "grid_auto_rows": null,
            "grid_column": null,
            "grid_gap": null,
            "grid_row": null,
            "grid_template_areas": null,
            "grid_template_columns": null,
            "grid_template_rows": null,
            "height": null,
            "justify_content": null,
            "justify_items": null,
            "left": null,
            "margin": null,
            "max_height": null,
            "max_width": null,
            "min_height": null,
            "min_width": null,
            "object_fit": null,
            "object_position": null,
            "order": null,
            "overflow": null,
            "overflow_x": null,
            "overflow_y": null,
            "padding": null,
            "right": null,
            "top": null,
            "visibility": "hidden",
            "width": null
          }
        },
        "64f46a4bcc1749308e07d6af06d378c8": {
          "model_module": "@jupyter-widgets/base",
          "model_name": "LayoutModel",
          "model_module_version": "1.2.0",
          "state": {
            "_model_module": "@jupyter-widgets/base",
            "_model_module_version": "1.2.0",
            "_model_name": "LayoutModel",
            "_view_count": null,
            "_view_module": "@jupyter-widgets/base",
            "_view_module_version": "1.2.0",
            "_view_name": "LayoutView",
            "align_content": null,
            "align_items": null,
            "align_self": null,
            "border": null,
            "bottom": null,
            "display": null,
            "flex": null,
            "flex_flow": null,
            "grid_area": null,
            "grid_auto_columns": null,
            "grid_auto_flow": null,
            "grid_auto_rows": null,
            "grid_column": null,
            "grid_gap": null,
            "grid_row": null,
            "grid_template_areas": null,
            "grid_template_columns": null,
            "grid_template_rows": null,
            "height": null,
            "justify_content": null,
            "justify_items": null,
            "left": null,
            "margin": null,
            "max_height": null,
            "max_width": null,
            "min_height": null,
            "min_width": null,
            "object_fit": null,
            "object_position": null,
            "order": null,
            "overflow": null,
            "overflow_x": null,
            "overflow_y": null,
            "padding": null,
            "right": null,
            "top": null,
            "visibility": null,
            "width": null
          }
        },
        "dd465a52fdce48d3a3c941e2db9b389c": {
          "model_module": "@jupyter-widgets/controls",
          "model_name": "DescriptionStyleModel",
          "model_module_version": "1.5.0",
          "state": {
            "_model_module": "@jupyter-widgets/controls",
            "_model_module_version": "1.5.0",
            "_model_name": "DescriptionStyleModel",
            "_view_count": null,
            "_view_module": "@jupyter-widgets/base",
            "_view_module_version": "1.2.0",
            "_view_name": "StyleView",
            "description_width": ""
          }
        },
        "3682a6c981334a358faa096f7a774612": {
          "model_module": "@jupyter-widgets/base",
          "model_name": "LayoutModel",
          "model_module_version": "1.2.0",
          "state": {
            "_model_module": "@jupyter-widgets/base",
            "_model_module_version": "1.2.0",
            "_model_name": "LayoutModel",
            "_view_count": null,
            "_view_module": "@jupyter-widgets/base",
            "_view_module_version": "1.2.0",
            "_view_name": "LayoutView",
            "align_content": null,
            "align_items": null,
            "align_self": null,
            "border": null,
            "bottom": null,
            "display": null,
            "flex": null,
            "flex_flow": null,
            "grid_area": null,
            "grid_auto_columns": null,
            "grid_auto_flow": null,
            "grid_auto_rows": null,
            "grid_column": null,
            "grid_gap": null,
            "grid_row": null,
            "grid_template_areas": null,
            "grid_template_columns": null,
            "grid_template_rows": null,
            "height": null,
            "justify_content": null,
            "justify_items": null,
            "left": null,
            "margin": null,
            "max_height": null,
            "max_width": null,
            "min_height": null,
            "min_width": null,
            "object_fit": null,
            "object_position": null,
            "order": null,
            "overflow": null,
            "overflow_x": null,
            "overflow_y": null,
            "padding": null,
            "right": null,
            "top": null,
            "visibility": null,
            "width": null
          }
        },
        "9ccb6c22748c45578b1137da50dee0eb": {
          "model_module": "@jupyter-widgets/controls",
          "model_name": "ProgressStyleModel",
          "model_module_version": "1.5.0",
          "state": {
            "_model_module": "@jupyter-widgets/controls",
            "_model_module_version": "1.5.0",
            "_model_name": "ProgressStyleModel",
            "_view_count": null,
            "_view_module": "@jupyter-widgets/base",
            "_view_module_version": "1.2.0",
            "_view_name": "StyleView",
            "bar_color": null,
            "description_width": ""
          }
        },
        "e59177f42d8c414c845c95b6b0af6fde": {
          "model_module": "@jupyter-widgets/base",
          "model_name": "LayoutModel",
          "model_module_version": "1.2.0",
          "state": {
            "_model_module": "@jupyter-widgets/base",
            "_model_module_version": "1.2.0",
            "_model_name": "LayoutModel",
            "_view_count": null,
            "_view_module": "@jupyter-widgets/base",
            "_view_module_version": "1.2.0",
            "_view_name": "LayoutView",
            "align_content": null,
            "align_items": null,
            "align_self": null,
            "border": null,
            "bottom": null,
            "display": null,
            "flex": null,
            "flex_flow": null,
            "grid_area": null,
            "grid_auto_columns": null,
            "grid_auto_flow": null,
            "grid_auto_rows": null,
            "grid_column": null,
            "grid_gap": null,
            "grid_row": null,
            "grid_template_areas": null,
            "grid_template_columns": null,
            "grid_template_rows": null,
            "height": null,
            "justify_content": null,
            "justify_items": null,
            "left": null,
            "margin": null,
            "max_height": null,
            "max_width": null,
            "min_height": null,
            "min_width": null,
            "object_fit": null,
            "object_position": null,
            "order": null,
            "overflow": null,
            "overflow_x": null,
            "overflow_y": null,
            "padding": null,
            "right": null,
            "top": null,
            "visibility": null,
            "width": null
          }
        },
        "da138b805f654584ace5050ca17236eb": {
          "model_module": "@jupyter-widgets/controls",
          "model_name": "DescriptionStyleModel",
          "model_module_version": "1.5.0",
          "state": {
            "_model_module": "@jupyter-widgets/controls",
            "_model_module_version": "1.5.0",
            "_model_name": "DescriptionStyleModel",
            "_view_count": null,
            "_view_module": "@jupyter-widgets/base",
            "_view_module_version": "1.2.0",
            "_view_name": "StyleView",
            "description_width": ""
          }
        },
        "84d7a4a7f4d74dce9a1d7716f9116ac2": {
          "model_module": "@jupyter-widgets/controls",
          "model_name": "HBoxModel",
          "model_module_version": "1.5.0",
          "state": {
            "_dom_classes": [],
            "_model_module": "@jupyter-widgets/controls",
            "_model_module_version": "1.5.0",
            "_model_name": "HBoxModel",
            "_view_count": null,
            "_view_module": "@jupyter-widgets/controls",
            "_view_module_version": "1.5.0",
            "_view_name": "HBoxView",
            "box_style": "",
            "children": [
              "IPY_MODEL_4f19133d1b944e9782407603c1b82dca",
              "IPY_MODEL_9772f9f77bd040e0a96929fd9ff69b82",
              "IPY_MODEL_f519edb300844009ac0ede2ddfd9e1fd"
            ],
            "layout": "IPY_MODEL_ccd05b72d74d438b953f5c5b77ccea9b"
          }
        },
        "4f19133d1b944e9782407603c1b82dca": {
          "model_module": "@jupyter-widgets/controls",
          "model_name": "HTMLModel",
          "model_module_version": "1.5.0",
          "state": {
            "_dom_classes": [],
            "_model_module": "@jupyter-widgets/controls",
            "_model_module_version": "1.5.0",
            "_model_name": "HTMLModel",
            "_view_count": null,
            "_view_module": "@jupyter-widgets/controls",
            "_view_module_version": "1.5.0",
            "_view_name": "HTMLView",
            "description": "",
            "description_tooltip": null,
            "layout": "IPY_MODEL_ebe3e9c3e11b4d0880ce17a9559fd3ab",
            "placeholder": "​",
            "style": "IPY_MODEL_85995ac89d844274bcc185b94a4fa9f3",
            "value": "Cross-Validating: 100%"
          }
        },
        "9772f9f77bd040e0a96929fd9ff69b82": {
          "model_module": "@jupyter-widgets/controls",
          "model_name": "FloatProgressModel",
          "model_module_version": "1.5.0",
          "state": {
            "_dom_classes": [],
            "_model_module": "@jupyter-widgets/controls",
            "_model_module_version": "1.5.0",
            "_model_name": "FloatProgressModel",
            "_view_count": null,
            "_view_module": "@jupyter-widgets/controls",
            "_view_module_version": "1.5.0",
            "_view_name": "ProgressView",
            "bar_style": "",
            "description": "",
            "description_tooltip": null,
            "layout": "IPY_MODEL_50fc1593c7de4366abdc4c9aa16b55fd",
            "max": 5,
            "min": 0,
            "orientation": "horizontal",
            "style": "IPY_MODEL_c79e467ca9c34479a67313ef7d74dbe6",
            "value": 5
          }
        },
        "f519edb300844009ac0ede2ddfd9e1fd": {
          "model_module": "@jupyter-widgets/controls",
          "model_name": "HTMLModel",
          "model_module_version": "1.5.0",
          "state": {
            "_dom_classes": [],
            "_model_module": "@jupyter-widgets/controls",
            "_model_module_version": "1.5.0",
            "_model_name": "HTMLModel",
            "_view_count": null,
            "_view_module": "@jupyter-widgets/controls",
            "_view_module_version": "1.5.0",
            "_view_name": "HTMLView",
            "description": "",
            "description_tooltip": null,
            "layout": "IPY_MODEL_c03e007a5e0c432f90fe16878766cb47",
            "placeholder": "​",
            "style": "IPY_MODEL_d24e5e7fdf49496b8bcc7d633f0b8a77",
            "value": " 5/5 [01:22&lt;00:00, 16.10s/it]"
          }
        },
        "ccd05b72d74d438b953f5c5b77ccea9b": {
          "model_module": "@jupyter-widgets/base",
          "model_name": "LayoutModel",
          "model_module_version": "1.2.0",
          "state": {
            "_model_module": "@jupyter-widgets/base",
            "_model_module_version": "1.2.0",
            "_model_name": "LayoutModel",
            "_view_count": null,
            "_view_module": "@jupyter-widgets/base",
            "_view_module_version": "1.2.0",
            "_view_name": "LayoutView",
            "align_content": null,
            "align_items": null,
            "align_self": null,
            "border": null,
            "bottom": null,
            "display": null,
            "flex": null,
            "flex_flow": null,
            "grid_area": null,
            "grid_auto_columns": null,
            "grid_auto_flow": null,
            "grid_auto_rows": null,
            "grid_column": null,
            "grid_gap": null,
            "grid_row": null,
            "grid_template_areas": null,
            "grid_template_columns": null,
            "grid_template_rows": null,
            "height": null,
            "justify_content": null,
            "justify_items": null,
            "left": null,
            "margin": null,
            "max_height": null,
            "max_width": null,
            "min_height": null,
            "min_width": null,
            "object_fit": null,
            "object_position": null,
            "order": null,
            "overflow": null,
            "overflow_x": null,
            "overflow_y": null,
            "padding": null,
            "right": null,
            "top": null,
            "visibility": "hidden",
            "width": null
          }
        },
        "ebe3e9c3e11b4d0880ce17a9559fd3ab": {
          "model_module": "@jupyter-widgets/base",
          "model_name": "LayoutModel",
          "model_module_version": "1.2.0",
          "state": {
            "_model_module": "@jupyter-widgets/base",
            "_model_module_version": "1.2.0",
            "_model_name": "LayoutModel",
            "_view_count": null,
            "_view_module": "@jupyter-widgets/base",
            "_view_module_version": "1.2.0",
            "_view_name": "LayoutView",
            "align_content": null,
            "align_items": null,
            "align_self": null,
            "border": null,
            "bottom": null,
            "display": null,
            "flex": null,
            "flex_flow": null,
            "grid_area": null,
            "grid_auto_columns": null,
            "grid_auto_flow": null,
            "grid_auto_rows": null,
            "grid_column": null,
            "grid_gap": null,
            "grid_row": null,
            "grid_template_areas": null,
            "grid_template_columns": null,
            "grid_template_rows": null,
            "height": null,
            "justify_content": null,
            "justify_items": null,
            "left": null,
            "margin": null,
            "max_height": null,
            "max_width": null,
            "min_height": null,
            "min_width": null,
            "object_fit": null,
            "object_position": null,
            "order": null,
            "overflow": null,
            "overflow_x": null,
            "overflow_y": null,
            "padding": null,
            "right": null,
            "top": null,
            "visibility": null,
            "width": null
          }
        },
        "85995ac89d844274bcc185b94a4fa9f3": {
          "model_module": "@jupyter-widgets/controls",
          "model_name": "DescriptionStyleModel",
          "model_module_version": "1.5.0",
          "state": {
            "_model_module": "@jupyter-widgets/controls",
            "_model_module_version": "1.5.0",
            "_model_name": "DescriptionStyleModel",
            "_view_count": null,
            "_view_module": "@jupyter-widgets/base",
            "_view_module_version": "1.2.0",
            "_view_name": "StyleView",
            "description_width": ""
          }
        },
        "50fc1593c7de4366abdc4c9aa16b55fd": {
          "model_module": "@jupyter-widgets/base",
          "model_name": "LayoutModel",
          "model_module_version": "1.2.0",
          "state": {
            "_model_module": "@jupyter-widgets/base",
            "_model_module_version": "1.2.0",
            "_model_name": "LayoutModel",
            "_view_count": null,
            "_view_module": "@jupyter-widgets/base",
            "_view_module_version": "1.2.0",
            "_view_name": "LayoutView",
            "align_content": null,
            "align_items": null,
            "align_self": null,
            "border": null,
            "bottom": null,
            "display": null,
            "flex": null,
            "flex_flow": null,
            "grid_area": null,
            "grid_auto_columns": null,
            "grid_auto_flow": null,
            "grid_auto_rows": null,
            "grid_column": null,
            "grid_gap": null,
            "grid_row": null,
            "grid_template_areas": null,
            "grid_template_columns": null,
            "grid_template_rows": null,
            "height": null,
            "justify_content": null,
            "justify_items": null,
            "left": null,
            "margin": null,
            "max_height": null,
            "max_width": null,
            "min_height": null,
            "min_width": null,
            "object_fit": null,
            "object_position": null,
            "order": null,
            "overflow": null,
            "overflow_x": null,
            "overflow_y": null,
            "padding": null,
            "right": null,
            "top": null,
            "visibility": null,
            "width": null
          }
        },
        "c79e467ca9c34479a67313ef7d74dbe6": {
          "model_module": "@jupyter-widgets/controls",
          "model_name": "ProgressStyleModel",
          "model_module_version": "1.5.0",
          "state": {
            "_model_module": "@jupyter-widgets/controls",
            "_model_module_version": "1.5.0",
            "_model_name": "ProgressStyleModel",
            "_view_count": null,
            "_view_module": "@jupyter-widgets/base",
            "_view_module_version": "1.2.0",
            "_view_name": "StyleView",
            "bar_color": null,
            "description_width": ""
          }
        },
        "c03e007a5e0c432f90fe16878766cb47": {
          "model_module": "@jupyter-widgets/base",
          "model_name": "LayoutModel",
          "model_module_version": "1.2.0",
          "state": {
            "_model_module": "@jupyter-widgets/base",
            "_model_module_version": "1.2.0",
            "_model_name": "LayoutModel",
            "_view_count": null,
            "_view_module": "@jupyter-widgets/base",
            "_view_module_version": "1.2.0",
            "_view_name": "LayoutView",
            "align_content": null,
            "align_items": null,
            "align_self": null,
            "border": null,
            "bottom": null,
            "display": null,
            "flex": null,
            "flex_flow": null,
            "grid_area": null,
            "grid_auto_columns": null,
            "grid_auto_flow": null,
            "grid_auto_rows": null,
            "grid_column": null,
            "grid_gap": null,
            "grid_row": null,
            "grid_template_areas": null,
            "grid_template_columns": null,
            "grid_template_rows": null,
            "height": null,
            "justify_content": null,
            "justify_items": null,
            "left": null,
            "margin": null,
            "max_height": null,
            "max_width": null,
            "min_height": null,
            "min_width": null,
            "object_fit": null,
            "object_position": null,
            "order": null,
            "overflow": null,
            "overflow_x": null,
            "overflow_y": null,
            "padding": null,
            "right": null,
            "top": null,
            "visibility": null,
            "width": null
          }
        },
        "d24e5e7fdf49496b8bcc7d633f0b8a77": {
          "model_module": "@jupyter-widgets/controls",
          "model_name": "DescriptionStyleModel",
          "model_module_version": "1.5.0",
          "state": {
            "_model_module": "@jupyter-widgets/controls",
            "_model_module_version": "1.5.0",
            "_model_name": "DescriptionStyleModel",
            "_view_count": null,
            "_view_module": "@jupyter-widgets/base",
            "_view_module_version": "1.2.0",
            "_view_name": "StyleView",
            "description_width": ""
          }
        }
      }
    },
    "accelerator": "GPU"
  },
  "cells": [
    {
      "cell_type": "markdown",
      "metadata": {
        "id": "FYqkXcokQGt1"
      },
      "source": [
        "# **Notebook C**: Patent Classification with CNN\n",
        "----\n",
        "\n"
      ]
    },
    {
      "cell_type": "code",
      "source": [
        "from google.colab import drive\n",
        "drive.mount('/content/drive')\n",
        "\n",
        "import os\n",
        "DEFAULT_ROOT = \"/content/drive/MyDrive/USPTO_data\"   # 你要用的根目录\n",
        "EMB_DIR = os.path.join(DEFAULT_ROOT, \"Embeddings\")\n",
        "os.makedirs(EMB_DIR, exist_ok=True)\n",
        "\n",
        "print(\"DEFAULT_ROOT:\", DEFAULT_ROOT)\n",
        "print(\"EMBEDDINGS DIR:\", EMB_DIR)\n"
      ],
      "metadata": {
        "id": "EEKEeJVrzWBh",
        "outputId": "41d494e5-6b0a-4ff3-e827-940089fba6f0",
        "colab": {
          "base_uri": "https://localhost:8080/",
          "height": 373
        }
      },
      "execution_count": 15,
      "outputs": [
        {
          "output_type": "error",
          "ename": "MessageError",
          "evalue": "Error: credential propagation was unsuccessful",
          "traceback": [
            "\u001b[0;31m---------------------------------------------------------------------------\u001b[0m",
            "\u001b[0;31mMessageError\u001b[0m                              Traceback (most recent call last)",
            "\u001b[0;32m/tmp/ipython-input-1973825487.py\u001b[0m in \u001b[0;36m<cell line: 0>\u001b[0;34m()\u001b[0m\n\u001b[1;32m      1\u001b[0m \u001b[0;32mfrom\u001b[0m \u001b[0mgoogle\u001b[0m\u001b[0;34m.\u001b[0m\u001b[0mcolab\u001b[0m \u001b[0;32mimport\u001b[0m \u001b[0mdrive\u001b[0m\u001b[0;34m\u001b[0m\u001b[0;34m\u001b[0m\u001b[0m\n\u001b[0;32m----> 2\u001b[0;31m \u001b[0mdrive\u001b[0m\u001b[0;34m.\u001b[0m\u001b[0mmount\u001b[0m\u001b[0;34m(\u001b[0m\u001b[0;34m'/content/drive'\u001b[0m\u001b[0;34m)\u001b[0m\u001b[0;34m\u001b[0m\u001b[0;34m\u001b[0m\u001b[0m\n\u001b[0m\u001b[1;32m      3\u001b[0m \u001b[0;34m\u001b[0m\u001b[0m\n\u001b[1;32m      4\u001b[0m \u001b[0;32mimport\u001b[0m \u001b[0mos\u001b[0m\u001b[0;34m\u001b[0m\u001b[0;34m\u001b[0m\u001b[0m\n\u001b[1;32m      5\u001b[0m \u001b[0mDEFAULT_ROOT\u001b[0m \u001b[0;34m=\u001b[0m \u001b[0;34m\"/content/drive/MyDrive/USPTO_data\"\u001b[0m   \u001b[0;31m# 你要用的根目录\u001b[0m\u001b[0;34m\u001b[0m\u001b[0;34m\u001b[0m\u001b[0m\n",
            "\u001b[0;32m/usr/local/lib/python3.12/dist-packages/google/colab/drive.py\u001b[0m in \u001b[0;36mmount\u001b[0;34m(mountpoint, force_remount, timeout_ms, readonly)\u001b[0m\n\u001b[1;32m     95\u001b[0m \u001b[0;32mdef\u001b[0m \u001b[0mmount\u001b[0m\u001b[0;34m(\u001b[0m\u001b[0mmountpoint\u001b[0m\u001b[0;34m,\u001b[0m \u001b[0mforce_remount\u001b[0m\u001b[0;34m=\u001b[0m\u001b[0;32mFalse\u001b[0m\u001b[0;34m,\u001b[0m \u001b[0mtimeout_ms\u001b[0m\u001b[0;34m=\u001b[0m\u001b[0;36m120000\u001b[0m\u001b[0;34m,\u001b[0m \u001b[0mreadonly\u001b[0m\u001b[0;34m=\u001b[0m\u001b[0;32mFalse\u001b[0m\u001b[0;34m)\u001b[0m\u001b[0;34m:\u001b[0m\u001b[0;34m\u001b[0m\u001b[0;34m\u001b[0m\u001b[0m\n\u001b[1;32m     96\u001b[0m   \u001b[0;34m\"\"\"Mount your Google Drive at the specified mountpoint path.\"\"\"\u001b[0m\u001b[0;34m\u001b[0m\u001b[0;34m\u001b[0m\u001b[0m\n\u001b[0;32m---> 97\u001b[0;31m   return _mount(\n\u001b[0m\u001b[1;32m     98\u001b[0m       \u001b[0mmountpoint\u001b[0m\u001b[0;34m,\u001b[0m\u001b[0;34m\u001b[0m\u001b[0;34m\u001b[0m\u001b[0m\n\u001b[1;32m     99\u001b[0m       \u001b[0mforce_remount\u001b[0m\u001b[0;34m=\u001b[0m\u001b[0mforce_remount\u001b[0m\u001b[0;34m,\u001b[0m\u001b[0;34m\u001b[0m\u001b[0;34m\u001b[0m\u001b[0m\n",
            "\u001b[0;32m/usr/local/lib/python3.12/dist-packages/google/colab/drive.py\u001b[0m in \u001b[0;36m_mount\u001b[0;34m(mountpoint, force_remount, timeout_ms, ephemeral, readonly)\u001b[0m\n\u001b[1;32m    132\u001b[0m   )\n\u001b[1;32m    133\u001b[0m   \u001b[0;32mif\u001b[0m \u001b[0mephemeral\u001b[0m\u001b[0;34m:\u001b[0m\u001b[0;34m\u001b[0m\u001b[0;34m\u001b[0m\u001b[0m\n\u001b[0;32m--> 134\u001b[0;31m     _message.blocking_request(\n\u001b[0m\u001b[1;32m    135\u001b[0m         \u001b[0;34m'request_auth'\u001b[0m\u001b[0;34m,\u001b[0m\u001b[0;34m\u001b[0m\u001b[0;34m\u001b[0m\u001b[0m\n\u001b[1;32m    136\u001b[0m         \u001b[0mrequest\u001b[0m\u001b[0;34m=\u001b[0m\u001b[0;34m{\u001b[0m\u001b[0;34m'authType'\u001b[0m\u001b[0;34m:\u001b[0m \u001b[0;34m'dfs_ephemeral'\u001b[0m\u001b[0;34m}\u001b[0m\u001b[0;34m,\u001b[0m\u001b[0;34m\u001b[0m\u001b[0;34m\u001b[0m\u001b[0m\n",
            "\u001b[0;32m/usr/local/lib/python3.12/dist-packages/google/colab/_message.py\u001b[0m in \u001b[0;36mblocking_request\u001b[0;34m(request_type, request, timeout_sec, parent)\u001b[0m\n\u001b[1;32m    174\u001b[0m       \u001b[0mrequest_type\u001b[0m\u001b[0;34m,\u001b[0m \u001b[0mrequest\u001b[0m\u001b[0;34m,\u001b[0m \u001b[0mparent\u001b[0m\u001b[0;34m=\u001b[0m\u001b[0mparent\u001b[0m\u001b[0;34m,\u001b[0m \u001b[0mexpect_reply\u001b[0m\u001b[0;34m=\u001b[0m\u001b[0;32mTrue\u001b[0m\u001b[0;34m\u001b[0m\u001b[0;34m\u001b[0m\u001b[0m\n\u001b[1;32m    175\u001b[0m   )\n\u001b[0;32m--> 176\u001b[0;31m   \u001b[0;32mreturn\u001b[0m \u001b[0mread_reply_from_input\u001b[0m\u001b[0;34m(\u001b[0m\u001b[0mrequest_id\u001b[0m\u001b[0;34m,\u001b[0m \u001b[0mtimeout_sec\u001b[0m\u001b[0;34m)\u001b[0m\u001b[0;34m\u001b[0m\u001b[0;34m\u001b[0m\u001b[0m\n\u001b[0m",
            "\u001b[0;32m/usr/local/lib/python3.12/dist-packages/google/colab/_message.py\u001b[0m in \u001b[0;36mread_reply_from_input\u001b[0;34m(message_id, timeout_sec)\u001b[0m\n\u001b[1;32m    101\u001b[0m     ):\n\u001b[1;32m    102\u001b[0m       \u001b[0;32mif\u001b[0m \u001b[0;34m'error'\u001b[0m \u001b[0;32min\u001b[0m \u001b[0mreply\u001b[0m\u001b[0;34m:\u001b[0m\u001b[0;34m\u001b[0m\u001b[0;34m\u001b[0m\u001b[0m\n\u001b[0;32m--> 103\u001b[0;31m         \u001b[0;32mraise\u001b[0m \u001b[0mMessageError\u001b[0m\u001b[0;34m(\u001b[0m\u001b[0mreply\u001b[0m\u001b[0;34m[\u001b[0m\u001b[0;34m'error'\u001b[0m\u001b[0;34m]\u001b[0m\u001b[0;34m)\u001b[0m\u001b[0;34m\u001b[0m\u001b[0;34m\u001b[0m\u001b[0m\n\u001b[0m\u001b[1;32m    104\u001b[0m       \u001b[0;32mreturn\u001b[0m \u001b[0mreply\u001b[0m\u001b[0;34m.\u001b[0m\u001b[0mget\u001b[0m\u001b[0;34m(\u001b[0m\u001b[0;34m'data'\u001b[0m\u001b[0;34m,\u001b[0m \u001b[0;32mNone\u001b[0m\u001b[0;34m)\u001b[0m\u001b[0;34m\u001b[0m\u001b[0;34m\u001b[0m\u001b[0m\n\u001b[1;32m    105\u001b[0m \u001b[0;34m\u001b[0m\u001b[0m\n",
            "\u001b[0;31mMessageError\u001b[0m: Error: credential propagation was unsuccessful"
          ]
        }
      ]
    },
    {
      "cell_type": "code",
      "source": [
        "%%bash\n",
        "EMB_DIR=\"/content/drive/MyDrive/USPTO_data/Embeddings\"\n",
        "mkdir -p \"$EMB_DIR\"\n",
        "wget -c http://nlp.stanford.edu/data/glove.6B.zip -O /content/glove.6B.zip\n",
        "unzip -o /content/glove.6B.zip -d /content/glove6B\n",
        "mv -f /content/glove6B/glove.6B.50d.txt \"$EMB_DIR/glove.6B.50d.txt\"\n",
        "ls -lh \"$EMB_DIR/glove.6B.50d.txt\"\n"
      ],
      "metadata": {
        "id": "_XvjGC3GzXDs"
      },
      "execution_count": null,
      "outputs": []
    },
    {
      "cell_type": "code",
      "source": [
        "%%bash\n",
        "EMB_DIR=\"/content/drive/MyDrive/USPTO_data/Embeddings\"\n",
        "wget -c http://nlp.stanford.edu/data/glove.840B.300d.zip -O /content/glove.840B.300d.zip\n",
        "unzip -o /content/glove.840B.300d.zip -d /content\n",
        "mv -f /content/glove.840B.300d.txt \"$EMB_DIR/glove.840B.300d.txt\"\n",
        "ls -lh \"$EMB_DIR/glove.840B.300d.txt\"\n"
      ],
      "metadata": {
        "id": "S8gcHT4QzZ0z"
      },
      "execution_count": null,
      "outputs": []
    },
    {
      "cell_type": "code",
      "source": [
        "%%bash\n",
        "EMB_DIR=\"/content/drive/MyDrive/USPTO_data/Embeddings\"\n",
        "wget -c https://dl.fbaipublicfiles.com/fasttext/vectors-english/wiki-news-300d-1M.vec.zip -O /content/wiki-news-300d-1M.vec.zip\n",
        "unzip -o /content/wiki-news-300d-1M.vec.zip -d /content\n",
        "mv -f /content/wiki-news-300d-1M.vec \"$EMB_DIR/FastText.en.300.vec\"\n",
        "ls -lh \"$EMB_DIR/FastText.en.300.vec\"\n"
      ],
      "metadata": {
        "id": "UdZrZ8zDzbUc"
      },
      "execution_count": null,
      "outputs": []
    },
    {
      "cell_type": "code",
      "source": [
        "!pip -q install gensim textblob nltk\n",
        "import os, re, pandas as pd, nltk\n",
        "from textblob import TextBlob\n",
        "from nltk.stem import PorterStemmer\n",
        "from gensim.models import Word2Vec\n",
        "from gensim.models.phrases import Phrases, Phraser\n",
        "\n",
        "for pkg in [\"punkt\", \"punkt_tab\"]:\n",
        "    try: nltk.data.find(f\"tokenizers/{pkg}\")\n",
        "    except LookupError:\n",
        "        try: nltk.download(pkg, quiet=True)\n",
        "        except: pass\n",
        "\n",
        "data_path = os.path.join(DEFAULT_ROOT, \"Training Data\", \"4K Patents - AI 20p.csv\")\n",
        "assert os.path.exists(data_path), f\"训练数据没找到：{data_path}\"\n",
        "df = pd.read_csv(data_path)\n",
        "abstracts = df[\"abstract\"].astype(str).tolist()\n",
        "\n",
        "stemmer = PorterStemmer()\n",
        "def string_cleaner(text: str):\n",
        "    text = (text or \"\").lower()\n",
        "    try:\n",
        "        tokens = TextBlob(text).words\n",
        "        return [t.stem() for t in tokens]\n",
        "    except Exception:\n",
        "        tokens = re.findall(r\"[a-z]+\", text)\n",
        "        return [stemmer.stem(t) for t in tokens]\n",
        "\n",
        "tokens_list = [string_cleaner(x) for x in abstracts]\n",
        "bigram = Phrases(tokens_list, min_count=5, threshold=10)\n",
        "bigram_phraser = Phraser(bigram)\n",
        "tokens_bi = [bigram_phraser[doc] for doc in tokens_list]\n",
        "\n",
        "w2v = Word2Vec(sentences=tokens_bi, vector_size=50, window=5, min_count=5, workers=4, sg=1, epochs=10)\n",
        "out_path = os.path.join(EMB_DIR, \"W2V Pat Abstracts 50 - AI Bigrams[Lemma].txt\")\n",
        "w2v.wv.save_word2vec_format(out_path, binary=False)\n",
        "print(\"自训词向量已保存：\", out_path)\n"
      ],
      "metadata": {
        "id": "011yqByVzcB_"
      },
      "execution_count": null,
      "outputs": []
    },
    {
      "cell_type": "code",
      "source": [
        "must_have = [\n",
        "    \"glove.6B.50d.txt\",\n",
        "    # 如下载了再检查：\n",
        "    # \"glove.840B.300d.txt\",\n",
        "    # \"FastText.en.300.vec\",\n",
        "    \"W2V Pat Abstracts 50 - AI Bigrams[Lemma].txt\",\n",
        "]\n",
        "for fn in must_have:\n",
        "    p = os.path.join(EMB_DIR, fn)\n",
        "    print(\"✔\" if os.path.exists(p) else \"✘\", fn, \"->\", p)\n"
      ],
      "metadata": {
        "id": "L-Pm0yZgzc6m"
      },
      "execution_count": null,
      "outputs": []
    },
    {
      "cell_type": "markdown",
      "metadata": {
        "id": "gAf0Z4gHQOAC"
      },
      "source": [
        "# C.1. Load Packages\n",
        "---"
      ]
    },
    {
      "cell_type": "code",
      "metadata": {
        "id": "tPa6y5QHyKxn"
      },
      "source": [
        "# === Cell 1 ===\n",
        "# === General Packages ===\n",
        "import os\n",
        "import sys\n",
        "import warnings\n",
        "import numpy as np\n",
        "import pandas as pd\n",
        "\n",
        "# Progress bars\n",
        "from tqdm.auto import tqdm\n",
        "\n",
        "# Reproducibility\n",
        "import random\n",
        "import tensorflow as tf\n",
        "tf.random.set_seed(42)\n",
        "np.random.seed(42)\n",
        "random.seed(42)\n",
        "\n",
        "# Sklearn\n",
        "from sklearn.model_selection import StratifiedKFold\n",
        "from sklearn.metrics import (\n",
        "    accuracy_score, roc_auc_score, precision_score, recall_score, f1_score, confusion_matrix\n",
        ")\n",
        "\n",
        "# Keras / TensorFlow (modern APIs)\n",
        "from tensorflow.keras import layers, Sequential\n",
        "from tensorflow.keras.preprocessing.text import Tokenizer\n",
        "from tensorflow.keras.preprocessing.sequence import pad_sequences"
      ],
      "execution_count": 1,
      "outputs": []
    },
    {
      "cell_type": "code",
      "metadata": {
        "id": "5TylwAeOzefE"
      },
      "source": [
        "# Text processing\n",
        "try:\n",
        "    from textblob import TextBlob\n",
        "except ModuleNotFoundError:\n",
        "    raise ModuleNotFoundError(\"TextBlob is required. Install with: pip install textblob\")\n"
      ],
      "execution_count": 2,
      "outputs": []
    },
    {
      "cell_type": "code",
      "metadata": {
        "id": "ENZ0VK8NySIy",
        "outputId": "4931e4d3-100f-4f86-ad38-0c5c4339e2ae",
        "colab": {
          "base_uri": "https://localhost:8080/"
        }
      },
      "source": [
        "# Optional: quiet some warnings\n",
        "warnings.filterwarnings(\"ignore\")\n",
        "print(\"✅ Environment ready (TensorFlow\", tf.__version__, \")\")"
      ],
      "execution_count": 3,
      "outputs": [
        {
          "output_type": "stream",
          "name": "stdout",
          "text": [
            "✅ Environment ready (TensorFlow 2.19.0 )\n"
          ]
        }
      ]
    },
    {
      "cell_type": "code",
      "source": [
        "\n",
        "# === Cell 2 ===\n",
        "# === NLTK tokenizers required by TextBlob ===\n",
        "import nltk\n",
        "# Try to ensure both 'punkt' (older) and 'punkt_tab' (NLTK 3.8+) exist.\n",
        "for pkg in [\"punkt\", \"punkt_tab\"]:\n",
        "    try:\n",
        "        nltk.data.find(f\"tokenizers/{pkg}\")\n",
        "    except LookupError:\n",
        "        try:\n",
        "            nltk.download(pkg, quiet=True)\n",
        "            print(f\"Downloaded NLTK resource: {pkg}\")\n",
        "        except Exception as e:\n",
        "            print(f\"Note: Could not download NLTK resource '{pkg}' ({e}). Will use fallback tokenizer if needed.\")\n"
      ],
      "metadata": {
        "id": "xF0rqC1dqcvN",
        "outputId": "ed378780-53ba-49ea-801f-afd1b609b77a",
        "colab": {
          "base_uri": "https://localhost:8080/"
        }
      },
      "execution_count": 9,
      "outputs": [
        {
          "output_type": "stream",
          "name": "stdout",
          "text": [
            "Downloaded NLTK resource: punkt_tab\n"
          ]
        }
      ]
    },
    {
      "cell_type": "code",
      "metadata": {
        "colab": {
          "base_uri": "https://localhost:8080/"
        },
        "id": "uOs_vBkMyTSV",
        "outputId": "edcf94b5-ccac-48a6-dd48-9e3b01793714"
      },
      "source": [
        "# === (Optional) Mount Google Drive if running in Colab ===\n",
        "try:\n",
        "    from google.colab import drive  # type: ignore\n",
        "    drive.mount(\"/content/drive\")\n",
        "    IN_COLAB = True\n",
        "    print(\"Mounted Google Drive.\")\n",
        "except Exception:\n",
        "    IN_COLAB = False\n",
        "    print(\"Not in Colab; proceeding without Drive mount.\")"
      ],
      "execution_count": 5,
      "outputs": [
        {
          "output_type": "stream",
          "name": "stdout",
          "text": [
            "Mounted at /content/drive\n",
            "Mounted Google Drive.\n"
          ]
        }
      ]
    },
    {
      "cell_type": "markdown",
      "metadata": {
        "id": "qvcRsIMhydat"
      },
      "source": [
        "# C.2. Load Training Data ##\n",
        "----------------\n",
        "\n",
        "We are going to use the data on the Google drive. This is in a csv file, and so we are going to load the data as a dataframe, and then convert the main data (Patent Ids, Indicator for AI / Non-AI, Patent Abstract) from a Pandas DataFrame to a list (which is more easily used in later sections)."
      ]
    },
    {
      "cell_type": "code",
      "metadata": {
        "id": "db2hTpK8yVV7",
        "outputId": "e973cd89-b8e2-4e0e-c6db-456901412af3",
        "colab": {
          "base_uri": "https://localhost:8080/"
        }
      },
      "source": [
        "# === Working Directory & Data Loading ===\n",
        "# Adjust this path to your own folder structure\n",
        "DEFAULT_ROOT = \"/content/drive/MyDrive/USPTO_data/\" if IN_COLAB else os.getcwd()\n",
        "\n",
        "data_path = os.path.join(DEFAULT_ROOT, \"Training_Data\", \"4K Patents - AI 20p.csv\")\n",
        "if not os.path.exists(data_path):\n",
        "    print(\"⚠️ Could not find the training data at:\", data_path)\n",
        "    print(\"   Update `data_path` to point to your CSV file.\")\n",
        "else:\n",
        "    print(\"Loading:\", data_path)\n",
        "\n",
        "TrainingData = pd.read_csv(data_path)\n",
        "\n",
        "# Store Data in Lists for Text Classification\n",
        "IDs = np.array(TrainingData['app number'].values.tolist())\n",
        "Abstract_Text = TrainingData['abstract'].astype(str).values.tolist()\n",
        "Classes = TrainingData['actual'].astype(int).values.tolist()\n",
        "\n",
        "print(f\"Loaded {len(Classes)} records.\")"
      ],
      "execution_count": 6,
      "outputs": [
        {
          "output_type": "stream",
          "name": "stdout",
          "text": [
            "Loading: /content/drive/MyDrive/USPTO_data/Training_Data/4K Patents - AI 20p.csv\n",
            "Loaded 4000 records.\n"
          ]
        }
      ]
    },
    {
      "cell_type": "code",
      "metadata": {
        "id": "NC6OcdTMyf4E"
      },
      "source": [
        "# === Tokenizer & String Cleaner ===\n",
        "n_words = 2000  # vocabulary cap for tokenizer\n",
        "\n",
        "# Keras tokenizer\n",
        "tokenizer = Tokenizer(\n",
        "    num_words=n_words,\n",
        "    lower=True,\n",
        "    filters='!\"#$%&()*+,-./:;<=>?@[\\\\]^`{|}~\\\\t\\\\n',\n",
        "    char_level=False\n",
        ")\n",
        "\n",
        "# Text cleaner: stem words using TextBlob (as in original)\n",
        "def string_cleaner(str_input: str):\n",
        "    blob = TextBlob(str_input.lower())\n",
        "    tokens = blob.words\n",
        "    words = [token.stem() for token in tokens]\n",
        "    # If you prefer full words (no stemming), use:\n",
        "    # words = [token for token in tokens]\n",
        "    return words\n"
      ],
      "execution_count": 7,
      "outputs": []
    },
    {
      "cell_type": "code",
      "metadata": {
        "id": "Avx5mdheTI9G",
        "outputId": "1049d5a6-8bba-46be-fa44-f6e904028a4a",
        "colab": {
          "base_uri": "https://localhost:8080/"
        }
      },
      "source": [
        "# === Preprocess abstracts & fit tokenizer ===\n",
        "Abstracts_Lemmatized = []\n",
        "for x in Abstract_Text:\n",
        "    segments = string_cleaner(x)\n",
        "    Abstracts_Lemmatized.append(\" \".join(segments))\n",
        "\n",
        "Abstracts = Abstracts_Lemmatized\n",
        "\n",
        "# Fit tokenizer to get word index\n",
        "tokenizer.fit_on_texts(Abstracts)\n",
        "vocab_size = len(tokenizer.word_index) + 1\n",
        "print(\"Vocabulary size:\", vocab_size)\n"
      ],
      "execution_count": 10,
      "outputs": [
        {
          "output_type": "stream",
          "name": "stdout",
          "text": [
            "Vocabulary size: 6301\n"
          ]
        }
      ]
    },
    {
      "cell_type": "markdown",
      "metadata": {
        "id": "1ToHyYyAoyvm"
      },
      "source": [
        "Once we have the list of words that occur in our corpus of abstracts (i.e. word index), then we can try to map those words to embedding vectors. Below we define the functions that will go through each of the words in our word index and extract the coresponding embedding vector and save it to an embedding matrix that will be used as a layer in a subsequent convolutional neural network (CNN) model."
      ]
    },
    {
      "cell_type": "code",
      "metadata": {
        "id": "YzM8h0SPS8j1"
      },
      "source": [
        "# === Embedding Matrix Helpers ===\n",
        "def create_embedding_matrix(filepath, word_index, embedding_dim):\n",
        "    \"\"\"Create embedding matrix from a text embedding file (e.g., GloVe).\"\"\"\n",
        "    vocab_size = len(word_index) + 1  # reserve 0 for padding\n",
        "    embedding_matrix = np.zeros((vocab_size, embedding_dim), dtype=np.float32)\n",
        "\n",
        "    with open(filepath, \"r\", encoding=\"utf-8\") as f:\n",
        "        for line in f:\n",
        "            parts = line.rstrip().split()\n",
        "            if len(parts) <= embedding_dim:\n",
        "                continue\n",
        "            word = parts[0]\n",
        "            vector = np.asarray(parts[1:1+embedding_dim], dtype=np.float32)\n",
        "            idx = word_index.get(word)\n",
        "            if idx is not None and idx < vocab_size:\n",
        "                embedding_matrix[idx] = vector\n",
        "    return embedding_matrix\n",
        "\n",
        "def create_empty_matrix(word_index, embedding_dim):\n",
        "    \"\"\"Create an embedding matrix initialized to ones (no external embeddings).\"\"\"\n",
        "    vocab_size = len(word_index) + 1\n",
        "    return np.ones((vocab_size, embedding_dim), dtype=np.float32)"
      ],
      "execution_count": 11,
      "outputs": []
    },
    {
      "cell_type": "code",
      "metadata": {
        "id": "ibE9_8EDTMDu"
      },
      "source": [
        "# === Embedding Configurations ===\n",
        "# Name, path, embedding_dim\n",
        "CLASSIFIERS = [\n",
        "    [\"No Embeddings\", \"NONE\", 50],\n",
        "    [\"GLOVE (6B - 50)\", os.path.join(DEFAULT_ROOT, \"Embeddings\", \"glove.6B.50d.txt\"), 50],\n",
        "    [\"GLOVE (840B - 300)\", os.path.join(DEFAULT_ROOT, \"Embeddings\", \"glove.840B.300d.txt\"), 300],\n",
        "    [\"Doc2Vec USPTO Patent Embeddings\", os.path.join(DEFAULT_ROOT, \"Embeddings\", \"W2V Pat Abstracts 50 - AI Bigrams[Lemma].txt\"), 50],\n",
        "    [\"FastText\", os.path.join(DEFAULT_ROOT, \"Embeddings\", \"FastText.en.300.vec\"), 300],\n",
        "]\n",
        "\n"
      ],
      "execution_count": 12,
      "outputs": []
    },
    {
      "cell_type": "code",
      "metadata": {
        "colab": {
          "base_uri": "https://localhost:8080/",
          "height": 288,
          "referenced_widgets": [
            "5b2f8646c4b24a3d8ed3ece2e211b91f",
            "ec23685a6aef4a0a9c4b7323fa63e9d5",
            "271602a2123e4a6c85a2d80a47c8a173",
            "5a957da3fd804d748d34cdae17acac2b",
            "d50d6ec7907e4242b2b5be68be381528",
            "9e0be4789cb44835a08c853bcad02824",
            "bb9042510adc4dd6a3bdc8f987c0fca1",
            "6257857e1085414fa17a7b01e405f62e",
            "adc6f382a8364d4b8134a04cc7dd30a6",
            "90909f28d9ce45c6b22ac5a36c228d1c",
            "799ab32d58534a11a006711455f12670",
            "03ba1f19ab67454fbfc818ba9bc7bad3",
            "5da34c977ba04b66bbd50d1ce84f0b2e",
            "63b16899d1a64cb0beb0b0fa68d28d87",
            "f81339a089924b53951343d151e09213",
            "aef1151bc2d84546bcf845eb316f90c4",
            "64f46a4bcc1749308e07d6af06d378c8",
            "dd465a52fdce48d3a3c941e2db9b389c",
            "3682a6c981334a358faa096f7a774612",
            "9ccb6c22748c45578b1137da50dee0eb",
            "e59177f42d8c414c845c95b6b0af6fde",
            "da138b805f654584ace5050ca17236eb",
            "84d7a4a7f4d74dce9a1d7716f9116ac2",
            "4f19133d1b944e9782407603c1b82dca",
            "9772f9f77bd040e0a96929fd9ff69b82",
            "f519edb300844009ac0ede2ddfd9e1fd",
            "ccd05b72d74d438b953f5c5b77ccea9b",
            "ebe3e9c3e11b4d0880ce17a9559fd3ab",
            "85995ac89d844274bcc185b94a4fa9f3",
            "50fc1593c7de4366abdc4c9aa16b55fd",
            "c79e467ca9c34479a67313ef7d74dbe6",
            "c03e007a5e0c432f90fe16878766cb47",
            "d24e5e7fdf49496b8bcc7d633f0b8a77"
          ]
        },
        "id": "8w-zIZKY7ynz",
        "outputId": "48f7d75d-cdb3-49c6-8c10-f0bc26753e69"
      },
      "source": [
        "# === CNN + LSTM Model Training (Cross-Validation) ===\n",
        "\n",
        "maxlen = 200\n",
        "batch_size = 50\n",
        "epochs = 20\n",
        "NUM_OF_SPLITS = 5\n",
        "\n",
        "# Where to save outputs\n",
        "OUTPUT_DIR_PERF = os.path.join(DEFAULT_ROOT, \"Output\", \"Model Performance\")\n",
        "OUTPUT_DIR_PRED = os.path.join(DEFAULT_ROOT, \"Output\", \"Classification Output\")\n",
        "os.makedirs(OUTPUT_DIR_PERF, exist_ok=True)\n",
        "os.makedirs(OUTPUT_DIR_PRED, exist_ok=True)\n",
        "\n",
        "# Storage\n",
        "RESULTS = []\n",
        "Classified_Values = []\n",
        "\n",
        "for name, emb_path, embedding_dim in tqdm(CLASSIFIERS, desc=\"Loop Through Embeddings\"):\n",
        "    print(f\"\\n=== Training: {name} ===\")\n",
        "\n",
        "    # Prepare sequences for all texts once (we'll pick train/test indices per fold)\n",
        "    sequences = tokenizer.texts_to_sequences(Abstracts)\n",
        "    sequences = pad_sequences(sequences, padding=\"post\", maxlen=maxlen)\n",
        "\n",
        "    # Build the embedding matrix\n",
        "    if emb_path == \"NONE\":\n",
        "        embedding_matrix = create_empty_matrix(tokenizer.word_index, embedding_dim)\n",
        "    else:\n",
        "        if not os.path.exists(emb_path):\n",
        "            print(f\"⚠️  Embedding file not found: {emb_path}. Skipping this embedding.\")\n",
        "            continue\n",
        "        embedding_matrix = create_embedding_matrix(emb_path, tokenizer.word_index, embedding_dim)\n",
        "\n",
        "    y_actual_all = np.array(Classes, dtype=int)\n",
        "    ids_all = np.array(IDs)\n",
        "\n",
        "    y_actual = []\n",
        "    y_predicted = []\n",
        "    y_proba = []\n",
        "    id_s = []\n",
        "\n",
        "    skf = StratifiedKFold(n_splits=NUM_OF_SPLITS, shuffle=True, random_state=42)\n",
        "    for fold_idx, (train_idx, test_idx) in enumerate(tqdm(skf.split(sequences, y_actual_all), total=NUM_OF_SPLITS, leave=False, desc=\"Cross-Validating\"), start=1):\n",
        "        X_train = sequences[train_idx]\n",
        "        X_test = sequences[test_idx]\n",
        "        y_train = y_actual_all[train_idx]\n",
        "        y_test = y_actual_all[test_idx]\n",
        "        Test_IDs = ids_all[test_idx].tolist()\n",
        "\n",
        "        # Build model\n",
        "        model = Sequential()\n",
        "        model.add(layers.Embedding(\n",
        "            input_dim=vocab_size,\n",
        "            output_dim=embedding_dim,\n",
        "            weights=None if emb_path == \"NONE\" else [embedding_matrix],\n",
        "            input_length=maxlen,\n",
        "            trainable=True\n",
        "        ))\n",
        "        model.add(layers.Dropout(0.2))\n",
        "        model.add(layers.Conv1D(filters=64, kernel_size=2, activation=\"relu\"))\n",
        "        model.add(layers.MaxPooling1D(pool_size=4))\n",
        "        # Dense applied timewise over sequence (as in original)\n",
        "        model.add(layers.Dense(512, activation=\"sigmoid\"))\n",
        "        model.add(layers.LSTM(100))\n",
        "        model.add(layers.Dense(1, activation=\"sigmoid\"))\n",
        "\n",
        "        model.compile(\n",
        "            optimizer=\"adam\",\n",
        "            loss=\"binary_crossentropy\",\n",
        "            metrics=[tf.keras.metrics.Recall(name=\"recall\")]\n",
        "        )\n",
        "\n",
        "        model.fit(\n",
        "            X_train, y_train,\n",
        "            batch_size=batch_size,\n",
        "            epochs=epochs,\n",
        "            verbose=0,\n",
        "            validation_data=(X_test, y_test)\n",
        "        )\n",
        "\n",
        "        y_pred_p = model.predict(X_test, verbose=0).ravel()\n",
        "        y_pred = (y_pred_p >= 0.5).astype(int)\n",
        "\n",
        "        # accumulate\n",
        "        y_actual.extend(y_test.tolist())\n",
        "        y_predicted.extend(y_pred.tolist())\n",
        "        y_proba.extend(y_pred_p.tolist())\n",
        "        id_s.extend(Test_IDs)\n",
        "\n",
        "    # After CV: compute metrics\n",
        "    Share = np.round(np.mean(y_predicted), 3)\n",
        "    Accuracy = np.round(accuracy_score(y_actual, y_predicted), 3)\n",
        "    try:\n",
        "        ROC = np.round(roc_auc_score(y_actual, y_proba), 3)  # use probabilities\n",
        "    except Exception:\n",
        "        ROC = np.nan\n",
        "\n",
        "    Precision = np.round(precision_score(y_actual, y_predicted, zero_division=0), 3)\n",
        "    Recall = np.round(recall_score(y_actual, y_predicted, zero_division=0), 3)\n",
        "    F1 = np.round(f1_score(y_actual, y_predicted, zero_division=0), 3)\n",
        "\n",
        "    CM = confusion_matrix(y_actual, y_predicted)\n",
        "    # Protect against zero division\n",
        "    denom_pos = (CM[0][1] + CM[1][1]) if (CM[0][1] + CM[1][1]) > 0 else 1\n",
        "    denom_neg = (CM[0][0] + CM[1][0]) if (CM[0][0] + CM[1][0]) > 0 else 1\n",
        "    FP = np.round(CM[0][1] / denom_pos, 3)\n",
        "    TN = np.round(CM[1][0] / denom_neg, 3)\n",
        "    TP = np.round(CM[1][1] / denom_pos, 3)\n",
        "    FN = np.round(CM[0][0] / denom_neg, 3)\n",
        "\n",
        "    RESULTS.append([name, Share, TP, FN, FP, TN, Accuracy, ROC, Precision, Recall, F1])\n",
        "\n",
        "    # Save per-model classified values\n",
        "    Classified_Values.append(list(zip([name]*len(id_s), id_s, y_actual, y_predicted)))\n"
      ],
      "execution_count": 13,
      "outputs": [
        {
          "output_type": "display_data",
          "data": {
            "text/plain": [
              "Loop Through Embeddings:   0%|          | 0/5 [00:00<?, ?it/s]"
            ],
            "application/vnd.jupyter.widget-view+json": {
              "version_major": 2,
              "version_minor": 0,
              "model_id": "5b2f8646c4b24a3d8ed3ece2e211b91f"
            }
          },
          "metadata": {}
        },
        {
          "output_type": "stream",
          "name": "stdout",
          "text": [
            "\n",
            "=== Training: No Embeddings ===\n"
          ]
        },
        {
          "output_type": "display_data",
          "data": {
            "text/plain": [
              "Cross-Validating:   0%|          | 0/5 [00:00<?, ?it/s]"
            ],
            "application/vnd.jupyter.widget-view+json": {
              "version_major": 2,
              "version_minor": 0,
              "model_id": "03ba1f19ab67454fbfc818ba9bc7bad3"
            }
          },
          "metadata": {}
        },
        {
          "output_type": "stream",
          "name": "stdout",
          "text": [
            "\n",
            "=== Training: GLOVE (6B - 50) ===\n"
          ]
        },
        {
          "output_type": "display_data",
          "data": {
            "text/plain": [
              "Cross-Validating:   0%|          | 0/5 [00:00<?, ?it/s]"
            ],
            "application/vnd.jupyter.widget-view+json": {
              "version_major": 2,
              "version_minor": 0,
              "model_id": "84d7a4a7f4d74dce9a1d7716f9116ac2"
            }
          },
          "metadata": {}
        },
        {
          "output_type": "stream",
          "name": "stdout",
          "text": [
            "\n",
            "=== Training: GLOVE (840B - 300) ===\n",
            "⚠️  Embedding file not found: /content/drive/MyDrive/USPTO_data/Embeddings/glove.840B.300d.txt. Skipping this embedding.\n",
            "\n",
            "=== Training: Doc2Vec USPTO Patent Embeddings ===\n",
            "⚠️  Embedding file not found: /content/drive/MyDrive/USPTO_data/Embeddings/W2V Pat Abstracts 50 - AI Bigrams[Lemma].txt. Skipping this embedding.\n",
            "\n",
            "=== Training: FastText ===\n",
            "⚠️  Embedding file not found: /content/drive/MyDrive/USPTO_data/Embeddings/FastText.en.300.vec. Skipping this embedding.\n"
          ]
        }
      ]
    },
    {
      "cell_type": "code",
      "metadata": {
        "id": "TChVBc8Sy4vp"
      },
      "source": [
        "# === Results Table ===\n",
        "RESULTS_TABLE = pd.DataFrame(\n",
        "    RESULTS,\n",
        "    columns=[\"Name\", \"Share\", \"True-Positives\", \"False-Negatives\", \"False-Positives\",\n",
        "             \"True-Negatives\", \"Accuracy\", \"AUC\", \"Precision\", \"Recall\", \"F1\"]\n",
        ")\n",
        "RESULTS_TABLE[\"Type\"] = \"CNN\"\n",
        "RESULTS_TABLE = RESULTS_TABLE[\n",
        "    [\"Name\", \"Type\", \"Share\", \"True-Positives\", \"False-Negatives\", \"False-Positives\",\n",
        "     \"True-Negatives\", \"Accuracy\", \"AUC\", \"Precision\", \"Recall\", \"F1\"]\n",
        "]\n",
        "\n",
        "perf_path = os.path.join(OUTPUT_DIR_PERF, \"CNN Model Classification Performance.csv\")\n",
        "RESULTS_TABLE.sort_values(\"Accuracy\", ascending=False).to_csv(perf_path, index=False)\n",
        "print(\"Saved performance to:\", perf_path)\n",
        "\n",
        "RESULTS_TABLE.sort_values(\"Accuracy\", ascending=False)"
      ],
      "execution_count": null,
      "outputs": []
    },
    {
      "cell_type": "code",
      "metadata": {
        "id": "jWgFlEeOz037"
      },
      "source": [
        "# === Out-of-sample predictions (per model) wide table ===\n",
        "Final = None\n",
        "for i in range(len(Classified_Values)):\n",
        "    Temp = pd.DataFrame(\n",
        "        Classified_Values[i], columns=[\"Model\", \"id\", \"Actual\", \"Predicted\"]\n",
        "    )\n",
        "    if i == 0:\n",
        "        name = Temp.head(1)[\"Model\"].iloc[0]\n",
        "        Temp = Temp[[\"id\", \"Actual\", \"Predicted\"]].copy()\n",
        "        Temp.columns = [\"id\", \"Actual\", name]\n",
        "        Final = Temp\n",
        "    else:\n",
        "        name = Temp.head(1)[\"Model\"].iloc[0]\n",
        "        Temp = Temp[[\"id\", \"Predicted\"]].copy()\n",
        "        Temp.columns = [\"id\", name]\n",
        "        Final = Final.merge(Temp, on=[\"id\"], how=\"outer\")\n",
        "\n",
        "pred_path = os.path.join(OUTPUT_DIR_PRED, \"CNN Classification Results.csv\")\n",
        "Final.to_csv(pred_path, index=False)\n",
        "print(\"Saved predictions to:\", pred_path)"
      ],
      "execution_count": null,
      "outputs": []
    },
    {
      "cell_type": "code",
      "metadata": {
        "id": "JmuJI-uXJNBD"
      },
      "source": [],
      "execution_count": null,
      "outputs": []
    }
  ]
}